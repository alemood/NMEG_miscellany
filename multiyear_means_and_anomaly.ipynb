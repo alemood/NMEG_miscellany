{
 "metadata": {
  "name": "",
  "signature": "sha256:d799040a9305dd973289cbc981b8af43a0f0c2fdf922218d68cae23b01f6b511"
 },
 "nbformat": 3,
 "nbformat_minor": 0,
 "worksheets": [
  {
   "cells": [
    {
     "cell_type": "code",
     "collapsed": false,
     "input": [
      "import sys\n",
      "sys.path.append( '/home/greg/current/NMEG_utils/py_modules/' )\n",
      "\n",
      "#%matplotlib inline\n",
      "import load_nmeg as ld\n",
      "import transform_nmeg as tr\n",
      "import pandas as pd\n",
      "import numpy as np\n",
      "import matplotlib\n",
      "import matplotlib.pyplot as plt\n",
      "import seaborn as sns\n",
      "import datetime as dt\n",
      "\n",
      "sns.set_style(\"white\")\n",
      "\n",
      "af_path = '/home/greg/sftp/eddyflux/Ameriflux_files/provisional/'\n",
      "fig_path = '/home/greg/current/NMEG_miscellany/figures/multiyear_figs/'"
     ],
     "language": "python",
     "metadata": {},
     "outputs": [],
     "prompt_number": 95
    },
    {
     "cell_type": "code",
     "collapsed": false,
     "input": [
      "start = 2007\n",
      "end = 2014\n",
      "\n",
      "mpj = ld.get_multiyr_aflx( 'US-Mpj', af_path, gapfilled=True, startyear=start, endyear=end)\n",
      "wjs = ld.get_multiyr_aflx( 'US-Wjs', af_path, gapfilled=True, startyear=start, endyear=end)\n",
      "seg = ld.get_multiyr_aflx( 'US-Seg', af_path, gapfilled=True, startyear=start, endyear=end)\n",
      "ses = ld.get_multiyr_aflx( 'US-Ses', af_path, gapfilled=True, startyear=start, endyear=end)\n",
      "vcp = ld.get_multiyr_aflx( 'US-Vcp', af_path, gapfilled=True, startyear=start, endyear=end)\n",
      "vcm = ld.get_multiyr_aflx( 'US-Vcm', af_path, gapfilled=True, startyear=start, endyear=end)"
     ],
     "language": "python",
     "metadata": {},
     "outputs": [
      {
       "output_type": "stream",
       "stream": "stdout",
       "text": [
        "Parsing /home/greg/sftp/eddyflux/Ameriflux_files/provisional/US-Mpj_2007_gapfilled.txt\n",
        "Parsing /home/greg/sftp/eddyflux/Ameriflux_files/provisional/US-Mpj_2008_gapfilled.txt"
       ]
      },
      {
       "output_type": "stream",
       "stream": "stdout",
       "text": [
        "\n",
        "Parsing /home/greg/sftp/eddyflux/Ameriflux_files/provisional/US-Mpj_2009_gapfilled.txt"
       ]
      },
      {
       "output_type": "stream",
       "stream": "stdout",
       "text": [
        "\n",
        "Parsing /home/greg/sftp/eddyflux/Ameriflux_files/provisional/US-Mpj_2010_gapfilled.txt"
       ]
      },
      {
       "output_type": "stream",
       "stream": "stdout",
       "text": [
        "\n",
        "Parsing /home/greg/sftp/eddyflux/Ameriflux_files/provisional/US-Mpj_2011_gapfilled.txt"
       ]
      },
      {
       "output_type": "stream",
       "stream": "stdout",
       "text": [
        "\n",
        "Parsing /home/greg/sftp/eddyflux/Ameriflux_files/provisional/US-Mpj_2012_gapfilled.txt"
       ]
      },
      {
       "output_type": "stream",
       "stream": "stdout",
       "text": [
        "\n",
        "Parsing /home/greg/sftp/eddyflux/Ameriflux_files/provisional/US-Mpj_2013_gapfilled.txt"
       ]
      },
      {
       "output_type": "stream",
       "stream": "stdout",
       "text": [
        "\n",
        "Parsing /home/greg/sftp/eddyflux/Ameriflux_files/provisional/US-Mpj_2014_gapfilled.txt"
       ]
      },
      {
       "output_type": "stream",
       "stream": "stdout",
       "text": [
        "\n",
        "Parsing /home/greg/sftp/eddyflux/Ameriflux_files/provisional/US-Wjs_2007_gapfilled.txt"
       ]
      },
      {
       "output_type": "stream",
       "stream": "stdout",
       "text": [
        "\n",
        "Parsing /home/greg/sftp/eddyflux/Ameriflux_files/provisional/US-Wjs_2008_gapfilled.txt"
       ]
      },
      {
       "output_type": "stream",
       "stream": "stdout",
       "text": [
        "\n",
        "Parsing /home/greg/sftp/eddyflux/Ameriflux_files/provisional/US-Wjs_2009_gapfilled.txt"
       ]
      },
      {
       "output_type": "stream",
       "stream": "stdout",
       "text": [
        "\n",
        "Parsing /home/greg/sftp/eddyflux/Ameriflux_files/provisional/US-Wjs_2010_gapfilled.txt"
       ]
      },
      {
       "output_type": "stream",
       "stream": "stdout",
       "text": [
        "\n",
        "Parsing /home/greg/sftp/eddyflux/Ameriflux_files/provisional/US-Wjs_2011_gapfilled.txt"
       ]
      },
      {
       "output_type": "stream",
       "stream": "stdout",
       "text": [
        "\n",
        "Parsing /home/greg/sftp/eddyflux/Ameriflux_files/provisional/US-Wjs_2012_gapfilled.txt"
       ]
      },
      {
       "output_type": "stream",
       "stream": "stdout",
       "text": [
        "\n",
        "Parsing /home/greg/sftp/eddyflux/Ameriflux_files/provisional/US-Wjs_2013_gapfilled.txt"
       ]
      },
      {
       "output_type": "stream",
       "stream": "stdout",
       "text": [
        "\n",
        "Parsing /home/greg/sftp/eddyflux/Ameriflux_files/provisional/US-Wjs_2014_gapfilled.txt"
       ]
      },
      {
       "output_type": "stream",
       "stream": "stdout",
       "text": [
        "\n",
        "Parsing /home/greg/sftp/eddyflux/Ameriflux_files/provisional/US-Seg_2007_gapfilled.txt"
       ]
      },
      {
       "output_type": "stream",
       "stream": "stdout",
       "text": [
        "\n",
        "Parsing /home/greg/sftp/eddyflux/Ameriflux_files/provisional/US-Seg_2008_gapfilled.txt"
       ]
      },
      {
       "output_type": "stream",
       "stream": "stdout",
       "text": [
        "\n",
        "Parsing /home/greg/sftp/eddyflux/Ameriflux_files/provisional/US-Seg_2009_gapfilled.txt"
       ]
      },
      {
       "output_type": "stream",
       "stream": "stdout",
       "text": [
        "\n",
        "Parsing /home/greg/sftp/eddyflux/Ameriflux_files/provisional/US-Seg_2010_gapfilled.txt"
       ]
      },
      {
       "output_type": "stream",
       "stream": "stdout",
       "text": [
        "\n",
        "Parsing /home/greg/sftp/eddyflux/Ameriflux_files/provisional/US-Seg_2011_gapfilled.txt"
       ]
      },
      {
       "output_type": "stream",
       "stream": "stdout",
       "text": [
        "\n",
        "Parsing /home/greg/sftp/eddyflux/Ameriflux_files/provisional/US-Seg_2012_gapfilled.txt"
       ]
      },
      {
       "output_type": "stream",
       "stream": "stdout",
       "text": [
        "\n",
        "Parsing /home/greg/sftp/eddyflux/Ameriflux_files/provisional/US-Seg_2013_gapfilled.txt"
       ]
      },
      {
       "output_type": "stream",
       "stream": "stdout",
       "text": [
        "\n",
        "Parsing /home/greg/sftp/eddyflux/Ameriflux_files/provisional/US-Seg_2014_gapfilled.txt"
       ]
      },
      {
       "output_type": "stream",
       "stream": "stdout",
       "text": [
        "\n",
        "Parsing /home/greg/sftp/eddyflux/Ameriflux_files/provisional/US-Ses_2007_gapfilled.txt"
       ]
      },
      {
       "output_type": "stream",
       "stream": "stdout",
       "text": [
        "\n",
        "Parsing /home/greg/sftp/eddyflux/Ameriflux_files/provisional/US-Ses_2008_gapfilled.txt"
       ]
      },
      {
       "output_type": "stream",
       "stream": "stdout",
       "text": [
        "\n",
        "Parsing /home/greg/sftp/eddyflux/Ameriflux_files/provisional/US-Ses_2009_gapfilled.txt"
       ]
      },
      {
       "output_type": "stream",
       "stream": "stdout",
       "text": [
        "\n",
        "Parsing /home/greg/sftp/eddyflux/Ameriflux_files/provisional/US-Ses_2010_gapfilled.txt"
       ]
      },
      {
       "output_type": "stream",
       "stream": "stdout",
       "text": [
        "\n",
        "Parsing /home/greg/sftp/eddyflux/Ameriflux_files/provisional/US-Ses_2011_gapfilled.txt"
       ]
      },
      {
       "output_type": "stream",
       "stream": "stdout",
       "text": [
        "\n",
        "Parsing /home/greg/sftp/eddyflux/Ameriflux_files/provisional/US-Ses_2012_gapfilled.txt"
       ]
      },
      {
       "output_type": "stream",
       "stream": "stdout",
       "text": [
        "\n",
        "Parsing /home/greg/sftp/eddyflux/Ameriflux_files/provisional/US-Ses_2013_gapfilled.txt"
       ]
      },
      {
       "output_type": "stream",
       "stream": "stdout",
       "text": [
        "\n",
        "Parsing /home/greg/sftp/eddyflux/Ameriflux_files/provisional/US-Ses_2014_gapfilled.txt"
       ]
      },
      {
       "output_type": "stream",
       "stream": "stdout",
       "text": [
        "\n",
        "Parsing /home/greg/sftp/eddyflux/Ameriflux_files/provisional/US-Vcp_2007_gapfilled.txt"
       ]
      },
      {
       "output_type": "stream",
       "stream": "stdout",
       "text": [
        "\n",
        "Parsing /home/greg/sftp/eddyflux/Ameriflux_files/provisional/US-Vcp_2008_gapfilled.txt"
       ]
      },
      {
       "output_type": "stream",
       "stream": "stdout",
       "text": [
        "\n",
        "Parsing /home/greg/sftp/eddyflux/Ameriflux_files/provisional/US-Vcp_2009_gapfilled.txt"
       ]
      },
      {
       "output_type": "stream",
       "stream": "stdout",
       "text": [
        "\n",
        "Parsing /home/greg/sftp/eddyflux/Ameriflux_files/provisional/US-Vcp_2010_gapfilled.txt"
       ]
      },
      {
       "output_type": "stream",
       "stream": "stdout",
       "text": [
        "\n",
        "Parsing /home/greg/sftp/eddyflux/Ameriflux_files/provisional/US-Vcp_2011_gapfilled.txt"
       ]
      },
      {
       "output_type": "stream",
       "stream": "stdout",
       "text": [
        "\n",
        "Parsing /home/greg/sftp/eddyflux/Ameriflux_files/provisional/US-Vcp_2012_gapfilled.txt"
       ]
      },
      {
       "output_type": "stream",
       "stream": "stdout",
       "text": [
        "\n",
        "Parsing /home/greg/sftp/eddyflux/Ameriflux_files/provisional/US-Vcp_2013_gapfilled.txt"
       ]
      },
      {
       "output_type": "stream",
       "stream": "stdout",
       "text": [
        "\n",
        "Parsing /home/greg/sftp/eddyflux/Ameriflux_files/provisional/US-Vcp_2014_gapfilled.txt"
       ]
      },
      {
       "output_type": "stream",
       "stream": "stdout",
       "text": [
        "\n",
        "Parsing /home/greg/sftp/eddyflux/Ameriflux_files/provisional/US-Vcm_2007_gapfilled.txt"
       ]
      },
      {
       "output_type": "stream",
       "stream": "stdout",
       "text": [
        "\n",
        "Parsing /home/greg/sftp/eddyflux/Ameriflux_files/provisional/US-Vcm_2008_gapfilled.txt"
       ]
      },
      {
       "output_type": "stream",
       "stream": "stdout",
       "text": [
        "\n",
        "Parsing /home/greg/sftp/eddyflux/Ameriflux_files/provisional/US-Vcm_2009_gapfilled.txt"
       ]
      },
      {
       "output_type": "stream",
       "stream": "stdout",
       "text": [
        "\n",
        "Parsing /home/greg/sftp/eddyflux/Ameriflux_files/provisional/US-Vcm_2010_gapfilled.txt"
       ]
      },
      {
       "output_type": "stream",
       "stream": "stdout",
       "text": [
        "\n",
        "Parsing /home/greg/sftp/eddyflux/Ameriflux_files/provisional/US-Vcm_2011_gapfilled.txt"
       ]
      },
      {
       "output_type": "stream",
       "stream": "stdout",
       "text": [
        "\n",
        "Parsing /home/greg/sftp/eddyflux/Ameriflux_files/provisional/US-Vcm_2012_gapfilled.txt"
       ]
      },
      {
       "output_type": "stream",
       "stream": "stdout",
       "text": [
        "\n",
        "Parsing /home/greg/sftp/eddyflux/Ameriflux_files/provisional/US-Vcm_2013_gapfilled.txt"
       ]
      },
      {
       "output_type": "stream",
       "stream": "stdout",
       "text": [
        "\n",
        "Parsing /home/greg/sftp/eddyflux/Ameriflux_files/provisional/US-Vcm_2014_gapfilled.txt"
       ]
      },
      {
       "output_type": "stream",
       "stream": "stdout",
       "text": [
        "\n"
       ]
      }
     ],
     "prompt_number": 2
    },
    {
     "cell_type": "code",
     "collapsed": false,
     "input": [
      "reload(tr)\n",
      "mpj_d = tr.resample_30min_aflx( mpj, \n",
      "            freq='1D', c_fluxes=[ 'GPP', 'RECO', 'FC_F' ], \n",
      "            le_flux=[ 'LE_F' ], avg_cols=[ 'TA_F', 'RH_F', 'SW_IN_F', 'RNET', 'VPD_F' ], \n",
      "            precip_col='P_F' , tair_col='TA_F' )\n",
      "\n",
      "wjs_d = tr.resample_30min_aflx( wjs, \n",
      "            freq='1D', c_fluxes=[ 'GPP', 'RECO', 'FC_F' ], \n",
      "            le_flux=[ 'LE_F' ], avg_cols=[ 'TA_F', 'RH_F', 'SW_IN_F', 'RNET', 'VPD_F' ], \n",
      "            precip_col='P_F' , tair_col='TA_F' )\n",
      "\n",
      "seg_d = tr.resample_30min_aflx( seg, \n",
      "            freq='1D', c_fluxes=[ 'GPP', 'RECO', 'FC_F' ], \n",
      "            le_flux=[ 'LE_F' ], avg_cols=[ 'TA_F', 'RH_F', 'SW_IN_F', 'RNET', 'VPD_F' ], \n",
      "            precip_col='P_F' , tair_col='TA_F' )\n",
      "\n",
      "ses_d = tr.resample_30min_aflx( ses, \n",
      "            freq='1D', c_fluxes=[ 'GPP', 'RECO', 'FC_F' ], \n",
      "            le_flux=[ 'LE_F' ], avg_cols=[ 'TA_F', 'RH_F', 'SW_IN_F', 'RNET', 'VPD_F' ], \n",
      "            precip_col='P_F' , tair_col='TA_F' )\n",
      "\n",
      "vcp_d = tr.resample_30min_aflx( vcp, \n",
      "            freq='1D', c_fluxes=[ 'GPP', 'RECO', 'FC_F' ], \n",
      "            le_flux=[ 'LE_F' ], avg_cols=[ 'TA_F', 'RH_F', 'SW_IN_F', 'RNET', 'VPD_F' ], \n",
      "            precip_col='P_F' , tair_col='TA_F' )\n",
      "\n",
      "vcm_d = tr.resample_30min_aflx( vcm, \n",
      "            freq='1D', c_fluxes=[ 'GPP', 'RECO', 'FC_F' ], \n",
      "            le_flux=[ 'LE_F' ], avg_cols=[ 'TA_F', 'RH_F', 'SW_IN_F', 'RNET', 'VPD_F' ], \n",
      "            precip_col='P_F' , tair_col='TA_F' )\n"
     ],
     "language": "python",
     "metadata": {},
     "outputs": [],
     "prompt_number": 104
    },
    {
     "cell_type": "code",
     "collapsed": false,
     "input": [
      "ylims = [ -5, 5 ]\n",
      "xlims = [ dt.datetime( 2007, 1, 1 ), dt.datetime( 2014, 12, 31 )]\n",
      "\n",
      "gcolour= [0.9, 0.5, 0.0];\n",
      "scolour=[0.6, 0.2, 0];\n",
      "jcolour=[0.25, 1.0, 0.0];\n",
      "pjcolour=[0.0, 0.5, 0.0];\n",
      "pcolour=[0.5, 0.5, 1.0];\n",
      "mcolour=[0.0, 0.0, 0.6];\n",
      "\n",
      "nmeg_palette = [gcolour, scolour, jcolour, pjcolour, pcolour, mcolour]\n",
      "\n",
      "\n",
      "fig1 = plt.figure(figsize=( 11.5, 6.5 ), dpi=150, facecolor='w', edgecolor='k')\n",
      "ax1 = fig1.add_subplot(6, 1, 1)\n",
      "plt.plot( xlims, [0, 0], ':k')\n",
      "plt.plot(seg_d.index, seg_d.FC_F_g_int, color=gcolour)\n",
      "plt.ylim( ylims )\n",
      "plt.xlim( xlims )\n",
      "plt.text( dt.datetime( 2007, 2, 1 ), 2.5, 'Grassland', size=14  )\n",
      "plt.setp( ax1.get_xticklabels(), visible=False)\n",
      "plt.setp( ax1.get_yticklabels(), fontsize=13)\n",
      "plt.ylabel('Daily NEE\\n$g\\ C\\ m^2$', fontsize=14)\n",
      "ax2 = fig1.add_subplot(6, 1, 2)\n",
      "plt.plot( xlims, [0, 0], ':k')\n",
      "plt.plot(ses_d.index, ses_d.FC_F_g_int, color=scolour)\n",
      "plt.ylim( ylims )\n",
      "plt.xlim( xlims )\n",
      "plt.text( dt.datetime( 2007, 2, 1 ), 2.5, 'Shrubland', size=14  )\n",
      "plt.setp( ax2.get_xticklabels(), visible=False)\n",
      "plt.setp( ax2.get_yticklabels(), fontsize=13)\n",
      "ax3 = fig1.add_subplot(6, 1, 3)\n",
      "plt.plot( xlims, [0, 0], ':k')\n",
      "plt.plot(wjs_d.index, wjs_d.FC_F_g_int, color=jcolour)\n",
      "plt.ylim( ylims )\n",
      "plt.xlim( xlims )\n",
      "plt.text( dt.datetime( 2007, 2, 1 ), 2.5, 'Juniper Sav.', size=14  )\n",
      "plt.setp( ax3.get_xticklabels(), visible=False)\n",
      "plt.setp( ax3.get_yticklabels(), fontsize=13)\n",
      "plt.ylabel('Daily NEE\\n$g\\ C\\ m^2$', fontsize=14)\n",
      "ax4 = fig1.add_subplot(6, 1, 4)\n",
      "plt.plot( xlims, [0, 0], ':k')\n",
      "plt.plot(mpj_d.index, mpj_d.FC_F_g_int, color=pjcolour)\n",
      "plt.ylim( ylims )\n",
      "plt.xlim( xlims )\n",
      "plt.text( dt.datetime( 2007, 2, 1 ), 2.5, 'Pinyon-Juniper', size=14  )\n",
      "plt.setp( ax4.get_xticklabels(), visible=False)\n",
      "plt.setp( ax4.get_yticklabels(), fontsize=13)\n",
      "ax5 = fig1.add_subplot(6, 1, 5)\n",
      "plt.plot( xlims, [0, 0], ':k')\n",
      "plt.plot(vcp_d.index, vcp_d.FC_F_g_int, color=pcolour)\n",
      "plt.ylim( ylims )\n",
      "plt.xlim( xlims )\n",
      "plt.text( dt.datetime( 2007, 2, 1 ), 2.5, 'Ponderosa Pine', size=14  )\n",
      "plt.setp( ax5.get_xticklabels(), visible=False)\n",
      "plt.setp( ax5.get_yticklabels(), fontsize=13)\n",
      "plt.ylabel('Daily NEE\\n$g\\ C\\ m^2$', fontsize=14)\n",
      "ax6 = fig1.add_subplot(6, 1, 6)\n",
      "plt.plot( xlims, [0, 0], ':k')\n",
      "plt.plot(vcm_d.index, vcm_d.FC_F_g_int, color=mcolour)\n",
      "plt.ylim( ylims )\n",
      "plt.xlim( xlims )\n",
      "plt.text( dt.datetime( 2007, 2, 1 ), 2.5, 'Mixed Conifer', size=14 )\n",
      "plt.setp( ax6.get_xticklabels(), fontsize=14)\n",
      "plt.setp( ax6.get_yticklabels(), fontsize=13)\n",
      "plt.show()\n",
      "\n",
      "fig1.savefig( fig_path + 'NMEG_daily_FC.svg')\n",
      "\n",
      "fig1.savefig( fig_path + 'NMEG_daily_FC.tiff', dpi=200)\n"
     ],
     "language": "python",
     "metadata": {},
     "outputs": [],
     "prompt_number": 106
    },
    {
     "cell_type": "code",
     "collapsed": false,
     "input": [
      "ylims = [ -9, 7 ]\n",
      "\n",
      "fig2= plt.figure(figsize=( 11.5, 6.5 ), dpi=150, facecolor='w', edgecolor='k')\n",
      "ax1 = fig2.add_subplot(6, 1, 1)\n",
      "plt.plot( xlims, [0, 0], ':k')\n",
      "plt.plot(seg_d.index, -seg_d.GPP_g_int, color=gcolour, alpha=.4, lw=1.25)\n",
      "plt.plot(seg_d.index, seg_d.RECO_g_int, color=gcolour, lw=1.25)\n",
      "plt.ylim( ylims )\n",
      "plt.xlim( xlims )\n",
      "plt.text( dt.datetime( 2007, 2, 1 ), -8 ,'Grassland', size=14  )\n",
      "plt.setp( ax1.get_xticklabels(), visible=False)\n",
      "plt.setp( ax1.get_yticklabels(), fontsize=11)\n",
      "ax1.yaxis.set_ticks(np.arange(-8, 6, 4))\n",
      "plt.ylabel('Daily C flux\\n$g\\ C\\ m^2$', fontsize=14)\n",
      "ax2 = fig2.add_subplot(6, 1, 2)\n",
      "plt.plot( xlims, [0, 0], ':k')\n",
      "plt.plot(ses_d.index, -ses_d.GPP_g_int, color=scolour, alpha=.4, lw=1.25)\n",
      "plt.plot(ses_d.index, ses_d.RECO_g_int, color=scolour, lw=1.25)\n",
      "plt.ylim( ylims )\n",
      "plt.xlim( xlims )\n",
      "plt.text( dt.datetime( 2007, 2, 1 ), -8, 'Shrubland', size=14  )\n",
      "plt.setp( ax2.get_xticklabels(), visible=False)\n",
      "plt.setp( ax2.get_yticklabels(), fontsize=11)\n",
      "ax2.yaxis.set_ticks(np.arange(-8, 6, 4))\n",
      "ax3 = fig2.add_subplot(6, 1, 3)\n",
      "plt.plot( xlims, [0, 0], ':k')\n",
      "plt.plot(wjs_d.index, -wjs_d.GPP_g_int, color=jcolour, alpha=.4, lw=1.25)\n",
      "plt.plot(wjs_d.index, wjs_d.RECO_g_int, color=jcolour, lw=1.25)\n",
      "plt.ylim( ylims )\n",
      "plt.xlim( xlims )\n",
      "plt.text( dt.datetime( 2007, 2, 1 ), -8, 'Juniper Sav.', size=14  )\n",
      "plt.setp( ax3.get_xticklabels(), visible=False)\n",
      "plt.setp( ax3.get_yticklabels(), fontsize=11)\n",
      "ax3.yaxis.set_ticks(np.arange(-8, 6, 4))\n",
      "plt.ylabel('Daily C flux\\n$g\\ C\\ m^2$', fontsize=14)\n",
      "ax4 = fig2.add_subplot(6, 1, 4)\n",
      "plt.plot( xlims, [0, 0], ':k')\n",
      "plt.plot(mpj_d.index, -mpj_d.GPP_g_int, color=pjcolour, alpha=.4, lw=1.25)\n",
      "plt.plot(mpj_d.index, mpj_d.RECO_g_int, color=pjcolour, lw=1.25)\n",
      "plt.ylim( ylims )\n",
      "plt.xlim( xlims )\n",
      "plt.text( dt.datetime( 2007, 2, 1 ), -8, 'Pinyon-Juniper', size=14  )\n",
      "plt.setp( ax4.get_xticklabels(), visible=False)\n",
      "plt.setp( ax4.get_yticklabels(), fontsize=11)\n",
      "ax4.yaxis.set_ticks(np.arange(-8, 6, 4))\n",
      "ax5 = fig2.add_subplot(6, 1, 5)\n",
      "plt.plot( xlims, [0, 0], ':k')\n",
      "plt.plot(vcp_d.index, -vcp_d.GPP_g_int, color=pcolour, alpha=.4, lw=1.25)\n",
      "plt.plot(vcp_d.index, vcp_d.RECO_g_int, color=pcolour, lw=1.25)\n",
      "plt.ylim( ylims )\n",
      "plt.xlim( xlims )\n",
      "plt.text( dt.datetime( 2007, 2, 1 ), -8, 'Ponderosa Pine', size=14  )\n",
      "plt.setp( ax5.get_xticklabels(), visible=False)\n",
      "plt.setp( ax5.get_yticklabels(), fontsize=11)\n",
      "ax5.yaxis.set_ticks(np.arange(-8, 6, 4))\n",
      "plt.ylabel('Daily C flux\\n$g\\ C\\ m^2$', fontsize=14)\n",
      "ax6 = fig2.add_subplot(6, 1, 6)\n",
      "plt.plot( xlims, [0, 0], ':k')\n",
      "plt.plot(vcm_d.index, -vcm_d.GPP_g_int, color=mcolour, alpha=.4, lw=1.25)\n",
      "plt.plot(vcm_d.index, vcm_d.RECO_g_int, color=mcolour, lw=1.25)\n",
      "plt.ylim( ylims )\n",
      "plt.xlim( xlims )\n",
      "plt.text( dt.datetime( 2007, 2, 1 ), -8, 'Mixed Conifer', size=14 )\n",
      "plt.setp( ax6.get_xticklabels(), fontsize=14)\n",
      "plt.setp( ax6.get_yticklabels(), fontsize=11)\n",
      "ax6.yaxis.set_ticks(np.arange(-8, 6, 4))\n",
      "plt.show()\n",
      "\n",
      "fig2.savefig( fig_path + 'NMEG_daily_part.svg')\n",
      "\n",
      "fig2.savefig( fig_path + 'NMEG_daily_part.tiff', dpi=200)\n"
     ],
     "language": "python",
     "metadata": {},
     "outputs": [],
     "prompt_number": 108
    },
    {
     "cell_type": "markdown",
     "metadata": {},
     "source": [
      "## Calculate means and anomaly"
     ]
    },
    {
     "cell_type": "code",
     "collapsed": false,
     "input": [
      "# Get climatologies\n",
      "import math\n",
      "def get_climatology( ser ):\n",
      "    new_df = pd.DataFrame( index = range( 1, 367 ))\n",
      "\n",
      "    climatology = new_df.copy()\n",
      "    for i in np.unique(ser.index.year):\n",
      "        year_vals = ser[ ser.index.year==i ].values\n",
      "        new_df[ str(i) ] = np.nan\n",
      "        new_df[ str(i) ][ 0:len(year_vals)] = year_vals\n",
      "    \n",
      "    climatology[ 'allyr_mean' ] = new_df.mean(axis=1)\n",
      "    climatology[ 'allyr_stdev' ] = new_df.std(axis=1)\n",
      "    climatology[ 'allyr_stderr' ] = climatology.allyr_stdev / math.sqrt( len(np.unique(ser.index.year))-1 )\n",
      "    \n",
      "    anom = ser.copy()\n",
      "    for i in np.unique(ser.index.year):\n",
      "        #anomaly = ser[ ser.index.year==i ] - climatology.allyr_mean[0:len(ser[ ser.index.year==i ])].values\n",
      "        climatology[ str(i) + '_anom' ] = new_df[ str(i )] - climatology.allyr_mean\n",
      "        anom[ anom.index.year==i ] = ser[ ser.index.year==i ] - climatology.allyr_mean[0:len(ser[ ser.index.year==i ])].values\n",
      "    \n",
      "    return anom, climatology"
     ],
     "language": "python",
     "metadata": {},
     "outputs": [],
     "prompt_number": 109
    },
    {
     "cell_type": "code",
     "collapsed": false,
     "input": [
      "# Mean NEE\n",
      "# Calculate NEE anomaly for each site\n",
      "fcvar = 'FC_F_g_int'\n",
      "seg_fc_anom, seg_fc_clim = get_climatology(seg_d[ fcvar ])\n",
      "ses_fc_anom, ses_fc_clim = get_climatology(ses_d[ fcvar ])\n",
      "wjs_fc_anom, wjs_fc_clim = get_climatology(wjs_d[ fcvar ])\n",
      "mpj_fc_anom, mpj_fc_clim = get_climatology(mpj_d[ fcvar ])\n",
      "vcp_fc_anom, vcp_fc_clim = get_climatology(vcp_d[ fcvar ])\n",
      "vcm_fc_anom, vcm_fc_clim = get_climatology(vcm_d[ fcvar ])\n",
      "\n",
      "ylims = [ -4, 2 ]\n",
      "xlims = [ 0, 366 ]\n",
      "\n",
      "fig3 = plt.figure(figsize=( 11.5, 6.5 ), dpi=150, facecolor='w', edgecolor='k')\n",
      "ax1 = fig3.add_subplot(3, 2, 1)\n",
      "plt.plot( xlims, [0, 0], ':k')\n",
      "for i in range( start, end+1 ):\n",
      "    plt.plot(seg_fc_clim.index, seg_fc_clim.allyr_mean + seg_fc_clim[ str(i) + '_anom' ], color=[0.7, 0.7, 0.7], lw=0.5)\n",
      "    \n",
      "plt.plot(seg_fc_clim.index, seg_fc_clim.allyr_mean, color=gcolour)\n",
      "plt.plot(seg_fc_clim.index, seg_fc_clim.allyr_mean + seg_fc_clim.allyr_stderr, color=gcolour, alpha=.4)\n",
      "plt.plot(seg_fc_clim.index, seg_fc_clim.allyr_mean - seg_fc_clim.allyr_stderr, color=gcolour, alpha=.4)\n",
      "plt.ylim( ylims )\n",
      "plt.xlim( xlims )\n",
      "plt.text( 10, 1, 'Grassland', size=14  )\n",
      "plt.ylabel('Mean NEE', fontsize=14)\n",
      "plt.setp( ax1.get_xticklabels(), visible=False)\n",
      "plt.setp( ax1.get_yticklabels(), fontsize=13)\n",
      "ax2 = fig3.add_subplot(3, 2, 2)\n",
      "plt.plot( xlims, [0, 0], ':k')\n",
      "for i in range( start, end+1 ):\n",
      "    plt.plot(ses_fc_clim.index, ses_fc_clim.allyr_mean + ses_fc_clim[ str(i) + '_anom' ], color=[0.7, 0.7, 0.7], lw=0.5)\n",
      "    \n",
      "plt.plot(ses_fc_clim.index, ses_fc_clim.allyr_mean, color=scolour)\n",
      "plt.plot(ses_fc_clim.index, ses_fc_clim.allyr_mean + ses_fc_clim.allyr_stderr, color=scolour, alpha=.4)\n",
      "plt.plot(ses_fc_clim.index, ses_fc_clim.allyr_mean - ses_fc_clim.allyr_stderr, color=scolour, alpha=.4)\n",
      "plt.ylim( ylims )\n",
      "plt.xlim( xlims )\n",
      "plt.text( 10, 1, 'Shrubland', size=14  )\n",
      "plt.setp( ax2.get_xticklabels(), visible=False)\n",
      "plt.setp( ax2.get_yticklabels(), fontsize=13)\n",
      "ax3 = fig3.add_subplot(3, 2, 3)\n",
      "plt.plot( xlims, [0, 0], ':k')\n",
      "for i in range( start, end+1 ):\n",
      "    plt.plot(wjs_fc_clim.index, wjs_fc_clim.allyr_mean + wjs_fc_clim[ str(i) + '_anom' ], color=[0.7, 0.7, 0.7], lw=0.5)\n",
      "    \n",
      "plt.plot(wjs_fc_clim.index, wjs_fc_clim.allyr_mean, color=jcolour)\n",
      "plt.plot(wjs_fc_clim.index, wjs_fc_clim.allyr_mean + wjs_fc_clim.allyr_stderr, color=jcolour, alpha=.4)\n",
      "plt.plot(wjs_fc_clim.index, wjs_fc_clim.allyr_mean - wjs_fc_clim.allyr_stderr, color=jcolour, alpha=.4)\n",
      "plt.ylim( ylims )\n",
      "plt.xlim( xlims )\n",
      "plt.text( 10, 1, 'Juniper Sav.', size=14  )\n",
      "plt.ylabel('Mean NEE', fontsize=14)\n",
      "plt.setp( ax3.get_xticklabels(), visible=False)\n",
      "plt.setp( ax3.get_yticklabels(), fontsize=13)\n",
      "ax4 = fig3.add_subplot(3, 2, 4)\n",
      "plt.plot( xlims, [0, 0], ':k')\n",
      "for i in range( start, end+1 ):\n",
      "    plt.plot(mpj_fc_clim.index, mpj_fc_clim.allyr_mean + mpj_fc_clim[ str(i) + '_anom' ], color=[0.7, 0.7, 0.7], lw=0.5)\n",
      "    \n",
      "plt.plot(mpj_fc_clim.index, mpj_fc_clim.allyr_mean, color=pjcolour)\n",
      "plt.plot(mpj_fc_clim.index, mpj_fc_clim.allyr_mean + mpj_fc_clim.allyr_stderr, color=pjcolour, alpha=.4)\n",
      "plt.plot(mpj_fc_clim.index, mpj_fc_clim.allyr_mean - mpj_fc_clim.allyr_stderr, color=pjcolour, alpha=.4)\n",
      "plt.ylim( ylims )\n",
      "plt.xlim( xlims )\n",
      "plt.text( 10, 1, 'Pinyon-Juniper', size=14  )\n",
      "plt.setp( ax4.get_xticklabels(), visible=False)\n",
      "plt.setp( ax4.get_yticklabels(), fontsize=13)\n",
      "ax5 = fig3.add_subplot(3, 2, 5)\n",
      "plt.plot( xlims, [0, 0], ':k')\n",
      "for i in range( start, end+1 ):\n",
      "    plt.plot(vcp_fc_clim.index, vcp_fc_clim.allyr_mean + vcp_fc_clim[ str(i) + '_anom' ], color=[0.7, 0.7, 0.7], lw=0.5)\n",
      "    \n",
      "plt.plot(vcp_fc_clim.index, vcp_fc_clim.allyr_mean, color=pcolour)\n",
      "plt.plot(vcp_fc_clim.index, vcp_fc_clim.allyr_mean + vcp_fc_clim.allyr_stderr, color=pcolour, alpha=.4)\n",
      "plt.plot(vcp_fc_clim.index, vcp_fc_clim.allyr_mean - vcp_fc_clim.allyr_stderr, color=pcolour, alpha=.4)\n",
      "plt.ylim( ylims )\n",
      "plt.xlim( xlims )\n",
      "plt.text( 10, 1, 'Ponderosa Pine', size=14  )\n",
      "plt.ylabel('Mean NEE', fontsize=14)\n",
      "plt.setp( ax5.get_xticklabels(), fontsize=14, visible=True)\n",
      "plt.setp( ax5.get_yticklabels(), fontsize=13)\n",
      "ax6 = fig3.add_subplot(3, 2, 6)\n",
      "plt.plot( xlims, [0, 0], ':k')\n",
      "for i in range( start, end+1 ):\n",
      "    plt.plot(vcm_fc_clim.index, vcm_fc_clim.allyr_mean + vcm_fc_clim[ str(i) + '_anom' ], color=[0.7, 0.7, 0.7], lw=0.5)\n",
      "    \n",
      "plt.plot(vcm_fc_clim.index, vcm_fc_clim.allyr_mean, color=mcolour)\n",
      "plt.plot(vcm_fc_clim.index, vcm_fc_clim.allyr_mean + vcm_fc_clim.allyr_stderr, color=mcolour, alpha=.4)\n",
      "plt.plot(vcm_fc_clim.index, vcm_fc_clim.allyr_mean - vcm_fc_clim.allyr_stderr, color=mcolour, alpha=.4)\n",
      "plt.ylim( ylims )\n",
      "plt.xlim( xlims )\n",
      "plt.text( 10, 1, 'Mixed Conifer', size=14  )\n",
      "plt.setp( ax6.get_xticklabels(), fontsize=14)\n",
      "plt.setp( ax6.get_yticklabels(), fontsize=13)\n",
      "plt.show()\n",
      "        \n",
      "fig3.savefig( fig_path + 'NMEG_mean_nee.svg')\n",
      "fig3.savefig( fig_path + 'NMEG_mean_nee.tiff', dpi=200)"
     ],
     "language": "python",
     "metadata": {},
     "outputs": [],
     "prompt_number": 110
    },
    {
     "cell_type": "code",
     "collapsed": false,
     "input": [
      "# Mean gpp\n",
      "\n",
      "# Calculate gpp anomaly for each site\n",
      "gppvar = 'GPP_g_int'\n",
      "seg_gpp_anom, seg_gpp_clim = get_climatology(seg_d[ gppvar ])\n",
      "ses_gpp_anom, ses_gpp_clim = get_climatology(ses_d[ gppvar ])\n",
      "wjs_gpp_anom, wjs_gpp_clim = get_climatology(wjs_d[ gppvar ])\n",
      "mpj_gpp_anom, mpj_gpp_clim = get_climatology(mpj_d[ gppvar ])\n",
      "vcp_gpp_anom, vcp_gpp_clim = get_climatology(vcp_d[ gppvar ])\n",
      "vcm_gpp_anom, vcm_gpp_clim = get_climatology(vcm_d[ gppvar ])\n",
      "\n",
      "ylims = [ 0, 6 ]\n",
      "xlims = [ 0, 366 ]\n",
      "\n",
      "fig2 = plt.figure(figsize=( 11.5, 6.5 ), dpi=150, facecolor='w', edgecolor='k')\n",
      "ax1 = fig2.add_subplot(3, 2, 1)\n",
      "#plt.plot( xlims, [0, 0], ':k')\n",
      "for i in range( start, end+1 ):\n",
      "    plt.plot(seg_gpp_clim.index, seg_gpp_clim.allyr_mean + seg_gpp_clim[ str(i) + '_anom' ], color=[0.7, 0.7, 0.7], lw=0.5)\n",
      "    \n",
      "plt.plot(seg_gpp_clim.index, seg_gpp_clim.allyr_mean, color=gcolour)\n",
      "plt.plot(seg_gpp_clim.index, seg_gpp_clim.allyr_mean + seg_gpp_clim.allyr_stderr, color=gcolour, alpha=.4)\n",
      "plt.plot(seg_gpp_clim.index, seg_gpp_clim.allyr_mean - seg_gpp_clim.allyr_stderr, color=gcolour, alpha=.4)\n",
      "plt.ylim( ylims )\n",
      "plt.xlim( xlims )\n",
      "plt.text( 10, 5, 'Grassland', size=14  )\n",
      "plt.ylabel('Mean GPP', fontsize=14)\n",
      "plt.setp( ax1.get_xticklabels(), visible=False)\n",
      "plt.setp( ax1.get_yticklabels(), fontsize=13)\n",
      "ax2 = fig2.add_subplot(3, 2, 2)\n",
      "#plt.plot( xlims, [0, 0], ':k')\n",
      "for i in range( start, end+1 ):\n",
      "    plt.plot(ses_gpp_clim.index, ses_gpp_clim.allyr_mean + ses_gpp_clim[ str(i) + '_anom' ], color=[0.7, 0.7, 0.7], lw=0.5)\n",
      "    \n",
      "plt.plot(ses_gpp_clim.index, ses_gpp_clim.allyr_mean, color=scolour)\n",
      "plt.plot(ses_gpp_clim.index, ses_gpp_clim.allyr_mean + ses_gpp_clim.allyr_stderr, color=scolour, alpha=.4)\n",
      "plt.plot(ses_gpp_clim.index, ses_gpp_clim.allyr_mean - ses_gpp_clim.allyr_stderr, color=scolour, alpha=.4)\n",
      "plt.ylim( ylims )\n",
      "plt.xlim( xlims )\n",
      "plt.text( 10, 5, 'Shrubland', size=14  )\n",
      "plt.setp( ax2.get_xticklabels(), visible=False)\n",
      "plt.setp( ax2.get_yticklabels(), fontsize=13)\n",
      "ax3 = fig2.add_subplot(3, 2, 3)\n",
      "#plt.plot( xlims, [0, 0], ':k')\n",
      "for i in range( start, end+1 ):\n",
      "    plt.plot(wjs_gpp_clim.index, wjs_gpp_clim.allyr_mean + wjs_gpp_clim[ str(i) + '_anom' ], color=[0.7, 0.7, 0.7], lw=0.5)\n",
      "    \n",
      "plt.plot(wjs_gpp_clim.index, wjs_gpp_clim.allyr_mean, color=jcolour)\n",
      "plt.plot(wjs_gpp_clim.index, wjs_gpp_clim.allyr_mean + wjs_gpp_clim.allyr_stderr, color=jcolour, alpha=.4)\n",
      "plt.plot(wjs_gpp_clim.index, wjs_gpp_clim.allyr_mean - wjs_gpp_clim.allyr_stderr, color=jcolour, alpha=.4)\n",
      "plt.ylim( ylims )\n",
      "plt.xlim( xlims )\n",
      "plt.text( 10, 5, 'Juniper Sav.', size=14  )\n",
      "plt.ylabel('Mean GPP', fontsize=14)\n",
      "plt.setp( ax3.get_xticklabels(), visible=False)\n",
      "plt.setp( ax3.get_yticklabels(), fontsize=13)\n",
      "ax4 = fig2.add_subplot(3, 2, 4)\n",
      "#plt.plot( xlims, [0, 0], ':k')\n",
      "for i in range( start, end+1 ):\n",
      "    plt.plot(mpj_gpp_clim.index, mpj_gpp_clim.allyr_mean + mpj_gpp_clim[ str(i) + '_anom' ], color=[0.7, 0.7, 0.7], lw=0.5)\n",
      "    \n",
      "plt.plot(mpj_gpp_clim.index, mpj_gpp_clim.allyr_mean, color=pjcolour)\n",
      "plt.plot(mpj_gpp_clim.index, mpj_gpp_clim.allyr_mean + mpj_gpp_clim.allyr_stderr, color=pjcolour, alpha=.4)\n",
      "plt.plot(mpj_gpp_clim.index, mpj_gpp_clim.allyr_mean - mpj_gpp_clim.allyr_stderr, color=pjcolour, alpha=.4)\n",
      "plt.ylim( ylims )\n",
      "plt.xlim( xlims )\n",
      "plt.text( 10, 5, 'Pinyon-Juniper', size=14  )\n",
      "plt.setp( ax4.get_xticklabels(), visible=False)\n",
      "plt.setp( ax4.get_yticklabels(), fontsize=13)\n",
      "ax5 = fig2.add_subplot(3, 2, 5)\n",
      "#plt.plot( xlims, [0, 0], ':k')\n",
      "for i in range( start, end+1 ):\n",
      "    plt.plot(vcp_gpp_clim.index, vcp_gpp_clim.allyr_mean + vcp_gpp_clim[ str(i) + '_anom' ], color=[0.7, 0.7, 0.7], lw=0.5)\n",
      "    \n",
      "plt.plot(vcp_gpp_clim.index, vcp_gpp_clim.allyr_mean, color=pcolour)\n",
      "plt.plot(vcp_gpp_clim.index, vcp_gpp_clim.allyr_mean + vcp_gpp_clim.allyr_stderr, color=pcolour, alpha=.4)\n",
      "plt.plot(vcp_gpp_clim.index, vcp_gpp_clim.allyr_mean - vcp_gpp_clim.allyr_stderr, color=pcolour, alpha=.4)\n",
      "plt.ylim( ylims )\n",
      "plt.xlim( xlims )\n",
      "plt.text( 10, 5, 'Ponderosa Pine', size=14  )\n",
      "plt.ylabel('Mean GPP', fontsize=14)\n",
      "plt.setp( ax5.get_xticklabels(), fontsize=14, visible=True)\n",
      "plt.setp( ax5.get_yticklabels(), fontsize=13)\n",
      "ax6 = fig2.add_subplot(3, 2, 6)\n",
      "#plt.plot( xlims, [0, 0], ':k')\n",
      "for i in range( start, end+1 ):\n",
      "    plt.plot(vcm_gpp_clim.index, vcm_gpp_clim.allyr_mean + vcm_gpp_clim[ str(i) + '_anom' ], color=[0.7, 0.7, 0.7], lw=0.5)\n",
      "    \n",
      "plt.plot(vcm_gpp_clim.index, vcm_gpp_clim.allyr_mean, color=mcolour)\n",
      "plt.plot(vcm_gpp_clim.index, vcm_gpp_clim.allyr_mean + vcm_gpp_clim.allyr_stderr, color=mcolour, alpha=.4)\n",
      "plt.plot(vcm_gpp_clim.index, vcm_gpp_clim.allyr_mean - vcm_gpp_clim.allyr_stderr, color=mcolour, alpha=.4)\n",
      "plt.ylim( ylims )\n",
      "plt.xlim( xlims )\n",
      "plt.text( 10, 5, 'Mixed Conifer', size=14  )\n",
      "plt.setp( ax6.get_xticklabels(), fontsize=14)\n",
      "plt.setp( ax6.get_yticklabels(), fontsize=13)\n",
      "plt.show()\n",
      "        \n",
      "fig2.savefig( fig_path + 'NMEG_mean_gpp.svg')\n",
      "fig2.savefig( fig_path + 'NMEG_mean_gpp.tiff', dpi=200)"
     ],
     "language": "python",
     "metadata": {},
     "outputs": [],
     "prompt_number": 111
    },
    {
     "cell_type": "code",
     "collapsed": false,
     "input": [
      "# Calculate gpp anomaly for each site\n",
      "revar = 'RECO_g_int'\n",
      "seg_re_anom, seg_re_clim = get_climatology(seg_d[ revar ])\n",
      "ses_re_anom, ses_re_clim = get_climatology(ses_d[ revar ])\n",
      "wjs_re_anom, wjs_re_clim = get_climatology(wjs_d[ revar ])\n",
      "mpj_re_anom, mpj_re_clim = get_climatology(mpj_d[ revar ])\n",
      "vcp_re_anom, vcp_re_clim = get_climatology(vcp_d[ revar ])\n",
      "vcm_re_anom, vcm_re_clim = get_climatology(vcm_d[ revar ])\n",
      "\n",
      "ylims = [ 0, 5 ]\n",
      "xlims = [ 0, 366 ]\n",
      "\n",
      "fig2 = plt.figure(figsize=( 11.5, 6.5 ), dpi=150, facecolor='w', edgecolor='k')\n",
      "ax1 = fig2.add_subplot(3, 2, 1)\n",
      "#plt.plot( xlims, [0, 0], ':k')\n",
      "for i in range( start, end+1 ):\n",
      "    plt.plot(seg_re_clim.index, seg_re_clim.allyr_mean + seg_re_clim[ str(i) + '_anom' ], color=[0.7, 0.7, 0.7], lw=0.5)\n",
      "    \n",
      "plt.plot(seg_re_clim.index, seg_re_clim.allyr_mean, color=gcolour)\n",
      "plt.plot(seg_re_clim.index, seg_re_clim.allyr_mean + seg_re_clim.allyr_stderr, color=gcolour, alpha=.4)\n",
      "plt.plot(seg_re_clim.index, seg_re_clim.allyr_mean - seg_re_clim.allyr_stderr, color=gcolour, alpha=.4)\n",
      "plt.ylim( ylims )\n",
      "plt.xlim( xlims )\n",
      "plt.text( 10, 4, 'Grassland', size=14  )\n",
      "plt.ylabel('Mean RECO', fontsize=14)\n",
      "plt.setp( ax1.get_xticklabels(), visible=False)\n",
      "plt.setp( ax1.get_yticklabels(), fontsize=13)\n",
      "ax2 = fig2.add_subplot(3, 2, 2)\n",
      "#plt.plot( xlims, [0, 0], ':k')\n",
      "for i in range( start, end+1 ):\n",
      "    plt.plot(ses_re_clim.index, ses_re_clim.allyr_mean + ses_re_clim[ str(i) + '_anom' ], color=[0.7, 0.7, 0.7], lw=0.5)\n",
      "    \n",
      "plt.plot(ses_re_clim.index, ses_re_clim.allyr_mean, color=scolour)\n",
      "plt.plot(ses_re_clim.index, ses_re_clim.allyr_mean + ses_re_clim.allyr_stderr, color=scolour, alpha=.4)\n",
      "plt.plot(ses_re_clim.index, ses_re_clim.allyr_mean - ses_re_clim.allyr_stderr, color=scolour, alpha=.4)\n",
      "plt.ylim( ylims )\n",
      "plt.xlim( xlims )\n",
      "plt.text( 10, 4, 'Shrubland', size=14  )\n",
      "plt.setp( ax2.get_xticklabels(), visible=False)\n",
      "plt.setp( ax2.get_yticklabels(), fontsize=13)\n",
      "ax3 = fig2.add_subplot(3, 2, 3)\n",
      "#plt.plot( xlims, [0, 0], ':k')\n",
      "for i in range( start, end+1 ):\n",
      "    plt.plot(wjs_re_clim.index, wjs_re_clim.allyr_mean + wjs_re_clim[ str(i) + '_anom' ], color=[0.7, 0.7, 0.7], lw=0.5)\n",
      "    \n",
      "plt.plot(wjs_re_clim.index, wjs_re_clim.allyr_mean, color=jcolour)\n",
      "plt.plot(wjs_re_clim.index, wjs_re_clim.allyr_mean + wjs_re_clim.allyr_stderr, color=jcolour, alpha=.4)\n",
      "plt.plot(wjs_re_clim.index, wjs_re_clim.allyr_mean - wjs_re_clim.allyr_stderr, color=jcolour, alpha=.4)\n",
      "plt.ylim( ylims )\n",
      "plt.xlim( xlims )\n",
      "plt.text( 10, 4, 'Juniper Sav.', size=14  )\n",
      "plt.ylabel('Mean RECO', fontsize=14)\n",
      "plt.setp( ax3.get_xticklabels(), visible=False)\n",
      "plt.setp( ax3.get_yticklabels(), fontsize=13)\n",
      "ax4 = fig2.add_subplot(3, 2, 4)\n",
      "#plt.plot( xlims, [0, 0], ':k')\n",
      "for i in range( start, end+1 ):\n",
      "    plt.plot(mpj_re_clim.index, mpj_re_clim.allyr_mean + mpj_re_clim[ str(i) + '_anom' ], color=[0.7, 0.7, 0.7], lw=0.5)\n",
      "    \n",
      "plt.plot(mpj_re_clim.index, mpj_re_clim.allyr_mean, color=pjcolour)\n",
      "plt.plot(mpj_re_clim.index, mpj_re_clim.allyr_mean + mpj_re_clim.allyr_stderr, color=pjcolour, alpha=.4)\n",
      "plt.plot(mpj_re_clim.index, mpj_re_clim.allyr_mean - mpj_re_clim.allyr_stderr, color=pjcolour, alpha=.4)\n",
      "plt.ylim( ylims )\n",
      "plt.xlim( xlims )\n",
      "plt.text( 10, 4, 'Pinyon-Juniper', size=14  )\n",
      "plt.setp( ax4.get_xticklabels(), visible=False)\n",
      "plt.setp( ax4.get_yticklabels(), fontsize=13)\n",
      "ax5 = fig2.add_subplot(3, 2, 5)\n",
      "#plt.plot( xlims, [0, 0], ':k')\n",
      "for i in range( start, end+1 ):\n",
      "    plt.plot(vcp_re_clim.index, vcp_re_clim.allyr_mean + vcp_re_clim[ str(i) + '_anom' ], color=[0.7, 0.7, 0.7], lw=0.5)\n",
      "    \n",
      "plt.plot(vcp_re_clim.index, vcp_re_clim.allyr_mean, color=pcolour)\n",
      "plt.plot(vcp_re_clim.index, vcp_re_clim.allyr_mean + vcp_re_clim.allyr_stderr, color=pcolour, alpha=.4)\n",
      "plt.plot(vcp_re_clim.index, vcp_re_clim.allyr_mean - vcp_re_clim.allyr_stderr, color=pcolour, alpha=.4)\n",
      "plt.ylim( ylims )\n",
      "plt.xlim( xlims )\n",
      "plt.text( 10, 4, 'Ponderosa Pine', size=14  )\n",
      "plt.ylabel('Mean RECO', fontsize=14)\n",
      "plt.setp( ax5.get_xticklabels(), fontsize=14, visible=True)\n",
      "plt.setp( ax5.get_yticklabels(), fontsize=13)\n",
      "ax6 = fig2.add_subplot(3, 2, 6)\n",
      "#plt.plot( xlims, [0, 0], ':k')\n",
      "for i in range( start, end+1 ):\n",
      "    plt.plot(vcm_re_clim.index, vcm_re_clim.allyr_mean + vcm_re_clim[ str(i) + '_anom' ], color=[0.7, 0.7, 0.7], lw=0.5)\n",
      "    \n",
      "plt.plot(vcm_re_clim.index, vcm_re_clim.allyr_mean, color=mcolour)\n",
      "plt.plot(vcm_re_clim.index, vcm_re_clim.allyr_mean + vcm_re_clim.allyr_stderr, color=mcolour, alpha=.4)\n",
      "plt.plot(vcm_re_clim.index, vcm_re_clim.allyr_mean - vcm_re_clim.allyr_stderr, color=mcolour, alpha=.4)\n",
      "plt.ylim( ylims )\n",
      "plt.xlim( xlims )\n",
      "plt.text( 10, 4, 'Mixed Conifer', size=14  )\n",
      "plt.setp( ax6.get_xticklabels(), fontsize=14)\n",
      "plt.setp( ax6.get_yticklabels(), fontsize=13)\n",
      "plt.show()\n",
      "        \n",
      "fig2.savefig( fig_path + 'NMEG_mean_re.svg')\n",
      "fig2.savefig( fig_path + 'NMEG_mean_re.tiff', dpi=200)"
     ],
     "language": "python",
     "metadata": {},
     "outputs": [],
     "prompt_number": 112
    },
    {
     "cell_type": "markdown",
     "metadata": {},
     "source": [
      "## Cumulative FC"
     ]
    },
    {
     "cell_type": "code",
     "collapsed": false,
     "input": [
      "fig3 = plt.figure( figsize=( 9.5, 5 ), dpi=150, facecolor='w', edgecolor='k' )\n",
      "var = 'FC_F_g_int'\n",
      "ax = fig3.add_subplot(111)\n",
      "seg_d2 = seg_d[ seg_d.index.year > 2007 ]\n",
      "plt.plot( seg_d2.index, seg_d2[ var ].cumsum(), color=gcolour )\n",
      "ses_d2 = ses_d[ ses_d.index.year > 2007 ]\n",
      "plt.plot( ses_d2.index, ses_d2[ var ].cumsum(), color=scolour )\n",
      "wjs_d2 = wjs_d[ wjs_d.index.year > 2007 ]\n",
      "plt.plot( wjs_d2.index, wjs_d2[ var ].cumsum(), color=jcolour )\n",
      "mpj_d2 = mpj_d[ mpj_d.index.year > 2007 ]\n",
      "plt.plot( mpj_d2.index, mpj_d2[ var ].cumsum(), color=pjcolour )\n",
      "vcp_d2 = vcp_d[ vcp_d.index.year > 2007 ]\n",
      "plt.plot( vcp_d2.index, vcp_d2[ var ].cumsum(), color=pcolour )\n",
      "vcm_d2 = vcm_d[ np.logical_and( vcm_d.index.year > 2007, vcm_d.index.year < 2013 ) ]\n",
      "plt.plot( vcm_d2.index, vcm_d2[ var ].cumsum(), color=mcolour )\n",
      "plt.ylabel(r'Cumulative NEE ($g\\ C\\ m^2$)', fontsize=14)\n",
      "plt.setp( ax.get_yticklabels(), fontsize=14)\n",
      "plt.setp( ax.get_xticklabels(), fontsize=14)\n",
      "\n",
      "plt.legend( ['Grassland', 'Shrubland', 'Juniper Sav.', 'Pinyon-Juniper', 'Ponderosa Pine', 'Mixed Conifer' ], loc='lower left',\n",
      "           fontsize=14)\n",
      "plt.show()\n",
      "\n",
      "fig3.savefig( fig_path + 'NMEG_allyr_cum_cflux.svg')\n",
      "fig3.savefig( fig_path + 'NMEG_allyr_cum_cflux.tiff', dpi=200)"
     ],
     "language": "python",
     "metadata": {},
     "outputs": [],
     "prompt_number": 19
    },
    {
     "cell_type": "markdown",
     "metadata": {},
     "source": [
      "## Relationship between Ecosystem C uptake and VPD anomaly"
     ]
    },
    {
     "cell_type": "code",
     "collapsed": false,
     "input": [
      "\n",
      "vpddays_cflux = pd.DataFrame()\n",
      "fluxvar = 'RECO_g_int'\n",
      "\n",
      "print seg_d.columns\n",
      "\n",
      "# Grassland\n",
      "\n",
      "#Select the growing season\n",
      "gs = np.logical_and(seg_vpdanom.index.month > 6, seg_vpdanom.index.month < 12)\n",
      "vpd_sum = np.logical_and( seg_vpdanom > 0, gs );\n",
      "vpd_sum = vpd_sum.resample('12MS', how='sum')\n",
      "cflux_sum = seg_d.resample('12MS', how='sum')\n",
      "tidy = pd.DataFrame(index=vpd_sum.index.year)\n",
      "tidy['site'] = 'Grassland'\n",
      "tidy['vpddays'] = vpd_sum.values\n",
      "tidy['cflux'] = cflux_sum[ fluxvar ].values\n",
      "tidy = tidy[ np.logical_and(tidy.index < 2015, tidy.index > 2006) ]\n",
      "\n",
      "vpddays_cflux = pd.concat( [vpddays_cflux, tidy], ignore_index=False )\n",
      "\n",
      "# Shrubland\n",
      "gs = np.logical_and(ses_vpdanom.index.month > 6, ses_vpdanom.index.month < 12)\n",
      "vpd_sum = np.logical_and( ses_vpdanom > 0, gs );\n",
      "vpd_sum = vpd_sum.resample('12MS', how='sum')\n",
      "cflux_sum = ses_d.resample('12MS', how='sum')\n",
      "tidy = pd.DataFrame(index=vpd_sum.index.year)\n",
      "tidy['site'] = 'Shrubland'\n",
      "tidy['vpddays'] = vpd_sum.values\n",
      "tidy['cflux'] = cflux_sum[ fluxvar ].values\n",
      "tidy = tidy[ np.logical_and(tidy.index < 2015, tidy.index > 2006) ]\n",
      "\n",
      "vpddays_cflux = pd.concat( [vpddays_cflux, tidy], ignore_index=False )\n",
      "\n",
      "# JSav\n",
      "vpd_sum = wjs_vpdanom > 0\n",
      "vpd_sum = vpd_sum.resample('12MS', how='sum')\n",
      "cflux_sum = wjs_d.resample('12MS', how='sum')\n",
      "tidy = pd.DataFrame(index=vpd_sum.index.year)\n",
      "tidy['site'] = 'Juniper Sav.'\n",
      "tidy['vpddays'] = vpd_sum.values\n",
      "tidy['cflux'] = cflux_sum[ fluxvar ].values\n",
      "tidy = tidy[ np.logical_and(tidy.index < 2015, np.logical_and( tidy.index > 2007, tidy.index != 2013 )) ]\n",
      "\n",
      "vpddays_cflux = pd.concat( [vpddays_cflux, tidy], ignore_index=False )\n",
      "\n",
      "# PJ\n",
      "vpd_sum = mpj_vpdanom > 0\n",
      "vpd_sum = vpd_sum.resample('12MS', how='sum')\n",
      "cflux_sum = mpj_d.resample('12MS', how='sum')\n",
      "tidy = pd.DataFrame(index=vpd_sum.index.year)\n",
      "tidy['site'] = 'Pinyon Juniper'\n",
      "tidy['vpddays'] = vpd_sum.values\n",
      "tidy['cflux'] = cflux_sum[ fluxvar ].values\n",
      "tidy = tidy[ np.logical_and(tidy.index < 2015, tidy.index > 2007) ]\n",
      "\n",
      "vpddays_cflux = pd.concat( [vpddays_cflux, tidy], ignore_index=False )\n",
      "\n",
      "# PPine\n",
      "vpd_sum = vcp_vpdanom > 0\n",
      "vpd_sum = vpd_sum.resample('12MS', how='sum')\n",
      "cflux_sum = vcp_d.resample('12MS', how='sum')\n",
      "tidy = pd.DataFrame(index=vpd_sum.index.year)\n",
      "tidy['site'] = 'Ponderosa Pine'\n",
      "tidy['vpddays'] = vpd_sum.values\n",
      "tidy['cflux'] = cflux_sum[ fluxvar ].values\n",
      "tidy = tidy[ np.logical_and(tidy.index < 2015, tidy.index > 2006) ]\n",
      "\n",
      "vpddays_cflux = pd.concat( [vpddays_cflux, tidy], ignore_index=False )\n",
      "\n",
      "# MCon\n",
      "#gs = np.logical_and(vcm_vpdanom.index.month > 2, vcm_vpdanom.index.month < 12)\n",
      "vpd_sum = vcm_vpdanom > 0 ;\n",
      "\n",
      "vpd_sum = vpd_sum.resample('12MS', how='sum')\n",
      "cflux_sum = vcm_d.resample('12MS', how='sum')\n",
      "tidy = pd.DataFrame(index=vpd_sum.index.year)\n",
      "tidy['site'] = 'Mixed Conifer'\n",
      "tidy['vpddays'] = vpd_sum.values\n",
      "tidy['cflux'] = cflux_sum[ fluxvar ].values\n",
      "tidy = tidy[ np.logical_and(tidy.index < 2013, tidy.index > 2006) ]\n",
      "\n",
      "vpddays_cflux = pd.concat( [vpddays_cflux, tidy], ignore_index=False )\n",
      "\n",
      "#tidy = pd.melt(tidy,  id_vars=['site'], value_vars=['vpddays','cflux'])\n",
      "\n",
      "print vpddays_cflux\n",
      "\n",
      "\n",
      "sites = [\"Grassland\", \"Shrubland\", \"Juniper Sav.\", \"Pinyon Juniper\", \"Ponderosa Pine\", \"Mixed Conifer\"]\n",
      "sns.set_context(\"paper\", font_scale=2, rc={\"lines.linewidth\": 2.5})\n",
      "fig4 = sns.lmplot( 'vpddays', 'cflux', vpddays_cflux, col='site', hue='site', col_order=sites, hue_order=sites, col_wrap=2, \n",
      "           sharey=False, sharex=False, palette=nmeg_palette )\n",
      "#fig4.set_titles(template='')\n",
      "\n",
      "fig4.set_axis_labels(' Growing season\\nhigh VPD days (#)', 'Cumulative RE\\n(annual $g\\ C\\ m^2$)');\n",
      "\n",
      "fig4.savefig( fig_path + 'NMEG_ann_RECO_vpdanom.tiff', dpi=200)\n",
      "plt.show()\n",
      "\n",
      "axes = fig4.axes\n",
      "for num, i in enumerate( axes ):\n",
      "    i.text(sites[num])"
     ],
     "language": "python",
     "metadata": {},
     "outputs": [
      {
       "output_type": "stream",
       "stream": "stdout",
       "text": [
        "Index([u'GPP_g_int', u'RECO_g_int', u'FC_F_g_int', u'ET_mm_int_0', u'P_F', u'TA_F', u'RH_F', u'SW_IN_F', u'RNET', u'VPD_F', u'TA_F_min', u'VPD_F_min', u'TA_F_max', u'VPD_F_max'], dtype='object')\n",
        "                site  vpddays       cflux\n",
        "2007       Grassland       90  246.002705\n",
        "2008       Grassland       71  216.750777\n",
        "2009       Grassland       87  184.230160\n",
        "2010       Grassland       88  162.694079\n",
        "2011       Grassland       93  172.987878\n",
        "2012       Grassland      112  184.678078\n",
        "2013       Grassland       53  257.434597\n",
        "2014       Grassland       48  225.491611\n",
        "2007       Shrubland       93  141.523832\n",
        "2008       Shrubland       70  155.448639\n",
        "2009       Shrubland       91  129.313733\n",
        "2010       Shrubland       81  110.465177\n",
        "2011       Shrubland       93   87.120797\n",
        "2012       Shrubland      112   95.532906\n",
        "2013       Shrubland       52  144.818078\n",
        "2014       Shrubland       54  123.241854\n",
        "2008    Juniper Sav.      187  396.907276\n",
        "2009    Juniper Sav.      205  299.385556\n",
        "2010    Juniper Sav.      173  381.634173\n",
        "2011    Juniper Sav.      219  271.921345\n",
        "2012    Juniper Sav.      243  353.222079\n",
        "2014    Juniper Sav.      143  468.824239\n",
        "2008  Pinyon Juniper      183  428.512702\n",
        "2009  Pinyon Juniper      182  436.422591\n",
        "2010  Pinyon Juniper      173  573.439108\n",
        "2011  Pinyon Juniper      212  481.509943\n",
        "2012  Pinyon Juniper      243  414.761411\n",
        "2013  Pinyon Juniper      164  458.256266\n",
        "2014  Pinyon Juniper      183  629.209300\n",
        "2007  Ponderosa Pine      169  668.481805\n",
        "2008  Ponderosa Pine      150  667.112055\n",
        "2009  Ponderosa Pine      171  771.047457\n",
        "2010  Ponderosa Pine      167  783.619858\n",
        "2011  Ponderosa Pine      198  771.065499\n",
        "2012  Ponderosa Pine      235  885.605434\n",
        "2013  Ponderosa Pine      171  807.601025\n",
        "2014  Ponderosa Pine      182  776.172913\n",
        "2007   Mixed Conifer      165  238.895435\n",
        "2008   Mixed Conifer      160  259.968447\n",
        "2009   Mixed Conifer      183  280.689979\n",
        "2010   Mixed Conifer      175  292.473201\n",
        "2011   Mixed Conifer      212  311.277494\n",
        "2012   Mixed Conifer      245  233.626842"
       ]
      },
      {
       "output_type": "stream",
       "stream": "stdout",
       "text": [
        "\n"
       ]
      },
      {
       "ename": "TypeError",
       "evalue": "text() takes at least 4 arguments (2 given)",
       "output_type": "pyerr",
       "traceback": [
        "\u001b[0;31m---------------------------------------------------------------------------\u001b[0m\n\u001b[0;31mTypeError\u001b[0m                                 Traceback (most recent call last)",
        "\u001b[0;32m<ipython-input-13-4f1d584268cf>\u001b[0m in \u001b[0;36m<module>\u001b[0;34m()\u001b[0m\n\u001b[1;32m    101\u001b[0m \u001b[0maxes\u001b[0m \u001b[0;34m=\u001b[0m \u001b[0mfig4\u001b[0m\u001b[0;34m.\u001b[0m\u001b[0maxes\u001b[0m\u001b[0;34m\u001b[0m\u001b[0m\n\u001b[1;32m    102\u001b[0m \u001b[0;32mfor\u001b[0m \u001b[0mnum\u001b[0m\u001b[0;34m,\u001b[0m \u001b[0mi\u001b[0m \u001b[0;32min\u001b[0m \u001b[0menumerate\u001b[0m\u001b[0;34m(\u001b[0m \u001b[0maxes\u001b[0m \u001b[0;34m)\u001b[0m\u001b[0;34m:\u001b[0m\u001b[0;34m\u001b[0m\u001b[0m\n\u001b[0;32m--> 103\u001b[0;31m     \u001b[0mi\u001b[0m\u001b[0;34m.\u001b[0m\u001b[0mtext\u001b[0m\u001b[0;34m(\u001b[0m\u001b[0msites\u001b[0m\u001b[0;34m[\u001b[0m\u001b[0mnum\u001b[0m\u001b[0;34m]\u001b[0m\u001b[0;34m)\u001b[0m\u001b[0;34m\u001b[0m\u001b[0m\n\u001b[0m",
        "\u001b[0;31mTypeError\u001b[0m: text() takes at least 4 arguments (2 given)"
       ]
      }
     ],
     "prompt_number": 13
    },
    {
     "cell_type": "markdown",
     "metadata": {},
     "source": [
      "## Plot whatever"
     ]
    },
    {
     "cell_type": "code",
     "collapsed": false,
     "input": [
      "varname = 'P_F'\n",
      "label = 'Precip (mm)'\n",
      "ylims = [ 0, 60 ]\n",
      "\n",
      "figX = plt.figure(figsize=( 11.5, 6.5 ), dpi=150, facecolor='w', edgecolor='k')\n",
      "ax1 = plt.subplot(6, 1, 1)\n",
      "plt.plot(seg_d.index, seg_d[ varname ], color=gcolour)\n",
      "plt.setp( ax1.get_xticklabels(), visible=False)\n",
      "plt.setp( ax1.get_yticklabels(), fontsize=13)\n",
      "plt.ylabel( label, fontsize=14)\n",
      "plt.ylim( ylims )\n",
      "plt.xlim( xlims )\n",
      "ax2 = plt.subplot(6, 1, 2)\n",
      "plt.plot(ses_d.index, ses_d[ varname ], color=scolour)\n",
      "plt.setp( ax2.get_xticklabels(), visible=False)\n",
      "plt.setp( ax2.get_yticklabels(), fontsize=13)\n",
      "plt.ylim( ylims )\n",
      "plt.xlim( xlims )\n",
      "ax3 = plt.subplot(6, 1, 3)\n",
      "plt.plot(wjs_d.index, wjs_d[ varname ], color=jcolour)\n",
      "plt.setp( ax3.get_xticklabels(), visible=False)\n",
      "plt.setp( ax3.get_yticklabels(), fontsize=13)\n",
      "plt.ylabel( label, fontsize=14)\n",
      "plt.ylim( ylims )\n",
      "plt.xlim( xlims )\n",
      "ax4 = plt.subplot(6, 1, 4)\n",
      "plt.plot(mpj_d.index, mpj_d[ varname ], color=pjcolour)\n",
      "plt.setp( ax4.get_xticklabels(), visible=False)\n",
      "plt.setp( ax4.get_yticklabels(), fontsize=13)\n",
      "plt.ylim( ylims )\n",
      "plt.xlim( xlims )\n",
      "ax5 = plt.subplot(6, 1, 5)\n",
      "plt.plot(vcp_d.index, vcp_d[ varname ], color=pcolour)\n",
      "plt.setp( ax5.get_xticklabels(), visible=False)\n",
      "plt.setp( ax5.get_yticklabels(), fontsize=13)\n",
      "plt.ylabel( label, fontsize=14)\n",
      "plt.ylim( ylims )\n",
      "plt.xlim( xlims )\n",
      "ax6 = plt.subplot(6, 1, 6)\n",
      "plt.plot(vcm_d.index, vcm_d[ varname ], color=mcolour)\n",
      "plt.setp( ax6.get_yticklabels(), fontsize=13)\n",
      "plt.ylim( ylims )\n",
      "plt.xlim( xlims )\n",
      "plt.show()\n",
      "\n",
      "figX.savefig( fig_path + 'NMEG_daily_PRECIP.tiff', dpi=200)"
     ],
     "language": "python",
     "metadata": {},
     "outputs": [],
     "prompt_number": 38
    }
   ],
   "metadata": {}
  }
 ]
}
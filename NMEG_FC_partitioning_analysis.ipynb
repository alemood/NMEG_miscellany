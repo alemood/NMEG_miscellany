{
 "metadata": {
  "name": "",
  "signature": "sha256:6d90bc2218a8392c29b8bc2d4540c2da6b238d10b9ffcc2f2e5cb7eb147a4fa1"
 },
 "nbformat": 3,
 "nbformat_minor": 0,
 "worksheets": [
  {
   "cells": [
    {
     "cell_type": "markdown",
     "metadata": {},
     "source": [
      "# Identify NMEG partitioning issues\n",
      "\n",
      "_Gregory Maurer, UNM, May 2015_\n",
      "\n",
      "First set up environment and load 2009-2014 gapfilled Ameriflux data.\n",
      "\n",
      "* "
     ]
    },
    {
     "cell_type": "code",
     "collapsed": false,
     "input": [],
     "language": "python",
     "metadata": {},
     "outputs": []
    }
   ],
   "metadata": {}
  }
 ]
}
{
 "metadata": {
  "name": "",
  "signature": "sha256:2298f6fb639b797e42442795223c158abc8882c7ac32f862acdd670b7991b02e"
 },
 "nbformat": 3,
 "nbformat_minor": 0,
 "worksheets": [
  {
   "cells": [
    {
     "cell_type": "markdown",
     "metadata": {},
     "source": [
      "# Identify NMEG partitioning issues\n",
      "\n",
      "_Gregory Maurer, UNM, May 2015_\n",
      "\n",
      "First set up environment and load 2009-2014 gapfilled Ameriflux data.\n",
      "\n",
      "* "
     ]
    },
    {
     "cell_type": "code",
     "collapsed": false,
     "input": [
      "import sys\n",
      "sys.path.append( '/home/greg/current/NMEG_utils/py_modules/' )\n",
      "\n",
      "#%matplotlib inline\n",
      "import load_nmeg as ld\n",
      "import transform_nmeg as tr\n",
      "import pandas as pd\n",
      "import numpy as np\n",
      "import matplotlib\n",
      "import matplotlib.pyplot as plt\n",
      "import seaborn as sns\n",
      "import datetime as dt\n",
      "\n",
      "af_path = '/home/greg/sftp/eddyflux/Ameriflux_files/provisional/'\n",
      "\n",
      "start = 2009\n",
      "end = 2014\n",
      "\n",
      "site = 'US-Vcp'\n",
      "\n",
      "site_data = ld.get_multiyr_aflx( site, af_path, gapfilled=True, startyear=start, endyear=end)\n"
     ],
     "language": "python",
     "metadata": {},
     "outputs": [
      {
       "output_type": "stream",
       "stream": "stdout",
       "text": [
        "Parsing /home/greg/sftp/eddyflux/Ameriflux_files/provisional/US-Vcp_2009_gapfilled.txt\n",
        "Parsing /home/greg/sftp/eddyflux/Ameriflux_files/provisional/US-Vcp_2010_gapfilled.txt"
       ]
      },
      {
       "output_type": "stream",
       "stream": "stdout",
       "text": [
        "\n",
        "Parsing /home/greg/sftp/eddyflux/Ameriflux_files/provisional/US-Vcp_2011_gapfilled.txt"
       ]
      },
      {
       "output_type": "stream",
       "stream": "stdout",
       "text": [
        "\n",
        "Parsing /home/greg/sftp/eddyflux/Ameriflux_files/provisional/US-Vcp_2012_gapfilled.txt"
       ]
      },
      {
       "output_type": "stream",
       "stream": "stdout",
       "text": [
        "\n",
        "Parsing /home/greg/sftp/eddyflux/Ameriflux_files/provisional/US-Vcp_2013_gapfilled.txt"
       ]
      },
      {
       "output_type": "stream",
       "stream": "stdout",
       "text": [
        "\n",
        "Parsing /home/greg/sftp/eddyflux/Ameriflux_files/provisional/US-Vcp_2014_gapfilled.txt"
       ]
      },
      {
       "output_type": "stream",
       "stream": "stdout",
       "text": [
        "\n"
       ]
      }
     ],
     "prompt_number": 83
    },
    {
     "cell_type": "code",
     "collapsed": false,
     "input": [
      "sns.set_style( 'white' )\n",
      "filled = site_data.FC_f_flag == 1\n",
      "fig0 = plt.figure( figsize=( 10.5, 4.5 ), dpi=150, facecolor='w', edgecolor='k' )\n",
      "ax1 = fig0.add_subplot( 1, 1, 1 )\n",
      "h1 = ax1.plot( site_data.index, site_data.FC_f, '.')\n",
      "h2 = ax1.plot( site_data.index[filled], site_data.FC_f[filled], '.', alpha=0.5)\n",
      "h3 = ax1.plot( site_data.index, site_data.RE_MR2005, lw=0.7 )\n",
      "h4 = ax1.plot( site_data.index, site_data.RE_MR2005_ecb, ':', lw=0.7, color='Black' )\n",
      "plt.ylabel('Fc (umol m-2 s-1)')\n",
      "plt.legend( [ 'Fc (raw)','Fc (filled)', 'RE Reichstein', 'RE Reichstein_ecb' ], loc='lower right' )\n",
      "plt.show()"
     ],
     "language": "python",
     "metadata": {},
     "outputs": [],
     "prompt_number": 81
    },
    {
     "cell_type": "code",
     "collapsed": false,
     "input": [
      "fig1 = plt.figure( figsize=( 10.5, 4.5 ), dpi=150, facecolor='w', edgecolor='k' )\n",
      "ax1 = fig1.add_subplot( 2, 1, 1 )\n",
      "h1 = ax1.plot( site_data.index, site_data.FC_f, '.' ) \n",
      "h2 = ax1.plot( site_data.index[ filled ], site_data.FC_f[ filled ], '.', alpha=.5, )\n",
      "h3 = ax1.plot( site_data.index, site_data.RE_GL2010, lw=0.7 )\n",
      "h4 = ax1.plot( site_data.index, site_data.RE_GL2010_ecb, ':', lw=0.7, color='Black' )\n",
      "plt.ylabel('Fc (umol m-2 s-1)')\n",
      "plt.legend( [ 'Fc (raw)','Fc (filled)','RE Lasslop', 'RE Lasslop_ecb'], loc='lower right' )\n",
      "\n",
      "ax2 = fig1.add_subplot( 2, 1, 2 , sharex = ax1 )\n",
      "h5 = ax2.plot( site_data.index, site_data.TA_f )\n",
      "ax3 = ax2.twinx()\n",
      "h6 = ax3.plot( site_data.index, site_data.PRECIP_f, alpha=.5, color='Black' ) \n",
      "ax2.set_ylabel('Tair')\n",
      "ax3.set_ylabel('Precip')\n",
      "plt.show()"
     ],
     "language": "python",
     "metadata": {},
     "outputs": []
    },
    {
     "cell_type": "code",
     "collapsed": false,
     "input": [
      "for i in range(start,end+1):\n",
      "    dat = site_data[ site_data.index.year == i ]\n",
      "    \n",
      "    filled = dat.FC_f_flag == 1\n",
      "    \n",
      "    fig2 = plt.figure( figsize=( 10.5, 4.5 ), dpi=150, facecolor='w', edgecolor='k' )\n",
      "    ax1 = fig2.add_subplot( 2, 1, 1 )\n",
      "    h1 = ax1.plot( dat.index, dat.FC_f, '.' ) \n",
      "    h2 = ax1.plot( dat.index[ filled ], dat.FC_f[ filled ], '.', alpha=.5, )\n",
      "    h3 = ax1.plot( dat.index, dat.RE_GL2010, lw=0.7 )\n",
      "    h4 = ax1.plot( dat.index, dat.RE_GL2010_ecb, ':', lw=0.7, color='Black' )\n",
      "    plt.ylabel('Fc (umol m-2 s-1)')\n",
      "    plt.legend( [ 'Fc (raw)','Fc (filled)','RE Lasslop', 'RE Lasslop_ecb'], loc='lower right' )\n",
      "\n",
      "    ax2 = fig2.add_subplot( 2, 1, 2 , sharex = ax1 )\n",
      "    h5 = ax2.plot( dat.index, dat.TA_f )\n",
      "    ax3 = ax2.twinx()\n",
      "    h6 = ax3.plot( dat.index, dat.PRECIP_f, alpha=.5, color='Black' ) \n",
      "    ax2.set_ylabel('Tair')\n",
      "    ax3.set_ylabel('Precip')\n",
      "    #plt.show()\n",
      "    figname = 'figures/partfigs/' + site + str(i) + '_lasslop.png'\n",
      "    fig2.savefig( figname, dpi=fig1.dpi )\n"
     ],
     "language": "python",
     "metadata": {},
     "outputs": [],
     "prompt_number": 78
    }
   ],
   "metadata": {}
  }
 ]
}
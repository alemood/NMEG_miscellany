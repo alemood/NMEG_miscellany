{
 "metadata": {
  "name": "",
  "signature": "sha256:62e3dbe2b12759538f8edc3c26f925089b01e20d283897e53517d90c7b40ca0d"
 },
 "nbformat": 3,
 "nbformat_minor": 0,
 "worksheets": [
  {
   "cells": [
    {
     "cell_type": "markdown",
     "metadata": {},
     "source": [
      "# Identify NMEG partitioning issues\n",
      "\n",
      "_Gregory Maurer, UNM, May 2015_\n",
      "\n",
      "There are two types of partitioning widely used to partition eddy covariance carbon flux (NEE) into ecosystem respiration (Reco) and gross primary productivity (GPP).\n",
      "\n",
      "1. Reichstein 2005\n",
      "    * Nighttime respiration data (assumed to equal Reco) is used to derive a temperature sensitivity function of Reco during the day and night.\n",
      "    * Temperature sensitivity of Reco estimated every 5 days from a 15-day moving window using the Lloyd and Taylor 1994 T response function.\n",
      "    * Continuous Reco is then modeled based on temperature (air or soil).\n",
      "    * May be biased due to frequent nighttime suppression of turbulence and dominance of advective fluxes not measured by conventional EC systems\n",
      "2. Lasslop 2010\n",
      "    * Daytime NEE is modeled by fitting daytime flux data to a hyperbolic light-response function (estimating GPP) and then adding Reco.\n",
      "    * Daytime Reco is determined with a Lloyd and Taylor (1994) temperature response function from a combination of nighttime flux data (as in Reichstein approach) and daytime flux data.\n",
      "    * Daytime Reco is then extrapolated into the nighttime using nighttime temperature.\n",
      "    * VPD acts as a strong limiter of photosynthesis.\n",
      "    * Parameters are estimated every two days with a 4-day moving window when using the daytime data and a 12-day moving window when using the nighttime data.\n"
     ]
    },
    {
     "cell_type": "markdown",
     "metadata": {},
     "source": [
      "First set up environment and load 2009-2014 gapfilled Ameriflux data.\n",
      "\n",
      "* "
     ]
    },
    {
     "cell_type": "code",
     "collapsed": false,
     "input": [
      "import sys\n",
      "sys.path.append( '/home/greg/current/NMEG_utils/py_modules/' )\n",
      "\n",
      "#%matplotlib inline\n",
      "import load_nmeg as ld\n",
      "import transform_nmeg as tr\n",
      "import pandas as pd\n",
      "import numpy as np\n",
      "import matplotlib\n",
      "import matplotlib.pyplot as plt\n",
      "import seaborn as sns\n",
      "import datetime as dt\n",
      "\n",
      "sns.set_style( 'white' )\n",
      "\n",
      "af_path = '/home/greg/sftp/eddyflux/Ameriflux_files/provisional/'\n",
      "\n",
      "start = 2009\n",
      "end = 2014\n",
      "\n",
      "site = 'US-Mpj'\n",
      "\n",
      "site_data = ld.get_multiyr_aflx( site, af_path, gapfilled=True, startyear=start, endyear=end)\n"
     ],
     "language": "python",
     "metadata": {},
     "outputs": [
      {
       "output_type": "stream",
       "stream": "stdout",
       "text": [
        "Parsing /home/greg/sftp/eddyflux/Ameriflux_files/provisional/US-Mpj_2009_gapfilled.txt\n",
        "Parsing /home/greg/sftp/eddyflux/Ameriflux_files/provisional/US-Mpj_2010_gapfilled.txt"
       ]
      },
      {
       "output_type": "stream",
       "stream": "stdout",
       "text": [
        "\n",
        "Parsing /home/greg/sftp/eddyflux/Ameriflux_files/provisional/US-Mpj_2011_gapfilled.txt"
       ]
      },
      {
       "output_type": "stream",
       "stream": "stdout",
       "text": [
        "\n",
        "Parsing /home/greg/sftp/eddyflux/Ameriflux_files/provisional/US-Mpj_2012_gapfilled.txt"
       ]
      },
      {
       "output_type": "stream",
       "stream": "stdout",
       "text": [
        "\n",
        "Parsing /home/greg/sftp/eddyflux/Ameriflux_files/provisional/US-Mpj_2013_gapfilled.txt"
       ]
      },
      {
       "output_type": "stream",
       "stream": "stdout",
       "text": [
        "\n",
        "Parsing /home/greg/sftp/eddyflux/Ameriflux_files/provisional/US-Mpj_2014_gapfilled.txt"
       ]
      },
      {
       "output_type": "stream",
       "stream": "stdout",
       "text": [
        "\n"
       ]
      }
     ],
     "prompt_number": 1
    },
    {
     "cell_type": "markdown",
     "metadata": {},
     "source": [
      "# Reichstein partitioning and C balance"
     ]
    },
    {
     "cell_type": "code",
     "collapsed": false,
     "input": [
      "fig0 = plt.figure( figsize=( 10.5, 4.5 ), dpi=150, facecolor='w', edgecolor='k' )\n",
      "ax1 = fig0.add_subplot( 1, 1, 1 )\n",
      "h1 = ax1.plot( site_data.index, site_data.FC_f, '.')\n",
      "# Need to set edgecolor...\n",
      "h2 = ax1.plot( site_data.index, site_data.NEE_MR2005_ecb, 'o', mfc='None' )\n",
      "h3 = ax1.plot( site_data.index, site_data.RE_MR2005, lw=0.7 )\n",
      "h4 = ax1.plot( site_data.index, site_data.RE_MR2005_ecb, ':', lw=0.7, color='Black' )\n",
      "h5 = ax1.plot( site_data.index, -site_data.GPP_f_MR2005, lw=0.7, color='Yellow' )\n",
      "h6 = ax1.plot( site_data.index, -site_data.GPP_MR2005_ecb, ':', lw=0.7, color='Black' )\n",
      "#h7 = ax1.plot( site_data.index, site_data.NEE_MR2005_ecb, ':', lw=0.7, color='Orange' )\n",
      "plt.ylabel('Fc (umol m-2 s-1)')\n",
      "plt.legend( [ 'Fc (raw)','NEE Reichstein_ecb', 'RE Reichstein', 'RE Reichstein_ecb',\n",
      "             'GPP Reichstein','GPP Reichstein_ecb'], loc='lower right' )\n",
      "plt.show()"
     ],
     "language": "python",
     "metadata": {},
     "outputs": [],
     "prompt_number": 4
    },
    {
     "cell_type": "markdown",
     "metadata": {},
     "source": [
      "# Lasslop partitioning and C balance"
     ]
    },
    {
     "cell_type": "code",
     "collapsed": false,
     "input": [
      "fig1 = plt.figure( figsize=( 10.5, 4.5 ), dpi=150, facecolor='w', edgecolor='k' )\n",
      "ax1 = fig1.add_subplot( 2, 1, 1 )\n",
      "h1 = ax1.plot( site_data.index, site_data.FC_f, '.' )\n",
      "# Need to set edgecolor\n",
      "h2 = ax1.plot( site_data.index, site_data.NEE_GL2010_ecb, 'o', mfc='None' )\n",
      "h3 = ax1.plot( site_data.index, site_data.RE_GL2010, lw=0.7 )\n",
      "h4 = ax1.plot( site_data.index, site_data.RE_GL2010_ecb, ':', lw=0.7, color='Black' )\n",
      "h5 = ax1.plot( site_data.index, -site_data.GPP_GL2010, lw=0.7, color='Yellow' )\n",
      "h6 = ax1.plot( site_data.index, -site_data.GPP_GL2010_ecb, ':', lw=0.7, color='Black' )\n",
      "plt.ylabel('Fc (umol m-2 s-1)')\n",
      "plt.legend( [ 'Fc (raw)','NEE Lasslop_ecb','RE Lasslop', 'RE Lasslop_ecb', \n",
      "             'GPP Lasslop', 'GPP Lasslop_ecb'], loc='lower right' )\n",
      "plt.show()"
     ],
     "language": "python",
     "metadata": {},
     "outputs": [],
     "prompt_number": 47
    },
    {
     "cell_type": "markdown",
     "metadata": {},
     "source": [
      "# Lasslop diagnostic figs"
     ]
    },
    {
     "cell_type": "code",
     "collapsed": false,
     "input": [
      "for i in range(start,end+1):\n",
      "    dat = site_data[ site_data.index.year == i ]\n",
      "    \n",
      "    filledFC = dat.FC_f_flag == 1\n",
      "    \n",
      "    fig2 = plt.figure( figsize=( 10.5, 6 ), dpi=150, facecolor='w', edgecolor='k' )\n",
      "    ax1 = fig2.add_subplot( 4, 1, 1 )\n",
      "    h1 = ax1.plot( dat.index, dat.FC_f, '.' ) \n",
      "    h2 = ax1.plot( dat.index[ filledFC ], dat.FC_f[ filledFC ], \n",
      "                  '.', mfc='None', mec='#40E0D0', mew=0.5 )\n",
      "    h3 = ax1.plot( dat.index, dat.RE_GL2010, lw=0.9 )\n",
      "    h4 = ax1.plot( dat.index, dat.RE_GL2010_ecb, ':', lw=0.9, color='Black', alpha=.6 )\n",
      "    plt.ylabel('Fc (umol m-2 s-1)')\n",
      "    plt.legend( [ 'Fc (raw)','Fc (filled)','RE Lasslop', 'RE Lasslop_ecb'], loc='lower right' )\n",
      "    \n",
      "    axb = fig2.add_subplot( 4, 1, 2, sharex = ax1 )\n",
      "    h1 = axb.plot( dat.index, dat.FC_f, '.' ) \n",
      "    h2 = axb.plot( dat.index[ filledFC ], dat.FC_f[ filledFC ], \n",
      "                  '.', mfc='None', mec='#40E0D0', mew=0.5 )\n",
      "    h3 = axb.plot( dat.index, dat.RE_MR2005, lw=0.9 )\n",
      "    h4 = axb.plot( dat.index, dat.RE_MR2005_ecb, ':', lw=0.9, color='Black', alpha=.6 )\n",
      "    plt.ylabel('Fc (umol m-2 s-1)')\n",
      "    plt.legend( [ 'Fc (raw)','Fc (filled)','RE Reich', 'RE Reich_ecb'], loc='lower right' )\n",
      "    \n",
      "    filledTA = dat.TA_f_flag == 1\n",
      "\n",
      "    ax2 = fig2.add_subplot( 4, 1, 3 , sharex = ax1 )\n",
      "    h5 = ax2.plot( dat.index, dat.TA_f )\n",
      "    h6 = ax2.plot( dat.index[ filledTA ], dat.TA_f[ filledTA ], \n",
      "                  '.', mfc='None', mec='#40E0D0', mew=0.5 )\n",
      "    ax3 = ax2.twinx()\n",
      "    h7 = ax3.plot( dat.index, dat.PRECIP_f, alpha=.5, color='Black' ) \n",
      "    ax2.set_ylabel('Tair')\n",
      "    ax3.set_ylabel('Precip')\n",
      "    \n",
      "    filledRG = dat.Rg_f_flag == 1\n",
      "    \n",
      "    ax3 = fig2.add_subplot( 4, 1, 4 , sharex = ax1 )\n",
      "    h8 = ax3.plot( dat.index, dat.Rg_f )\n",
      "    h9 = ax3.plot( dat.index[ filledRG ], dat.Rg_f[ filledRG ], \n",
      "                  '.', mfc='None', mec='#40E0D0', mew=0.5 )\n",
      "    ax4 = ax3.twinx()\n",
      "    h10 = ax4.plot( dat.index, dat.VPD_f, alpha=.5, color='Black' ) \n",
      "    ax3.set_ylabel('SW_in')\n",
      "    ax4.set_ylabel('VPD')\n",
      "    \n",
      "plt.show()\n",
      "    #figname = 'figures/partfigs/' + site + str(i) + '_lasslop.png'\n",
      "    #fig2.savefig( figname, dpi=fig2.dpi )\n"
     ],
     "language": "python",
     "metadata": {},
     "outputs": []
    }
   ],
   "metadata": {}
  }
 ]
}
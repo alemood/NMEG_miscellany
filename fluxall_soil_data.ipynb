{
 "cells": [
  {
   "cell_type": "code",
   "execution_count": 1,
   "metadata": {
    "collapsed": false
   },
   "outputs": [],
   "source": [
    "import sys\n",
    "#sys.path.append( '/home/greg/current/NMEG_utils/py_modules/' )\n",
    "sys.path.append( '../NMEG_utils/py_modules/' )\n",
    "\n",
    "#%matplotlib inline\n",
    "import load_nmeg as ld\n",
    "import transform_nmeg as tr\n",
    "import pandas as pd\n",
    "import numpy as np\n",
    "import matplotlib\n",
    "import matplotlib.pyplot as plt\n",
    "import seaborn as sns\n",
    "import datetime as dt\n",
    "#import ipdb as ipdb\n",
    "\n",
    "sns.set_style(\"white\")\n",
    "\n",
    "# data_path = 'C:/Research_Flux_Towers/Flux_Tower_Data_by_Site/'\n",
    "data_path = '/home/greg/sftp/eddyflux/Fluxall_files/provisional/'"
   ]
  },
  {
   "cell_type": "code",
   "execution_count": 2,
   "metadata": {
    "collapsed": false
   },
   "outputs": [
    {
     "name": "stdout",
     "output_type": "stream",
     "text": [
      "Parsing /home/greg/sftp/eddyflux/Fluxall_files/provisional/SLand/SLand_2007_fluxall.txt\n",
      "Parsing /home/greg/sftp/eddyflux/Fluxall_files/provisional/SLand/SLand_2008_fluxall.txt\n",
      "Parsing /home/greg/sftp/eddyflux/Fluxall_files/provisional/SLand/SLand_2009_fluxall.txt\n",
      "Parsing /home/greg/sftp/eddyflux/Fluxall_files/provisional/SLand/SLand_2010_fluxall.txt\n",
      "Parsing /home/greg/sftp/eddyflux/Fluxall_files/provisional/SLand/SLand_2011_fluxall.txt\n",
      "Parsing /home/greg/sftp/eddyflux/Fluxall_files/provisional/SLand/SLand_2012_fluxall.txt\n",
      "WARNING: some observations may be missing!\n",
      "Parsing /home/greg/sftp/eddyflux/Fluxall_files/provisional/SLand/SLand_2013_fluxall.txt\n",
      "Parsing /home/greg/sftp/eddyflux/Fluxall_files/provisional/SLand/SLand_2014_fluxall.txt\n"
     ]
    },
    {
     "data": {
      "text/plain": [
       "DatetimeIndex(['2007-01-01 00:30:00', '2007-01-01 01:00:00',\n",
       "               '2007-01-01 01:30:00', '2007-01-01 02:00:00',\n",
       "               '2007-01-01 02:30:00', '2007-01-01 03:00:00',\n",
       "               '2007-01-01 03:30:00', '2007-01-01 04:00:00',\n",
       "               '2007-01-01 04:30:00', '2007-01-01 05:00:00', \n",
       "               ...\n",
       "               '2014-12-31 19:30:00', '2014-12-31 20:00:00',\n",
       "               '2014-12-31 20:30:00', '2014-12-31 21:00:00',\n",
       "               '2014-12-31 21:30:00', '2014-12-31 22:00:00',\n",
       "               '2014-12-31 22:30:00', '2014-12-31 23:00:00',\n",
       "               '2014-12-31 23:30:00', '2015-01-01 00:00:00'],\n",
       "              dtype='datetime64[ns]', length=140256, freq='30T', tz=None)"
      ]
     },
     "execution_count": 2,
     "metadata": {},
     "output_type": "execute_result"
    }
   ],
   "source": [
    "# Years to load\n",
    "start = 2007\n",
    "end = 2014\n",
    "# Sites to load\n",
    "site = 'SLand'\n",
    "# Empty dict for hourly dataframes\n",
    "hourly = dict()\n",
    "\n",
    "\n",
    "site_df = ld.get_multiyr_fluxall( site, data_path, startyear=start, endyear=end)  \n",
    "site_df.index"
   ]
  },
  {
   "cell_type": "markdown",
   "metadata": {},
   "source": [
    "# get the soil columns"
   ]
  },
  {
   "cell_type": "code",
   "execution_count": 3,
   "metadata": {
    "collapsed": false
   },
   "outputs": [
    {
     "name": "stdout",
     "output_type": "stream",
     "text": [
      "['SWC_O1_12p5_Avg', 'SWC_O1_22p5_Avg', 'SWC_O1_2p5_Avg', 'SWC_O1_37p5_Avg', 'SWC_O1_52p5_Avg', 'SWC_O2_12p5_Avg', 'SWC_O2_22p5_Avg', 'SWC_O2_2p5_Avg', 'SWC_O2_37p5_Avg', 'SWC_O2_52p5_Avg', 'SWC_S1_12p5_Avg', 'SWC_S1_22p5_Avg', 'SWC_S1_2p5_Avg', 'SWC_S1_37p5_Avg', 'SWC_S1_52p5_Avg', 'SWC_S2_12p5_Avg', 'SWC_S2_22p5_Avg', 'SWC_S2_2p5_Avg', 'SWC_S2_37p5_Avg', 'SWC_S2_52p5_Avg']\n"
     ]
    }
   ],
   "source": [
    "soilcols1 = [s for s in site_df.columns if 'SWC' in s]\n",
    "print(soilcols1)\n",
    "#soilcols2 = [s for s in site_df.columns if 'SoilT' in s]\n",
    "#print(soilcols2)\n",
    "#soilcols = soilcols1 + soilcols2\n",
    "#site_df[soilcols1].to_csv('processed_data/SLand_2014_soil.csv')"
   ]
  },
  {
   "cell_type": "code",
   "execution_count": 4,
   "metadata": {
    "collapsed": false
   },
   "outputs": [],
   "source": [
    "\n",
    "soilcols1 = [s for s in soilcols1 if 'O1' in s]\n",
    "#soilcols = [s for s in soilcols if '_Avg' in s]\n",
    "subset = site_df[soilcols1]\n",
    "\n",
    "xlims = [ dt.datetime( start, 1, 1 ), dt.datetime( end, 12, 31 )]\n",
    "ylims = [0, 40]\n",
    "\n",
    "fig1 = plt.figure(figsize=( 16.5, 7.5 ), dpi=150, facecolor='w', edgecolor='k')\n",
    "for i, colname in enumerate( subset.columns ):\n",
    "    nsensors = len( subset.columns )\n",
    "    ax = fig1.add_subplot( nsensors, 1, i+1 )\n",
    "    plt.plot( subset.index, subset[ colname ] )\n",
    "    plt.ylim( ylims )\n",
    "    plt.xlim( xlims )\n",
    "    plt.text( dt.datetime( start, 2, 1 ), ylims[0]+2, colname, size=14  )\n",
    "    if i<nsensors-1:\n",
    "        plt.setp( ax.get_xticklabels(), visible=False)\n",
    "    \n",
    "subset.plot(figsize=( 16.5, 7.5 ))\n",
    "#plt.ylim( ylims )\n",
    "#plt.xlim( xlims )\n",
    "plt.ylabel('x')\n",
    "\n",
    "\n",
    "plt.show()"
   ]
  }
 ],
 "metadata": {
  "kernelspec": {
   "display_name": "Python 3",
   "language": "python",
   "name": "python3"
  },
  "language_info": {
   "codemirror_mode": {
    "name": "ipython",
    "version": 3
   },
   "file_extension": ".py",
   "mimetype": "text/x-python",
   "name": "python",
   "nbconvert_exporter": "python",
   "pygments_lexer": "ipython3",
   "version": "3.4.3"
  }
 },
 "nbformat": 4,
 "nbformat_minor": 0
}

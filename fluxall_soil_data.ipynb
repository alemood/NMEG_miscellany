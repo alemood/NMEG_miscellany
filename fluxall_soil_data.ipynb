{
 "cells": [
  {
   "cell_type": "code",
   "execution_count": 1,
   "metadata": {
    "collapsed": false
   },
   "outputs": [],
   "source": [
    "import sys\n",
    "#sys.path.append( '/home/greg/current/NMEG_utils/py_modules/' )\n",
    "sys.path.append( '../NMEG_utils/py_modules/' )\n",
    "\n",
    "#%matplotlib inline\n",
    "import load_nmeg as ld\n",
    "import transform_nmeg as tr\n",
    "import pandas as pd\n",
    "import numpy as np\n",
    "import matplotlib\n",
    "import matplotlib.pyplot as plt\n",
    "import seaborn as sns\n",
    "import datetime as dt\n",
    "#import ipdb as ipdb\n",
    "\n",
    "sns.set_style(\"white\")\n",
    "\n",
    "data_path = 'C:/Research_Flux_Towers/Flux_Tower_Data_by_Site/'\n",
    "#data_path = '/home/greg/sftp/eddyflux/Fluxall_files/'"
   ]
  },
  {
   "cell_type": "code",
   "execution_count": 12,
   "metadata": {
    "collapsed": false
   },
   "outputs": [
    {
     "data": {
      "text/plain": [
       "DatetimeIndex(['2007-01-01 00:30:00', '2007-01-01 01:00:00',\n",
       "               '2007-01-01 01:30:00', '2007-01-01 02:00:00',\n",
       "               '2007-01-01 02:30:00', '2007-01-01 03:00:00',\n",
       "               '2007-01-01 03:30:00', '2007-01-01 04:00:00',\n",
       "               '2007-01-01 04:30:00', '2007-01-01 05:00:00', \n",
       "               ...\n",
       "               '2014-12-31 19:30:00', '2014-12-31 20:00:00',\n",
       "               '2014-12-31 20:30:00', '2014-12-31 21:00:00',\n",
       "               '2014-12-31 21:30:00', '2014-12-31 22:00:00',\n",
       "               '2014-12-31 22:30:00', '2014-12-31 23:00:00',\n",
       "               '2014-12-31 23:30:00', '2015-01-01 00:00:00'],\n",
       "              dtype='datetime64[ns]', name='tstamp', length=140262, freq=None, tz=None)"
      ]
     },
     "execution_count": 12,
     "metadata": {},
     "output_type": "execute_result"
    }
   ],
   "source": [
    "# Years to load\n",
    "start = 2007\n",
    "end = 2014\n",
    "# Sites to load\n",
    "site = 'GLand'\n",
    "# Empty dict for hourly dataframes\n",
    "hourly = dict()\n",
    "\n",
    "# Fill dict with multiyear dataframes for each site in sites\n",
    "def dparser( y, m, d, H, M, S ):\n",
    "    yr = int( y )\n",
    "    mon = int( m )\n",
    "    day = int( d )\n",
    "    hr = int( H )\n",
    "    mn =  int( M )\n",
    "    sec = int( S )\n",
    "    \n",
    "    # Some files have a line of zeros at the end - hack it\n",
    "    #if yr != year_arg:\n",
    "    #    yr = 1955\n",
    "    return ( dt.datetime( yr, mon, day, hr, mn, sec ))\n",
    "\n",
    "site_df = pd.DataFrame()\n",
    "for i in range( start, end+1) :\n",
    "    path = data_path + site + '/' + site + '_FLUX_all_' + str( i ) + '.txt'\n",
    "    new = pd.read_csv(path, delimiter='\\t', parse_dates={'tstamp':[0, 1, 2, 3, 4, 5]},\n",
    "                                 date_parser=dparser, index_col='tstamp')\n",
    "    site_df = site_df.append( new )\n",
    "    \n",
    "site_df.index"
   ]
  },
  {
   "cell_type": "markdown",
   "metadata": {},
   "source": [
    "# get the soil columns"
   ]
  },
  {
   "cell_type": "code",
   "execution_count": 13,
   "metadata": {
    "collapsed": false
   },
   "outputs": [
    {
     "data": {
      "text/plain": [
       "['SWC_G1_12p5_Avg',\n",
       " 'SWC_G1_22p5_Avg',\n",
       " 'SWC_G1_2p5_Avg',\n",
       " 'SWC_G1_37p5_Avg',\n",
       " 'SWC_G1_52p5_Avg',\n",
       " 'SWC_G2_12p5_Avg',\n",
       " 'SWC_G2_22p5_Avg',\n",
       " 'SWC_G2_2p5_Avg',\n",
       " 'SWC_G2_37p5_Avg',\n",
       " 'SWC_G2_52p5_Avg',\n",
       " 'SWC_G3_12p5_Avg',\n",
       " 'SWC_G3_22p5_Avg',\n",
       " 'SWC_G3_2p5_Avg',\n",
       " 'SWC_G3_37p5_Avg',\n",
       " 'SWC_G3_52p5_Avg',\n",
       " 'SWC_O1_12p5_Avg',\n",
       " 'SWC_O1_22p5_Avg',\n",
       " 'SWC_O1_2p5_Avg',\n",
       " 'SWC_O1_37p5_Avg',\n",
       " 'SWC_O1_52p5_Avg',\n",
       " 'SWC_O2_12p5_Avg',\n",
       " 'SWC_O2_22p5_Avg',\n",
       " 'SWC_O2_2p5_Avg',\n",
       " 'SWC_O2_37p5_Avg',\n",
       " 'SWC_O2_52p5_Avg',\n",
       " 'SWC_O3_12p5_Avg',\n",
       " 'SWC_O3_22p5_Avg',\n",
       " 'SWC_O3_2p5_Avg',\n",
       " 'SWC_O3_37p5_Avg',\n",
       " 'SWC_O3_52p5_Avg',\n",
       " 'SWC_echo_G1_12p5_Avg',\n",
       " 'SWC_echo_G1_22p5_Avg',\n",
       " 'SWC_echo_G1_2p5_Avg',\n",
       " 'SWC_echo_G1_37p5_Avg',\n",
       " 'SWC_echo_G1_52p5_Avg',\n",
       " 'SWC_echo_G2_12p5_Avg',\n",
       " 'SWC_echo_G2_22p5_Avg',\n",
       " 'SWC_echo_G2_2p5_Avg',\n",
       " 'SWC_echo_G2_37p5_Avg',\n",
       " 'SWC_echo_G2_52p5_Avg',\n",
       " 'SWC_echo_O1_12p5_Avg',\n",
       " 'SWC_echo_O1_22p5_Avg',\n",
       " 'SWC_echo_O1_2p5_Avg',\n",
       " 'SWC_echo_O1_37p5_Avg',\n",
       " 'SWC_echo_O1_52p5_Avg',\n",
       " 'SWC_echo_O2_12p5_Avg',\n",
       " 'SWC_echo_O2_22p5_Avg',\n",
       " 'SWC_echo_O2_2p5_Avg',\n",
       " 'SWC_echo_O2_37p5_Avg',\n",
       " 'SWC_echo_O2_52p5_Avg',\n",
       " 'SWC_grass1_12p5cm_Avg',\n",
       " 'SWC_grass1_22p5cm_Avg',\n",
       " 'SWC_grass1_2p5cm_Avg',\n",
       " 'SWC_grass1_37p5cm_Avg',\n",
       " 'SWC_grass1_52p5cm_Avg',\n",
       " 'SWC_grass2_12p5cm_Avg',\n",
       " 'SWC_grass2_22p5cm_Avg',\n",
       " 'SWC_grass2_2p5cm_Avg',\n",
       " 'SWC_grass2_37p5cm_Avg',\n",
       " 'SWC_grass2_52p5cm_Avg',\n",
       " 'SWC_open1_12p5cm_Avg',\n",
       " 'SWC_open1_22p5cm_Avg',\n",
       " 'SWC_open1_2p5cm_Avg',\n",
       " 'SWC_open1_37p5cm_Avg',\n",
       " 'SWC_open1_52p5cm_Avg',\n",
       " 'SWC_open2_12p5cm_Avg',\n",
       " 'SWC_open2_22p5cm_Avg',\n",
       " 'SWC_open2_2p5cm_Avg',\n",
       " 'SWC_open2_37p5cm_Avg',\n",
       " 'SWC_open2_52p5cm_Avg']"
      ]
     },
     "execution_count": 13,
     "metadata": {},
     "output_type": "execute_result"
    }
   ],
   "source": [
    "soilcols = [s for s in site_df.columns if 'SWC' in s]\n",
    "soilcols"
   ]
  },
  {
   "cell_type": "code",
   "execution_count": 19,
   "metadata": {
    "collapsed": false
   },
   "outputs": [],
   "source": [
    "\n",
    "soilcols = [s for s in site_df.columns if 'SWC_O3' in s]\n",
    "#soilcols = [s for s in soilcols if '_Avg' in s]\n",
    "subset = site_df[soilcols]\n",
    "\n",
    "xlims = [ dt.datetime( start, 1, 1 ), dt.datetime( end, 12, 31 )]\n",
    "ylims = [10, 30]\n",
    "\n",
    "fig1 = plt.figure(figsize=( 16.5, 7.5 ), dpi=150, facecolor='w', edgecolor='k')\n",
    "for i, colname in enumerate( subset.columns ):\n",
    "    nsensors = len( subset.columns )\n",
    "    ax = fig1.add_subplot( nsensors, 1, i )\n",
    "    plt.plot( subset.index, subset[ colname ] )\n",
    "    plt.ylim( ylims )\n",
    "    plt.xlim( xlims )\n",
    "    \n",
    "\n",
    "\n",
    "subset.plot(figsize=( 16.5, 7.5 ))\n",
    "plt.ylim( ylims )\n",
    "plt.xlim( xlims )\n",
    "plt.ylabel('x')\n",
    "\n",
    "\n",
    "plt.show()"
   ]
  }
 ],
 "metadata": {
  "kernelspec": {
   "display_name": "Python 3",
   "language": "python",
   "name": "python3"
  },
  "language_info": {
   "codemirror_mode": {
    "name": "ipython",
    "version": 3
   },
   "file_extension": ".py",
   "mimetype": "text/x-python",
   "name": "python",
   "nbconvert_exporter": "python",
   "pygments_lexer": "ipython3",
   "version": "3.4.1"
  }
 },
 "nbformat": 4,
 "nbformat_minor": 0
}

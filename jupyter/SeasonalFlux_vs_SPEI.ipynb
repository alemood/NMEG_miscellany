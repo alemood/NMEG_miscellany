{
 "cells": [
  {
   "cell_type": "markdown",
   "metadata": {
    "deletable": true,
    "editable": true
   },
   "source": [
    "# Seasonal flux totals vs SPEI\n",
    "\n",
    "This is an examination of how seasonal flux totals relate to SPEI on an interannual basis. Still a work in progress. May be good to add regression lines to the plots. Also need to add 2015 data."
   ]
  },
  {
   "cell_type": "code",
   "execution_count": 48,
   "metadata": {
    "collapsed": false,
    "deletable": true,
    "editable": true,
    "scrolled": true
   },
   "outputs": [
    {
     "data": {
      "text/html": [
       "<table>\n",
       "<thead><tr><th scope=col>date</th><th scope=col>Seg</th><th scope=col>Ses</th><th scope=col>Wjs</th><th scope=col>Mpj</th><th scope=col>Vcp</th><th scope=col>Vcm</th></tr></thead>\n",
       "<tbody>\n",
       "\t<tr><td>2007-01-01 </td><td>0.59240886 </td><td>0.44655096 </td><td>NA         </td><td>NA         </td><td> 0.11145568</td><td>0.01794237 </td></tr>\n",
       "\t<tr><td>2007-01-02 </td><td>0.86964580 </td><td>0.40673870 </td><td>NA         </td><td>NA         </td><td> 0.05482807</td><td>0.53166867 </td></tr>\n",
       "\t<tr><td>2007-01-03 </td><td>0.67098457 </td><td>0.46637642 </td><td>NA         </td><td>NA         </td><td>-0.26368663</td><td>0.17466293 </td></tr>\n",
       "\t<tr><td>2007-01-04 </td><td>0.44611509 </td><td>0.14408511 </td><td>NA         </td><td>NA         </td><td>-0.12266828</td><td>0.11154777 </td></tr>\n",
       "\t<tr><td>2007-01-05 </td><td>0.05641652 </td><td>0.07220382 </td><td>NA         </td><td>NA         </td><td>-0.04977321</td><td>0.03578328 </td></tr>\n",
       "\t<tr><td>2007-01-06 </td><td>0.59988679 </td><td>0.27810039 </td><td>NA         </td><td>NA         </td><td>-0.63123165</td><td>0.45469259 </td></tr>\n",
       "</tbody>\n",
       "</table>\n"
      ],
      "text/latex": [
       "\\begin{tabular}{r|lllllll}\n",
       " date & Seg & Ses & Wjs & Mpj & Vcp & Vcm\\\\\n",
       "\\hline\n",
       "\t 2007-01-01  & 0.59240886  & 0.44655096  & NA          & NA          &  0.11145568 & 0.01794237 \\\\\n",
       "\t 2007-01-02  & 0.86964580  & 0.40673870  & NA          & NA          &  0.05482807 & 0.53166867 \\\\\n",
       "\t 2007-01-03  & 0.67098457  & 0.46637642  & NA          & NA          & -0.26368663 & 0.17466293 \\\\\n",
       "\t 2007-01-04  & 0.44611509  & 0.14408511  & NA          & NA          & -0.12266828 & 0.11154777 \\\\\n",
       "\t 2007-01-05  & 0.05641652  & 0.07220382  & NA          & NA          & -0.04977321 & 0.03578328 \\\\\n",
       "\t 2007-01-06  & 0.59988679  & 0.27810039  & NA          & NA          & -0.63123165 & 0.45469259 \\\\\n",
       "\\end{tabular}\n"
      ],
      "text/markdown": [
       "\n",
       "date | Seg | Ses | Wjs | Mpj | Vcp | Vcm | \n",
       "|---|---|---|---|---|---|\n",
       "| 2007-01-01  | 0.59240886  | 0.44655096  | NA          | NA          |  0.11145568 | 0.01794237  | \n",
       "| 2007-01-02  | 0.86964580  | 0.40673870  | NA          | NA          |  0.05482807 | 0.53166867  | \n",
       "| 2007-01-03  | 0.67098457  | 0.46637642  | NA          | NA          | -0.26368663 | 0.17466293  | \n",
       "| 2007-01-04  | 0.44611509  | 0.14408511  | NA          | NA          | -0.12266828 | 0.11154777  | \n",
       "| 2007-01-05  | 0.05641652  | 0.07220382  | NA          | NA          | -0.04977321 | 0.03578328  | \n",
       "| 2007-01-06  | 0.59988679  | 0.27810039  | NA          | NA          | -0.63123165 | 0.45469259  | \n",
       "\n",
       "\n"
      ],
      "text/plain": [
       "  date       Seg        Ses        Wjs Mpj Vcp         Vcm       \n",
       "1 2007-01-01 0.59240886 0.44655096 NA  NA   0.11145568 0.01794237\n",
       "2 2007-01-02 0.86964580 0.40673870 NA  NA   0.05482807 0.53166867\n",
       "3 2007-01-03 0.67098457 0.46637642 NA  NA  -0.26368663 0.17466293\n",
       "4 2007-01-04 0.44611509 0.14408511 NA  NA  -0.12266828 0.11154777\n",
       "5 2007-01-05 0.05641652 0.07220382 NA  NA  -0.04977321 0.03578328\n",
       "6 2007-01-06 0.59988679 0.27810039 NA  NA  -0.63123165 0.45469259"
      ]
     },
     "metadata": {},
     "output_type": "display_data"
    },
    {
     "data": {
      "text/html": [
       "<table>\n",
       "<thead><tr><th scope=col>date</th><th scope=col>Seg</th><th scope=col>Ses</th><th scope=col>Wjs</th><th scope=col>Mpj</th><th scope=col>Vcp</th><th scope=col>Vcm</th></tr></thead>\n",
       "<tbody>\n",
       "\t<tr><td>2007-01-01  </td><td>0.0147163255</td><td>0.12387202  </td><td>NA          </td><td>NA          </td><td>0.2513389   </td><td>0.19789498  </td></tr>\n",
       "\t<tr><td>2007-01-02  </td><td>0.0040316927</td><td>0.01392660  </td><td>NA          </td><td>NA          </td><td>0.3723671   </td><td>0.04457147  </td></tr>\n",
       "\t<tr><td>2007-01-03  </td><td>0.0001968029</td><td>0.02692141  </td><td>NA          </td><td>NA          </td><td>0.6495985   </td><td>0.31961458  </td></tr>\n",
       "\t<tr><td>2007-01-04  </td><td>0.1514145006</td><td>0.38351161  </td><td>NA          </td><td>NA          </td><td>0.8722631   </td><td>0.38733143  </td></tr>\n",
       "\t<tr><td>2007-01-05  </td><td>0.2284160322</td><td>0.73369235  </td><td>NA          </td><td>NA          </td><td>0.4100251   </td><td>0.23242177  </td></tr>\n",
       "\t<tr><td>2007-01-06  </td><td>0.0253080968</td><td>0.10909851  </td><td>NA          </td><td>NA          </td><td>0.9236567   </td><td>0.05763250  </td></tr>\n",
       "</tbody>\n",
       "</table>\n"
      ],
      "text/latex": [
       "\\begin{tabular}{r|lllllll}\n",
       " date & Seg & Ses & Wjs & Mpj & Vcp & Vcm\\\\\n",
       "\\hline\n",
       "\t 2007-01-01   & 0.0147163255 & 0.12387202   & NA           & NA           & 0.2513389    & 0.19789498  \\\\\n",
       "\t 2007-01-02   & 0.0040316927 & 0.01392660   & NA           & NA           & 0.3723671    & 0.04457147  \\\\\n",
       "\t 2007-01-03   & 0.0001968029 & 0.02692141   & NA           & NA           & 0.6495985    & 0.31961458  \\\\\n",
       "\t 2007-01-04   & 0.1514145006 & 0.38351161   & NA           & NA           & 0.8722631    & 0.38733143  \\\\\n",
       "\t 2007-01-05   & 0.2284160322 & 0.73369235   & NA           & NA           & 0.4100251    & 0.23242177  \\\\\n",
       "\t 2007-01-06   & 0.0253080968 & 0.10909851   & NA           & NA           & 0.9236567    & 0.05763250  \\\\\n",
       "\\end{tabular}\n"
      ],
      "text/markdown": [
       "\n",
       "date | Seg | Ses | Wjs | Mpj | Vcp | Vcm | \n",
       "|---|---|---|---|---|---|\n",
       "| 2007-01-01   | 0.0147163255 | 0.12387202   | NA           | NA           | 0.2513389    | 0.19789498   | \n",
       "| 2007-01-02   | 0.0040316927 | 0.01392660   | NA           | NA           | 0.3723671    | 0.04457147   | \n",
       "| 2007-01-03   | 0.0001968029 | 0.02692141   | NA           | NA           | 0.6495985    | 0.31961458   | \n",
       "| 2007-01-04   | 0.1514145006 | 0.38351161   | NA           | NA           | 0.8722631    | 0.38733143   | \n",
       "| 2007-01-05   | 0.2284160322 | 0.73369235   | NA           | NA           | 0.4100251    | 0.23242177   | \n",
       "| 2007-01-06   | 0.0253080968 | 0.10909851   | NA           | NA           | 0.9236567    | 0.05763250   | \n",
       "\n",
       "\n"
      ],
      "text/plain": [
       "  date       Seg          Ses        Wjs Mpj Vcp       Vcm       \n",
       "1 2007-01-01 0.0147163255 0.12387202 NA  NA  0.2513389 0.19789498\n",
       "2 2007-01-02 0.0040316927 0.01392660 NA  NA  0.3723671 0.04457147\n",
       "3 2007-01-03 0.0001968029 0.02692141 NA  NA  0.6495985 0.31961458\n",
       "4 2007-01-04 0.1514145006 0.38351161 NA  NA  0.8722631 0.38733143\n",
       "5 2007-01-05 0.2284160322 0.73369235 NA  NA  0.4100251 0.23242177\n",
       "6 2007-01-06 0.0253080968 0.10909851 NA  NA  0.9236567 0.05763250"
      ]
     },
     "metadata": {},
     "output_type": "display_data"
    },
    {
     "data": {
      "text/html": [
       "<table>\n",
       "<thead><tr><th scope=col>date</th><th scope=col>Seg</th><th scope=col>Ses</th><th scope=col>Wjs</th><th scope=col>Mpj</th><th scope=col>Vcp</th><th scope=col>Vcm</th></tr></thead>\n",
       "<tbody>\n",
       "\t<tr><td>2007-01-01  </td><td>  40.2552160</td><td> 3.60493817 </td><td>NA          </td><td>NA          </td><td> 0.4434479  </td><td> 0.09066612 </td></tr>\n",
       "\t<tr><td>2007-01-02  </td><td> 215.7023994</td><td>29.20587906 </td><td>NA          </td><td>NA          </td><td> 0.1472420  </td><td>11.92845261 </td></tr>\n",
       "\t<tr><td>2007-01-03  </td><td>3409.4245790</td><td>17.32362798 </td><td>NA          </td><td>NA          </td><td>-0.4059225  </td><td> 0.54647986 </td></tr>\n",
       "\t<tr><td>2007-01-04  </td><td>   2.9463169</td><td> 0.37569948 </td><td>NA          </td><td>NA          </td><td>-0.1406322  </td><td> 0.28799049 </td></tr>\n",
       "\t<tr><td>2007-01-05  </td><td>   0.2469902</td><td> 0.09841157 </td><td>NA          </td><td>NA          </td><td>-0.1213906  </td><td> 0.15395837 </td></tr>\n",
       "\t<tr><td>2007-01-06  </td><td>  23.7033545</td><td> 2.54907609 </td><td>NA          </td><td>NA          </td><td>-0.6834051  </td><td> 7.88951641 </td></tr>\n",
       "</tbody>\n",
       "</table>\n"
      ],
      "text/latex": [
       "\\begin{tabular}{r|lllllll}\n",
       " date & Seg & Ses & Wjs & Mpj & Vcp & Vcm\\\\\n",
       "\\hline\n",
       "\t 2007-01-01   &   40.2552160 &  3.60493817  & NA           & NA           &  0.4434479   &  0.09066612 \\\\\n",
       "\t 2007-01-02   &  215.7023994 & 29.20587906  & NA           & NA           &  0.1472420   & 11.92845261 \\\\\n",
       "\t 2007-01-03   & 3409.4245790 & 17.32362798  & NA           & NA           & -0.4059225   &  0.54647986 \\\\\n",
       "\t 2007-01-04   &    2.9463169 &  0.37569948  & NA           & NA           & -0.1406322   &  0.28799049 \\\\\n",
       "\t 2007-01-05   &    0.2469902 &  0.09841157  & NA           & NA           & -0.1213906   &  0.15395837 \\\\\n",
       "\t 2007-01-06   &   23.7033545 &  2.54907609  & NA           & NA           & -0.6834051   &  7.88951641 \\\\\n",
       "\\end{tabular}\n"
      ],
      "text/markdown": [
       "\n",
       "date | Seg | Ses | Wjs | Mpj | Vcp | Vcm | \n",
       "|---|---|---|---|---|---|\n",
       "| 2007-01-01   |   40.2552160 |  3.60493817  | NA           | NA           |  0.4434479   |  0.09066612  | \n",
       "| 2007-01-02   |  215.7023994 | 29.20587906  | NA           | NA           |  0.1472420   | 11.92845261  | \n",
       "| 2007-01-03   | 3409.4245790 | 17.32362798  | NA           | NA           | -0.4059225   |  0.54647986  | \n",
       "| 2007-01-04   |    2.9463169 |  0.37569948  | NA           | NA           | -0.1406322   |  0.28799049  | \n",
       "| 2007-01-05   |    0.2469902 |  0.09841157  | NA           | NA           | -0.1213906   |  0.15395837  | \n",
       "| 2007-01-06   |   23.7033545 |  2.54907609  | NA           | NA           | -0.6834051   |  7.88951641  | \n",
       "\n",
       "\n"
      ],
      "text/plain": [
       "  date       Seg          Ses         Wjs Mpj Vcp        Vcm        \n",
       "1 2007-01-01   40.2552160  3.60493817 NA  NA   0.4434479  0.09066612\n",
       "2 2007-01-02  215.7023994 29.20587906 NA  NA   0.1472420 11.92845261\n",
       "3 2007-01-03 3409.4245790 17.32362798 NA  NA  -0.4059225  0.54647986\n",
       "4 2007-01-04    2.9463169  0.37569948 NA  NA  -0.1406322  0.28799049\n",
       "5 2007-01-05    0.2469902  0.09841157 NA  NA  -0.1213906  0.15395837\n",
       "6 2007-01-06   23.7033545  2.54907609 NA  NA  -0.6834051  7.88951641"
      ]
     },
     "metadata": {},
     "output_type": "display_data"
    },
    {
     "data": {
      "text/html": [
       "<table>\n",
       "<thead><tr><th scope=col>date</th><th scope=col>Seg</th><th scope=col>Ses</th><th scope=col>Wjs</th><th scope=col>Mpj</th><th scope=col>Vcp</th><th scope=col>Vcm</th></tr></thead>\n",
       "<tbody>\n",
       "\t<tr><td>2007-01-01 </td><td>  41.255216</td><td> 4.604938  </td><td>NA         </td><td>NA         </td><td>1.4434479  </td><td> 1.090666  </td></tr>\n",
       "\t<tr><td>2007-01-02 </td><td> 216.702399</td><td>30.205879  </td><td>NA         </td><td>NA         </td><td>1.1472420  </td><td>12.928453  </td></tr>\n",
       "\t<tr><td>2007-01-03 </td><td>3410.424579</td><td>18.323628  </td><td>NA         </td><td>NA         </td><td>0.5940775  </td><td> 1.546480  </td></tr>\n",
       "\t<tr><td>2007-01-04 </td><td>   3.946317</td><td> 1.375699  </td><td>NA         </td><td>NA         </td><td>0.8593678  </td><td> 1.287990  </td></tr>\n",
       "\t<tr><td>2007-01-05 </td><td>   1.246990</td><td> 1.098412  </td><td>NA         </td><td>NA         </td><td>0.8786094  </td><td> 1.153958  </td></tr>\n",
       "\t<tr><td>2007-01-06 </td><td>  24.703354</td><td> 3.549076  </td><td>NA         </td><td>NA         </td><td>0.3165949  </td><td> 8.889516  </td></tr>\n",
       "</tbody>\n",
       "</table>\n"
      ],
      "text/latex": [
       "\\begin{tabular}{r|lllllll}\n",
       " date & Seg & Ses & Wjs & Mpj & Vcp & Vcm\\\\\n",
       "\\hline\n",
       "\t 2007-01-01  &   41.255216 &  4.604938   & NA          & NA          & 1.4434479   &  1.090666  \\\\\n",
       "\t 2007-01-02  &  216.702399 & 30.205879   & NA          & NA          & 1.1472420   & 12.928453  \\\\\n",
       "\t 2007-01-03  & 3410.424579 & 18.323628   & NA          & NA          & 0.5940775   &  1.546480  \\\\\n",
       "\t 2007-01-04  &    3.946317 &  1.375699   & NA          & NA          & 0.8593678   &  1.287990  \\\\\n",
       "\t 2007-01-05  &    1.246990 &  1.098412   & NA          & NA          & 0.8786094   &  1.153958  \\\\\n",
       "\t 2007-01-06  &   24.703354 &  3.549076   & NA          & NA          & 0.3165949   &  8.889516  \\\\\n",
       "\\end{tabular}\n"
      ],
      "text/markdown": [
       "\n",
       "date | Seg | Ses | Wjs | Mpj | Vcp | Vcm | \n",
       "|---|---|---|---|---|---|\n",
       "| 2007-01-01  |   41.255216 |  4.604938   | NA          | NA          | 1.4434479   |  1.090666   | \n",
       "| 2007-01-02  |  216.702399 | 30.205879   | NA          | NA          | 1.1472420   | 12.928453   | \n",
       "| 2007-01-03  | 3410.424579 | 18.323628   | NA          | NA          | 0.5940775   |  1.546480   | \n",
       "| 2007-01-04  |    3.946317 |  1.375699   | NA          | NA          | 0.8593678   |  1.287990   | \n",
       "| 2007-01-05  |    1.246990 |  1.098412   | NA          | NA          | 0.8786094   |  1.153958   | \n",
       "| 2007-01-06  |   24.703354 |  3.549076   | NA          | NA          | 0.3165949   |  8.889516   | \n",
       "\n",
       "\n"
      ],
      "text/plain": [
       "  date       Seg         Ses       Wjs Mpj Vcp       Vcm      \n",
       "1 2007-01-01   41.255216  4.604938 NA  NA  1.4434479  1.090666\n",
       "2 2007-01-02  216.702399 30.205879 NA  NA  1.1472420 12.928453\n",
       "3 2007-01-03 3410.424579 18.323628 NA  NA  0.5940775  1.546480\n",
       "4 2007-01-04    3.946317  1.375699 NA  NA  0.8593678  1.287990\n",
       "5 2007-01-05    1.246990  1.098412 NA  NA  0.8786094  1.153958\n",
       "6 2007-01-06   24.703354  3.549076 NA  NA  0.3165949  8.889516"
      ]
     },
     "metadata": {},
     "output_type": "display_data"
    }
   ],
   "source": [
    "# Greg Maurer - August 2015\n",
    "# Edited and expanded on by Alex Moody - 2017\n",
    "\n",
    "library(ggplot2)\n",
    "library(plyr)\n",
    "library(reshape2)\n",
    "\n",
    "theme_set(theme_bw())\n",
    "\n",
    "setwd('C:/Code/NMEG_miscellany/')\n",
    "\n",
    "proc_path <- 'processed_data/'\n",
    "outpath <- 'figures/'\n",
    "\n",
    "source('C:/Code/NMEG_utils/r_functions/printfigs.r')\n",
    "source('C:/Code/NMEG_utils/r_functions/load_nmeg.r')\n",
    "source('C:/Code/NMEG_utils/r_functions/transform_nmeg.r')\n",
    "#source('load_datasets.r')\n",
    "\n",
    "# Get flux datasets\n",
    "seg <- get_daily_file('Seg', 'aflx', make_new=FALSE)\n",
    "ses <- get_daily_file('Ses', 'aflx')\n",
    "wjs <- get_daily_file('Wjs', 'aflx')\n",
    "mpj <- get_daily_file('Mpj', 'aflx')\n",
    "vcp <- get_daily_file('Vcp', 'aflx')\n",
    "vcm <- get_daily_file('Vcm', 'aflx')\n",
    "# Put together one-variable dataframes with season columns and such\n",
    "sitelist <- list(seg, ses, wjs, mpj, vcp, vcm)\n",
    "sitenames <- c('Seg', 'Ses', 'Wjs', 'Mpj', 'Vcp', 'Vcm')\n",
    "FC_daily <- get_var_allsites(sitelist, 'FC_F_g_int', sitenames, startyear=2007, endyear=2017)\n",
    "GPP_daily <- get_var_allsites(sitelist, 'GPP_g_int', sitenames, startyear=2007, endyear=2017)\n",
    "RE_daily <- get_var_allsites(sitelist, 'RECO_g_int', sitenames, startyear=2007, endyear=2017)\n",
    "ET_daily <- get_var_allsites(sitelist, 'ET_mm_dayint', sitenames, startyear=2007, endyear=2017)\n",
    "# Calculate some derived values\n",
    "# Water use efficiency\n",
    "WUE_daily <- cbind(ET_daily[1], GPP_daily[-1]/ET_daily[-1])\n",
    "# Carbon use efficiency\n",
    "CUE_daily <- cbind(FC_daily[1], FC_daily[-1]/GPP_daily[-1])\n",
    "# Respiration/GPP Ratio\n",
    "RdivGPP_daily <- cbind(FC_daily[1], RE_daily[-1]/GPP_daily[-1])\n",
    "head(FC_daily)\n",
    "head(GPP_daily)\n",
    "head(CUE_daily)\n",
    "head(RdivGPP_daily)"
   ]
  },
  {
   "cell_type": "code",
   "execution_count": 45,
   "metadata": {
    "collapsed": true,
    "deletable": true,
    "editable": true,
    "scrolled": true
   },
   "outputs": [],
   "source": [
    "# Function to clean up unused columns and rename variables\n",
    "clean_rename <- function(df, keep=c(\"season\", \"year_w\", sitenames)){\n",
    "    df_c_r <- add_WY_cols(df)\n",
    "    df_c_r <- subset(df_c_r, subset = (year_w > 2007 & year_w < 2017))\n",
    "    #print(head(df_c_r))\n",
    "    #print(tail(df_c_r))\n",
    "    df_c_r <- df_c_r[, keep]\n",
    "    #df_c_r <- rename_vars(df_c_r)\n",
    "    df_c_r$season <- revalue(df_c_r$season, c(\"cold\"=\"Cold\",\n",
    "                            \"monsoon\"=\"Monsoon\",\n",
    "                            \"spring\"=\"Spring\"))\n",
    "    reorder <- c('Cold', 'Spring', 'Monsoon')\n",
    "    df_c_r$season <- factor(df_c_r$season, levels=reorder)\n",
    "    return(df_c_r)\n",
    "}"
   ]
  },
  {
   "cell_type": "code",
   "execution_count": 46,
   "metadata": {
    "collapsed": false,
    "deletable": true,
    "editable": true,
    "scrolled": true
   },
   "outputs": [
    {
     "data": {
      "text/html": [
       "<table>\n",
       "<thead><tr><th scope=col>variable</th><th scope=col>season</th><th scope=col>year_w</th><th scope=col>seas_mean_spei</th></tr></thead>\n",
       "<tbody>\n",
       "\t<tr><td>Seg        </td><td>Cold       </td><td>2008       </td><td>-1.41082836</td></tr>\n",
       "\t<tr><td>Seg        </td><td>Cold       </td><td>2009       </td><td>-0.51169583</td></tr>\n",
       "\t<tr><td>Seg        </td><td>Cold       </td><td>2010       </td><td> 0.53175662</td></tr>\n",
       "\t<tr><td>Seg        </td><td>Cold       </td><td>2011       </td><td>-0.20812857</td></tr>\n",
       "\t<tr><td>Seg        </td><td>Cold       </td><td>2012       </td><td>-0.46332131</td></tr>\n",
       "\t<tr><td>Seg        </td><td>Cold       </td><td>2013       </td><td> 0.02718266</td></tr>\n",
       "</tbody>\n",
       "</table>\n"
      ],
      "text/latex": [
       "\\begin{tabular}{r|llll}\n",
       " variable & season & year\\_w & seas\\_mean\\_spei\\\\\n",
       "\\hline\n",
       "\t Seg         & Cold        & 2008        & -1.41082836\\\\\n",
       "\t Seg         & Cold        & 2009        & -0.51169583\\\\\n",
       "\t Seg         & Cold        & 2010        &  0.53175662\\\\\n",
       "\t Seg         & Cold        & 2011        & -0.20812857\\\\\n",
       "\t Seg         & Cold        & 2012        & -0.46332131\\\\\n",
       "\t Seg         & Cold        & 2013        &  0.02718266\\\\\n",
       "\\end{tabular}\n"
      ],
      "text/markdown": [
       "\n",
       "variable | season | year_w | seas_mean_spei | \n",
       "|---|---|---|---|---|---|\n",
       "| Seg         | Cold        | 2008        | -1.41082836 | \n",
       "| Seg         | Cold        | 2009        | -0.51169583 | \n",
       "| Seg         | Cold        | 2010        |  0.53175662 | \n",
       "| Seg         | Cold        | 2011        | -0.20812857 | \n",
       "| Seg         | Cold        | 2012        | -0.46332131 | \n",
       "| Seg         | Cold        | 2013        |  0.02718266 | \n",
       "\n",
       "\n"
      ],
      "text/plain": [
       "  variable season year_w seas_mean_spei\n",
       "1 Seg      Cold   2008   -1.41082836   \n",
       "2 Seg      Cold   2009   -0.51169583   \n",
       "3 Seg      Cold   2010    0.53175662   \n",
       "4 Seg      Cold   2011   -0.20812857   \n",
       "5 Seg      Cold   2012   -0.46332131   \n",
       "6 Seg      Cold   2013    0.02718266   "
      ]
     },
     "metadata": {},
     "output_type": "display_data"
    },
    {
     "data": {
      "text/html": [
       "<table>\n",
       "<thead><tr><th scope=col>year_w</th><th scope=col>variable</th><th scope=col>value</th></tr></thead>\n",
       "<tbody>\n",
       "\t<tr><td>2008     </td><td>Seg      </td><td>0.5241862</td></tr>\n",
       "\t<tr><td>2008     </td><td>Seg      </td><td>0.2986248</td></tr>\n",
       "\t<tr><td>2008     </td><td>Seg      </td><td>0.2691467</td></tr>\n",
       "\t<tr><td>2008     </td><td>Seg      </td><td>0.3698545</td></tr>\n",
       "\t<tr><td>2008     </td><td>Seg      </td><td>1.4596507</td></tr>\n",
       "\t<tr><td>2008     </td><td>Seg      </td><td>0.5292703</td></tr>\n",
       "</tbody>\n",
       "</table>\n"
      ],
      "text/latex": [
       "\\begin{tabular}{r|lll}\n",
       " year\\_w & variable & value\\\\\n",
       "\\hline\n",
       "\t 2008      & Seg       & 0.5241862\\\\\n",
       "\t 2008      & Seg       & 0.2986248\\\\\n",
       "\t 2008      & Seg       & 0.2691467\\\\\n",
       "\t 2008      & Seg       & 0.3698545\\\\\n",
       "\t 2008      & Seg       & 1.4596507\\\\\n",
       "\t 2008      & Seg       & 0.5292703\\\\\n",
       "\\end{tabular}\n"
      ],
      "text/markdown": [
       "\n",
       "year_w | variable | value | \n",
       "|---|---|---|---|---|---|\n",
       "| 2008      | Seg       | 0.5241862 | \n",
       "| 2008      | Seg       | 0.2986248 | \n",
       "| 2008      | Seg       | 0.2691467 | \n",
       "| 2008      | Seg       | 0.3698545 | \n",
       "| 2008      | Seg       | 1.4596507 | \n",
       "| 2008      | Seg       | 0.5292703 | \n",
       "\n",
       "\n"
      ],
      "text/plain": [
       "  year_w variable value    \n",
       "1 2008   Seg      0.5241862\n",
       "2 2008   Seg      0.2986248\n",
       "3 2008   Seg      0.2691467\n",
       "4 2008   Seg      0.3698545\n",
       "5 2008   Seg      1.4596507\n",
       "6 2008   Seg      0.5292703"
      ]
     },
     "metadata": {},
     "output_type": "display_data"
    },
    {
     "data": {
      "text/html": [
       "<table>\n",
       "<thead><tr><th scope=col>variable</th><th scope=col>year_w</th><th scope=col>wyear_int_et</th></tr></thead>\n",
       "<tbody>\n",
       "\t<tr><td>Seg      </td><td>2008     </td><td>0.5241862</td></tr>\n",
       "\t<tr><td>Seg      </td><td>2008     </td><td>0.8228110</td></tr>\n",
       "\t<tr><td>Seg      </td><td>2008     </td><td>1.0919577</td></tr>\n",
       "\t<tr><td>Seg      </td><td>2008     </td><td>1.4618122</td></tr>\n",
       "\t<tr><td>Seg      </td><td>2008     </td><td>2.9214629</td></tr>\n",
       "\t<tr><td>Seg      </td><td>2008     </td><td>3.4507333</td></tr>\n",
       "</tbody>\n",
       "</table>\n"
      ],
      "text/latex": [
       "\\begin{tabular}{r|lll}\n",
       " variable & year\\_w & wyear\\_int\\_et\\\\\n",
       "\\hline\n",
       "\t Seg       & 2008      & 0.5241862\\\\\n",
       "\t Seg       & 2008      & 0.8228110\\\\\n",
       "\t Seg       & 2008      & 1.0919577\\\\\n",
       "\t Seg       & 2008      & 1.4618122\\\\\n",
       "\t Seg       & 2008      & 2.9214629\\\\\n",
       "\t Seg       & 2008      & 3.4507333\\\\\n",
       "\\end{tabular}\n"
      ],
      "text/markdown": [
       "\n",
       "variable | year_w | wyear_int_et | \n",
       "|---|---|---|---|---|---|\n",
       "| Seg       | 2008      | 0.5241862 | \n",
       "| Seg       | 2008      | 0.8228110 | \n",
       "| Seg       | 2008      | 1.0919577 | \n",
       "| Seg       | 2008      | 1.4618122 | \n",
       "| Seg       | 2008      | 2.9214629 | \n",
       "| Seg       | 2008      | 3.4507333 | \n",
       "\n",
       "\n"
      ],
      "text/plain": [
       "  variable year_w wyear_int_et\n",
       "1 Seg      2008   0.5241862   \n",
       "2 Seg      2008   0.8228110   \n",
       "3 Seg      2008   1.0919577   \n",
       "4 Seg      2008   1.4618122   \n",
       "5 Seg      2008   2.9214629   \n",
       "6 Seg      2008   3.4507333   "
      ]
     },
     "metadata": {},
     "output_type": "display_data"
    }
   ],
   "source": [
    "SPEI_path <- 'C:/Code/NMEG_utils/processed_data/spei/'\n",
    "seg_spei <- read.csv(paste(SPEI_path, 'SPEI_monthly_US-Seg_nainterp.csv', sep=''))\n",
    "ses_spei <- read.csv(paste(SPEI_path, 'SPEI_monthly_US-Ses_nainterp.csv', sep=''))\n",
    "wjs_spei <- read.csv(paste(SPEI_path, 'SPEI_monthly_US-Wjs_nainterp.csv', sep=''))\n",
    "mpj_spei <- read.csv(paste(SPEI_path, 'SPEI_monthly_US-Mpj_nainterp.csv', sep=''))\n",
    "vcp_spei <- read.csv(paste(SPEI_path, 'SPEI_monthly_US-Vcp_nainterp.csv', sep=''))\n",
    "vcm_spei <- read.csv(paste(SPEI_path, 'SPEI_monthly_US-Vcm_nainterp.csv', sep=''))\n",
    "\n",
    "sitelist <- list(seg_spei, ses_spei, wjs_spei, mpj_spei, vcp_spei, vcm_spei)\n",
    "spei_1yr <- get_var_allsites(sitelist, 'SPEI_monthly_12', sitenames, startyear=2006, endyear=2016)\n",
    "\n",
    "# Add WY columns and clean data\n",
    "spei_1yr <- clean_rename(spei_1yr)\n",
    "\n",
    "# Melt and get seasonal SPEI averages for each year\n",
    "spei_melt <- melt(spei_1yr, id.vars=c('season', 'year_w'))\n",
    "\n",
    "spei_seas_avg <- ddply(spei_melt, .(variable, season, year_w), summarise, seas_mean_spei = mean(value, na.rm = T))\n",
    "head(spei_seas_avg)\n",
    "\n",
    "# Melt and get wateryear SPEI averages (leave out season)\n",
    "spei_melt <- melt(spei_1yr[,2:ncol(spei_1yr)], id='year_w')\n",
    "spei_wyear_avg <- ddply(spei_melt, .(variable, year_w), summarise, wyear_mean_spei = mean(value, na.rm = T))\n",
    "\n",
    "#spei_wyear_avg\n",
    "\n",
    "# Clean, melt, get average\n",
    "et_1yr <-clean_rename(ET_daily)\n",
    "\n",
    "et_melt <- melt(et_1yr[,2:ncol(et_1yr)], id.vars=c('year_w'))\n",
    "head(et_melt)\n",
    "et_wyear_int <- ddply(et_melt, .(variable, year_w), summarise, wyear_int_et = cumsum(value))\n",
    "head(et_wyear_int)\n",
    "write.csv(et_wyear_int, paste(SPEI_path, 'SPEI_vs_ET2.csv', sep=''))\n",
    "\n",
    "et_wyear_avg <- ddply(et_melt, .(variable, year_w), summarise, wyear_mean_et = mean(value, na.rm = T))"
   ]
  },
  {
   "cell_type": "markdown",
   "metadata": {},
   "source": [
    "## NEE "
   ]
  },
  {
   "cell_type": "code",
   "execution_count": 31,
   "metadata": {
    "collapsed": false,
    "deletable": true,
    "editable": true,
    "scrolled": false
   },
   "outputs": [
    {
     "data": {
      "text/html": [
       "<table>\n",
       "<thead><tr><th scope=col>variable</th><th scope=col>season</th><th scope=col>year_w</th><th scope=col>seas_sum</th></tr></thead>\n",
       "<tbody>\n",
       "\t<tr><td>Seg     </td><td>Cold    </td><td>2008    </td><td>28.28145</td></tr>\n",
       "\t<tr><td>Seg     </td><td>Cold    </td><td>2009    </td><td>20.55216</td></tr>\n",
       "\t<tr><td>Seg     </td><td>Cold    </td><td>2010    </td><td>29.24064</td></tr>\n",
       "\t<tr><td>Seg     </td><td>Cold    </td><td>2011    </td><td>29.83489</td></tr>\n",
       "\t<tr><td>Seg     </td><td>Cold    </td><td>2012    </td><td>28.38568</td></tr>\n",
       "\t<tr><td>Seg     </td><td>Cold    </td><td>2013    </td><td>37.75624</td></tr>\n",
       "</tbody>\n",
       "</table>\n"
      ],
      "text/latex": [
       "\\begin{tabular}{r|llll}\n",
       " variable & season & year\\_w & seas\\_sum\\\\\n",
       "\\hline\n",
       "\t Seg      & Cold     & 2008     & 28.28145\\\\\n",
       "\t Seg      & Cold     & 2009     & 20.55216\\\\\n",
       "\t Seg      & Cold     & 2010     & 29.24064\\\\\n",
       "\t Seg      & Cold     & 2011     & 29.83489\\\\\n",
       "\t Seg      & Cold     & 2012     & 28.38568\\\\\n",
       "\t Seg      & Cold     & 2013     & 37.75624\\\\\n",
       "\\end{tabular}\n"
      ],
      "text/markdown": [
       "\n",
       "variable | season | year_w | seas_sum | \n",
       "|---|---|---|---|---|---|\n",
       "| Seg      | Cold     | 2008     | 28.28145 | \n",
       "| Seg      | Cold     | 2009     | 20.55216 | \n",
       "| Seg      | Cold     | 2010     | 29.24064 | \n",
       "| Seg      | Cold     | 2011     | 29.83489 | \n",
       "| Seg      | Cold     | 2012     | 28.38568 | \n",
       "| Seg      | Cold     | 2013     | 37.75624 | \n",
       "\n",
       "\n"
      ],
      "text/plain": [
       "  variable season year_w seas_sum\n",
       "1 Seg      Cold   2008   28.28145\n",
       "2 Seg      Cold   2009   20.55216\n",
       "3 Seg      Cold   2010   29.24064\n",
       "4 Seg      Cold   2011   29.83489\n",
       "5 Seg      Cold   2012   28.38568\n",
       "6 Seg      Cold   2013   37.75624"
      ]
     },
     "metadata": {},
     "output_type": "display_data"
    },
    {
     "name": "stdout",
     "output_type": "stream",
     "text": [
      "'data.frame':\t162 obs. of  5 variables:\n",
      " $ variable : Factor w/ 6 levels \"Seg\",\"Ses\",\"Wjs\",..: 1 1 1 1 1 1 1 1 1 1 ...\n",
      " $ season   : Factor w/ 3 levels \"Cold\",\"Spring\",..: 1 1 1 1 1 1 1 1 1 2 ...\n",
      " $ year_w   : num  2008 2009 2010 2011 2012 ...\n",
      " $ seas_sum : num  28.3 20.6 29.2 29.8 28.4 ...\n",
      " $ spei_seas: num  -1.411 -0.512 0.532 -0.208 -0.463 ...\n",
      "'data.frame':\t162 obs. of  6 variables:\n",
      " $ variable       : Factor w/ 6 levels \"Seg\",\"Ses\",\"Wjs\",..: 1 1 1 1 1 1 1 1 1 1 ...\n",
      " $ year_w         : num  2008 2009 2010 2011 2012 ...\n",
      " $ season         : Factor w/ 3 levels \"Cold\",\"Spring\",..: 1 1 1 1 1 1 1 1 1 2 ...\n",
      " $ seas_sum       : num  28.3 20.6 29.2 29.8 28.4 ...\n",
      " $ spei_seas      : num  -1.411 -0.512 0.532 -0.208 -0.463 ...\n",
      " $ wyear_mean_spei: num  -1.491 -0.48 0.649 -0.545 -0.282 ...\n"
     ]
    },
    {
     "data": {},
     "metadata": {},
     "output_type": "display_data"
    },
    {
     "name": "stderr",
     "output_type": "stream",
     "text": [
      "Warning message:\n",
      "\"Removed 3 rows containing missing values (geom_point).\""
     ]
    },
    {
     "data": {},
     "metadata": {},
     "output_type": "display_data"
    },
    {
     "data": {
      "image/png": "[encoded data removed]",
      "text/plain": [
       "plot without title"
      ]
     },
     "metadata": {},
     "output_type": "display_data"
    },
    {
     "name": "stderr",
     "output_type": "stream",
     "text": [
      "Warning message:\n",
      "\"Removed 3 rows containing missing values (geom_point).\""
     ]
    },
    {
     "data": {},
     "metadata": {},
     "output_type": "display_data"
    },
    {
     "data": {
      "image/png": "[encoded data removed]",
      "text/plain": [
       "plot without title"
      ]
     },
     "metadata": {},
     "output_type": "display_data"
    },
    {
     "data": {
      "image/png": "[encoded data removed]",
      "text/plain": [
       "plot without title"
      ]
     },
     "metadata": {},
     "output_type": "display_data"
    }
   ],
   "source": [
    "asp_ratio <- 1.7\n",
    "\n",
    "FC.m <- melt(clean_rename(FC_daily), id.vars=c('season', 'year_w'))\n",
    "FC.m <- ddply(FC.m, .(variable, season, year_w), summarise, seas_sum = sum(value, na.rm = T))\n",
    "head(FC.m)\n",
    "FC.m$spei_seas <- spei_seas_avg$seas_mean_spei\n",
    "str(FC.m)\n",
    "\n",
    "# Merge in the annual values of SPEI\n",
    "FC.m <- merge(FC.m, spei_wyear_avg, by=c('variable', 'year_w'))\n",
    "# The merge messes up the order - reorder it\n",
    "FC.m <- FC.m[with(FC.m, order(variable, season, year_w)),]\n",
    "str(FC.m)\n",
    "\n",
    "NEE_seas_by_yr <- ggplot(FC.m, aes(x=year_w, y=seas_sum, fill=factor(season))) +\n",
    "    geom_bar(stat='identity') + \n",
    "    facet_wrap(~variable, nrow=1) + \n",
    "    xlab('Hydrological Year') + ylab(bquote('NEE (cumulative '~ g/m^2 ~')')) +\n",
    "    theme(axis.text.x=element_text(angle=45, hjust=1, size=11)) + \n",
    "    scale_fill_manual(values=c(\"#56B4E9\", \"#999999\", \"#E69F00\"), name=\"Season\") +\n",
    "    theme(aspect.ratio=asp_ratio)\n",
    "NEE_seas_by_yr\n",
    "#ggsave(\"C:/Research_Flux_Towers/Plots/multiyear_figs/NEE_seas_by_yr.png\", dpi = 150 )\n",
    "\n",
    "\n",
    "NEE_seas_by_spei <- ggplot(FC.m, aes(x=spei_seas, y=seas_sum, col=factor(season))) +\n",
    "    #geom_bar(stat='identity', position='dodge') + \n",
    "    geom_point() +\n",
    "    facet_wrap(~variable, nrow=1) + \n",
    "    xlab('Seasonal SPEI') + ylab(bquote('NEE (cumulative '~ g/m^2 ~')')) +\n",
    "    theme(axis.text.x=element_text(angle=45, hjust=1, size=11)) + \n",
    "    scale_color_manual(values=c(\"#56B4E9\", \"#999999\", \"#E69F00\"), name=\"Season\") +\n",
    "    theme(aspect.ratio=asp_ratio)\n",
    "NEE_seas_by_spei\n",
    "#ggsave(\"C:/Research_Flux_Towers/Plots/multiyear_figs/NEE_seas_by_spei.png\", dpi = 150 )\n",
    "\n",
    "NEE_seas_by_annspei <- ggplot(FC.m, aes(x=wyear_mean_spei, y=seas_sum, col=factor(season))) +\n",
    "    geom_point() +\n",
    "    facet_wrap(~variable, nrow=1) + \n",
    "    xlab('Wateryear SPEI') + ylab(bquote('NEE (cumulative '~ g/m^2 ~')')) +\n",
    "    theme(axis.text.x=element_text(angle=45, hjust=1, size=11)) + \n",
    "    scale_color_manual(values=c(\"#56B4E9\", \"#999999\", \"#E69F00\"), name=\"Season\") +\n",
    "    theme(aspect.ratio=asp_ratio)\n",
    "NEE_seas_by_annspei\n",
    "#ggsave(\"C:/Research_Flux_Towers/Plots/multiyear_figs/NEE_seas_by_annspei.png\", dpi = 150 )"
   ]
  },
  {
   "cell_type": "markdown",
   "metadata": {},
   "source": [
    "## GPP"
   ]
  },
  {
   "cell_type": "code",
   "execution_count": 32,
   "metadata": {
    "collapsed": false,
    "deletable": true,
    "editable": true,
    "scrolled": false
   },
   "outputs": [
    {
     "data": {
      "text/html": [
       "<table>\n",
       "<thead><tr><th scope=col>variable</th><th scope=col>season</th><th scope=col>year_w</th><th scope=col>seas_sum</th></tr></thead>\n",
       "<tbody>\n",
       "\t<tr><td>Seg     </td><td>Cold    </td><td>2008    </td><td>27.58594</td></tr>\n",
       "\t<tr><td>Seg     </td><td>Cold    </td><td>2009    </td><td>16.16741</td></tr>\n",
       "\t<tr><td>Seg     </td><td>Cold    </td><td>2010    </td><td>14.16724</td></tr>\n",
       "\t<tr><td>Seg     </td><td>Cold    </td><td>2011    </td><td>19.85327</td></tr>\n",
       "\t<tr><td>Seg     </td><td>Cold    </td><td>2012    </td><td>16.17839</td></tr>\n",
       "\t<tr><td>Seg     </td><td>Cold    </td><td>2013    </td><td>16.34676</td></tr>\n",
       "</tbody>\n",
       "</table>\n"
      ],
      "text/latex": [
       "\\begin{tabular}{r|llll}\n",
       " variable & season & year\\_w & seas\\_sum\\\\\n",
       "\\hline\n",
       "\t Seg      & Cold     & 2008     & 27.58594\\\\\n",
       "\t Seg      & Cold     & 2009     & 16.16741\\\\\n",
       "\t Seg      & Cold     & 2010     & 14.16724\\\\\n",
       "\t Seg      & Cold     & 2011     & 19.85327\\\\\n",
       "\t Seg      & Cold     & 2012     & 16.17839\\\\\n",
       "\t Seg      & Cold     & 2013     & 16.34676\\\\\n",
       "\\end{tabular}\n"
      ],
      "text/markdown": [
       "\n",
       "variable | season | year_w | seas_sum | \n",
       "|---|---|---|---|---|---|\n",
       "| Seg      | Cold     | 2008     | 27.58594 | \n",
       "| Seg      | Cold     | 2009     | 16.16741 | \n",
       "| Seg      | Cold     | 2010     | 14.16724 | \n",
       "| Seg      | Cold     | 2011     | 19.85327 | \n",
       "| Seg      | Cold     | 2012     | 16.17839 | \n",
       "| Seg      | Cold     | 2013     | 16.34676 | \n",
       "\n",
       "\n"
      ],
      "text/plain": [
       "  variable season year_w seas_sum\n",
       "1 Seg      Cold   2008   27.58594\n",
       "2 Seg      Cold   2009   16.16741\n",
       "3 Seg      Cold   2010   14.16724\n",
       "4 Seg      Cold   2011   19.85327\n",
       "5 Seg      Cold   2012   16.17839\n",
       "6 Seg      Cold   2013   16.34676"
      ]
     },
     "metadata": {},
     "output_type": "display_data"
    },
    {
     "name": "stdout",
     "output_type": "stream",
     "text": [
      "'data.frame':\t162 obs. of  5 variables:\n",
      " $ variable : Factor w/ 6 levels \"Seg\",\"Ses\",\"Wjs\",..: 1 1 1 1 1 1 1 1 1 1 ...\n",
      " $ season   : Factor w/ 3 levels \"Cold\",\"Spring\",..: 1 1 1 1 1 1 1 1 1 2 ...\n",
      " $ year_w   : num  2008 2009 2010 2011 2012 ...\n",
      " $ seas_sum : num  27.6 16.2 14.2 19.9 16.2 ...\n",
      " $ spei_seas: num  -1.411 -0.512 0.532 -0.208 -0.463 ...\n",
      "'data.frame':\t162 obs. of  6 variables:\n",
      " $ variable       : Factor w/ 6 levels \"Seg\",\"Ses\",\"Wjs\",..: 1 1 1 1 1 1 1 1 1 1 ...\n",
      " $ year_w         : num  2008 2009 2010 2011 2012 ...\n",
      " $ season         : Factor w/ 3 levels \"Cold\",\"Spring\",..: 1 1 1 1 1 1 1 1 1 2 ...\n",
      " $ seas_sum       : num  27.6 16.2 14.2 19.9 16.2 ...\n",
      " $ spei_seas      : num  -1.411 -0.512 0.532 -0.208 -0.463 ...\n",
      " $ wyear_mean_spei: num  -1.491 -0.48 0.649 -0.545 -0.282 ...\n"
     ]
    },
    {
     "data": {},
     "metadata": {},
     "output_type": "display_data"
    },
    {
     "name": "stderr",
     "output_type": "stream",
     "text": [
      "Warning message:\n",
      "\"Removed 3 rows containing missing values (geom_point).\""
     ]
    },
    {
     "data": {},
     "metadata": {},
     "output_type": "display_data"
    },
    {
     "data": {
      "image/png": "[encoded data removed]",
      "text/plain": [
       "plot without title"
      ]
     },
     "metadata": {},
     "output_type": "display_data"
    },
    {
     "name": "stderr",
     "output_type": "stream",
     "text": [
      "Warning message:\n",
      "\"Removed 3 rows containing missing values (geom_point).\""
     ]
    },
    {
     "data": {},
     "metadata": {},
     "output_type": "display_data"
    },
    {
     "data": {
      "image/png": "[encoded data removed]",
      "text/plain": [
       "plot without title"
      ]
     },
     "metadata": {},
     "output_type": "display_data"
    },
    {
     "data": {
      "image/png": "[encoded data removed]",
      "text/plain": [
       "plot without title"
      ]
     },
     "metadata": {},
     "output_type": "display_data"
    }
   ],
   "source": [
    "GPP.m <- melt(clean_rename(GPP_daily), id.vars=c('season', 'year_w'))\n",
    "GPP.m <- ddply(GPP.m, .(variable, season, year_w), summarise, seas_sum = sum(value, na.rm = T))\n",
    "head(GPP.m)\n",
    "GPP.m$spei_seas <- spei_seas_avg$seas_mean_spei\n",
    "str(GPP.m)\n",
    "# Merge in the annual values of SPEI\n",
    "GPP.m <- merge(GPP.m, spei_wyear_avg, by=c('variable', 'year_w'))\n",
    "# The merge messes up the order - reorder it\n",
    "GPP.m <- GPP.m[with(GPP.m, order(variable, season, year_w)),]\n",
    "str(GPP.m)\n",
    "\n",
    "GPP_seas_by_yr <- ggplot(GPP.m, aes(x=year_w, y=seas_sum, fill=season)) +\n",
    "    geom_bar(stat='identity') + \n",
    "    facet_wrap(~variable, nrow=1) + \n",
    "    xlab('Hydrological Year') + ylab(bquote('GPP (cumulative '~ g/m^2 ~')')) +\n",
    "    scale_x_continuous(breaks=seq(2008,2016,2)) +\n",
    "    theme(axis.text.x=element_text(angle=45, hjust=1, size=9)) + \n",
    "    scale_fill_manual(values=c(\"#56B4E9\", \"#999999\", \"#E69F00\"), name=\"Season\") +\n",
    "    theme(aspect.ratio=asp_ratio)\n",
    "GPP_seas_by_yr\n",
    "\n",
    "\n",
    "GPP_seas_by_seasspei <- ggplot(GPP.m, aes(x=spei_seas, y=seas_sum, col=factor(season))) +\n",
    "    #geom_bar(stat='identity') + \n",
    "    geom_point() +\n",
    "    facet_wrap(~variable, nrow=1) + \n",
    "    xlab('Seasonal SPEI') + ylab(bquote('GPP (cumulative '~ g/m^2 ~')')) +\n",
    "    theme(axis.text.x=element_text(angle=45, hjust=1, size=9)) + \n",
    "    scale_color_manual(values=c(\"#56B4E9\", \"#999999\", \"#E69F00\"), name=\"Season\") +\n",
    "    theme(aspect.ratio=asp_ratio)\n",
    "GPP_seas_by_seasspei\n",
    "\n",
    "GPP_seas_by_annspei <- ggplot(GPP.m, aes(x=wyear_mean_spei, y=seas_sum, col=factor(season))) +\n",
    "     #geom_bar(stat='identity') + \n",
    "    geom_point() +\n",
    "    facet_wrap(~variable, nrow=1) + \n",
    "    xlab('Wateryear SPEI') + ylab(bquote('GPP (cumulative '~ g/m^2 ~')')) +\n",
    "    theme(axis.text.x=element_text(angle=45, hjust=1, size=9)) + \n",
    "    scale_color_manual(values=c(\"#56B4E9\", \"#999999\", \"#E69F00\"), name=\"Season\") +\n",
    "    theme(aspect.ratio=asp_ratio)\n",
    "GPP_seas_by_annspei"
   ]
  },
  {
   "cell_type": "code",
   "execution_count": 33,
   "metadata": {
    "collapsed": false,
    "deletable": true,
    "editable": true,
    "scrolled": true
   },
   "outputs": [
    {
     "data": {
      "text/html": [
       "<table>\n",
       "<thead><tr><th></th><th scope=col>variable</th><th scope=col>year_w</th><th scope=col>season</th><th scope=col>seas_sum</th><th scope=col>spei_seas</th><th scope=col>wyear_mean_spei</th><th scope=col>year_w_f</th><th scope=col>rank_spei_bysite</th></tr></thead>\n",
       "<tbody>\n",
       "\t<tr><th scope=row>31</th><td>Seg         </td><td>2009        </td><td>Monsoon     </td><td> 49.26502   </td><td>-0.589126982</td><td>-0.48033199 </td><td>2009        </td><td> 8          </td></tr>\n",
       "\t<tr><th scope=row>34</th><td>Seg         </td><td>2010        </td><td>Monsoon     </td><td> 64.22998   </td><td> 0.545396161</td><td> 0.64922886 </td><td>2010        </td><td>23          </td></tr>\n",
       "\t<tr><th scope=row>37</th><td>Seg         </td><td>2011        </td><td>Monsoon     </td><td> 38.47805   </td><td>-0.631387900</td><td>-0.54456667 </td><td>2011        </td><td> 5          </td></tr>\n",
       "\t<tr><th scope=row>42</th><td>Seg         </td><td>2012        </td><td>Monsoon     </td><td> 40.08895   </td><td>-0.094451903</td><td>-0.28185893 </td><td>2012        </td><td>11          </td></tr>\n",
       "\t<tr><th scope=row>43</th><td>Seg         </td><td>2013        </td><td>Monsoon     </td><td>178.73835   </td><td> 0.599071366</td><td> 0.12881134 </td><td>2013        </td><td>14          </td></tr>\n",
       "\t<tr><th scope=row>46</th><td>Seg         </td><td>2014        </td><td>Monsoon     </td><td>136.86087   </td><td> 0.287297962</td><td> 0.93598606 </td><td>2014        </td><td>26          </td></tr>\n",
       "\t<tr><th scope=row>49</th><td>Seg         </td><td>2015        </td><td>Monsoon     </td><td> 66.03030   </td><td>-0.005076937</td><td> 0.31769689 </td><td>2015        </td><td>17          </td></tr>\n",
       "\t<tr><th scope=row>54</th><td>Seg         </td><td>2016        </td><td>Monsoon     </td><td>120.65199   </td><td>-0.054687222</td><td> 0.39333298 </td><td>2016        </td><td>20          </td></tr>\n",
       "\t<tr><th scope=row>55</th><td>Ses         </td><td>2008        </td><td>Cold        </td><td> 18.05080   </td><td> 0.487635215</td><td> 0.02769321 </td><td>2008        </td><td>14          </td></tr>\n",
       "\t<tr><th scope=row>60</th><td>Ses         </td><td>2009        </td><td>Cold        </td><td> 28.67822   </td><td> 0.899839982</td><td> 0.82117188 </td><td>2009        </td><td>23          </td></tr>\n",
       "</tbody>\n",
       "</table>\n"
      ],
      "text/latex": [
       "\\begin{tabular}{r|llllllll}\n",
       "  & variable & year\\_w & season & seas\\_sum & spei\\_seas & wyear\\_mean\\_spei & year\\_w\\_f & rank\\_spei\\_bysite\\\\\n",
       "\\hline\n",
       "\t31 & Seg          & 2009         & Monsoon      &  49.26502    & -0.589126982 & -0.48033199  & 2009         &  8          \\\\\n",
       "\t34 & Seg          & 2010         & Monsoon      &  64.22998    &  0.545396161 &  0.64922886  & 2010         & 23          \\\\\n",
       "\t37 & Seg          & 2011         & Monsoon      &  38.47805    & -0.631387900 & -0.54456667  & 2011         &  5          \\\\\n",
       "\t42 & Seg          & 2012         & Monsoon      &  40.08895    & -0.094451903 & -0.28185893  & 2012         & 11          \\\\\n",
       "\t43 & Seg          & 2013         & Monsoon      & 178.73835    &  0.599071366 &  0.12881134  & 2013         & 14          \\\\\n",
       "\t46 & Seg          & 2014         & Monsoon      & 136.86087    &  0.287297962 &  0.93598606  & 2014         & 26          \\\\\n",
       "\t49 & Seg          & 2015         & Monsoon      &  66.03030    & -0.005076937 &  0.31769689  & 2015         & 17          \\\\\n",
       "\t54 & Seg          & 2016         & Monsoon      & 120.65199    & -0.054687222 &  0.39333298  & 2016         & 20          \\\\\n",
       "\t55 & Ses          & 2008         & Cold         &  18.05080    &  0.487635215 &  0.02769321  & 2008         & 14          \\\\\n",
       "\t60 & Ses          & 2009         & Cold         &  28.67822    &  0.899839982 &  0.82117188  & 2009         & 23          \\\\\n",
       "\\end{tabular}\n"
      ],
      "text/markdown": [
       "\n",
       "| <!--/--> | variable | year_w | season | seas_sum | spei_seas | wyear_mean_spei | year_w_f | rank_spei_bysite | \n",
       "|---|---|---|---|---|---|---|---|---|---|\n",
       "| 31 | Seg          | 2009         | Monsoon      |  49.26502    | -0.589126982 | -0.48033199  | 2009         |  8           | \n",
       "| 34 | Seg          | 2010         | Monsoon      |  64.22998    |  0.545396161 |  0.64922886  | 2010         | 23           | \n",
       "| 37 | Seg          | 2011         | Monsoon      |  38.47805    | -0.631387900 | -0.54456667  | 2011         |  5           | \n",
       "| 42 | Seg          | 2012         | Monsoon      |  40.08895    | -0.094451903 | -0.28185893  | 2012         | 11           | \n",
       "| 43 | Seg          | 2013         | Monsoon      | 178.73835    |  0.599071366 |  0.12881134  | 2013         | 14           | \n",
       "| 46 | Seg          | 2014         | Monsoon      | 136.86087    |  0.287297962 |  0.93598606  | 2014         | 26           | \n",
       "| 49 | Seg          | 2015         | Monsoon      |  66.03030    | -0.005076937 |  0.31769689  | 2015         | 17           | \n",
       "| 54 | Seg          | 2016         | Monsoon      | 120.65199    | -0.054687222 |  0.39333298  | 2016         | 20           | \n",
       "| 55 | Ses          | 2008         | Cold         |  18.05080    |  0.487635215 |  0.02769321  | 2008         | 14           | \n",
       "| 60 | Ses          | 2009         | Cold         |  28.67822    |  0.899839982 |  0.82117188  | 2009         | 23           | \n",
       "\n",
       "\n"
      ],
      "text/plain": [
       "   variable year_w season  seas_sum  spei_seas    wyear_mean_spei year_w_f\n",
       "31 Seg      2009   Monsoon  49.26502 -0.589126982 -0.48033199     2009    \n",
       "34 Seg      2010   Monsoon  64.22998  0.545396161  0.64922886     2010    \n",
       "37 Seg      2011   Monsoon  38.47805 -0.631387900 -0.54456667     2011    \n",
       "42 Seg      2012   Monsoon  40.08895 -0.094451903 -0.28185893     2012    \n",
       "43 Seg      2013   Monsoon 178.73835  0.599071366  0.12881134     2013    \n",
       "46 Seg      2014   Monsoon 136.86087  0.287297962  0.93598606     2014    \n",
       "49 Seg      2015   Monsoon  66.03030 -0.005076937  0.31769689     2015    \n",
       "54 Seg      2016   Monsoon 120.65199 -0.054687222  0.39333298     2016    \n",
       "55 Ses      2008   Cold     18.05080  0.487635215  0.02769321     2008    \n",
       "60 Ses      2009   Cold     28.67822  0.899839982  0.82117188     2009    \n",
       "   rank_spei_bysite\n",
       "31  8              \n",
       "34 23              \n",
       "37  5              \n",
       "42 11              \n",
       "43 14              \n",
       "46 26              \n",
       "49 17              \n",
       "54 20              \n",
       "55 14              \n",
       "60 23              "
      ]
     },
     "metadata": {},
     "output_type": "display_data"
    },
    {
     "ename": "ERROR",
     "evalue": "Error in ggplot(order_by(year_w_f, ~wyear_mean_spei, GPP.m), aes(x = year_w_f, : could not find function \"order_by\"\n",
     "output_type": "error",
     "traceback": [
      "Error in ggplot(order_by(year_w_f, ~wyear_mean_spei, GPP.m), aes(x = year_w_f, : could not find function \"order_by\"\nTraceback:\n",
      "1. ggplot(order_by(year_w_f, ~wyear_mean_spei, GPP.m), aes(x = year_w_f, \n .     y = seas_sum, fill = factor(season)))"
     ]
    }
   ],
   "source": [
    "# Plot stacked bars but ordered by annual spei\n",
    "GPP.m$year_w_f <- as.factor(GPP.m$year_w)\n",
    "#siteyear <- apply(GPP.m[,c('variable', 'year_w')], 1, paste, collapse=\" \")\n",
    "#test <- as.factor(siteyear)\n",
    "#levels(test)\n",
    "GPP.m$rank_spei_bysite <- ave( GPP.m$wyear_mean_spei,  as.factor(GPP.m$variable), FUN=rank)\n",
    "GPP.m[20:29,]\n",
    "#test3\n",
    "#length(test3)\n",
    "#GPP.m <- GPP.m[with(GPP.m, order(variable, season, wyear_mean_spei)),]\n",
    "#GPP.m$year_w_f <- reorder(GPP.m$year_w_f, GPP.m$wyear_mean_spei)\n",
    "#levels(GPP.m$year_w_f)\n",
    "GPP_seas_by_annspei2 <- ggplot(order_by(year_w_f, ~wyear_mean_spei, GPP.m), aes(x=year_w_f, y=seas_sum, fill=factor(season))) +\n",
    "    geom_bar(stat='identity') + \n",
    "    #geom_point() +\n",
    "    facet_wrap(~variable, nrow=1) + \n",
    "    xlab('Year, ordered by mean SPEI') + ylab(bquote('GPP (cumulative '~ g/m^2 ~')')) +\n",
    "    theme(axis.text.x=element_text(angle=45, hjust=1, size=7)) + \n",
    "    scale_fill_manual(values=c(\"#56B4E9\", \"#999999\", \"#E69F00\"), name=\"Season\") +\n",
    "    scale_x_discrete(limits=c('2', '5', '8', '11', '14', '17', '20')) +\n",
    "    theme(aspect.ratio=asp_ratio)\n",
    "GPP_seas_by_annspei2"
   ]
  },
  {
   "cell_type": "code",
   "execution_count": 34,
   "metadata": {
    "collapsed": false,
    "deletable": true,
    "editable": true,
    "scrolled": false
   },
   "outputs": [
    {
     "data": {
      "text/html": [
       "<table>\n",
       "<thead><tr><th scope=col>variable</th><th scope=col>season</th><th scope=col>year_w</th><th scope=col>seas_sum</th></tr></thead>\n",
       "<tbody>\n",
       "\t<tr><td>Seg     </td><td>Cold    </td><td>2008    </td><td>55.86739</td></tr>\n",
       "\t<tr><td>Seg     </td><td>Cold    </td><td>2009    </td><td>36.71957</td></tr>\n",
       "\t<tr><td>Seg     </td><td>Cold    </td><td>2010    </td><td>43.40788</td></tr>\n",
       "\t<tr><td>Seg     </td><td>Cold    </td><td>2011    </td><td>49.68816</td></tr>\n",
       "\t<tr><td>Seg     </td><td>Cold    </td><td>2012    </td><td>44.56407</td></tr>\n",
       "\t<tr><td>Seg     </td><td>Cold    </td><td>2013    </td><td>54.10300</td></tr>\n",
       "</tbody>\n",
       "</table>\n"
      ],
      "text/latex": [
       "\\begin{tabular}{r|llll}\n",
       " variable & season & year\\_w & seas\\_sum\\\\\n",
       "\\hline\n",
       "\t Seg      & Cold     & 2008     & 55.86739\\\\\n",
       "\t Seg      & Cold     & 2009     & 36.71957\\\\\n",
       "\t Seg      & Cold     & 2010     & 43.40788\\\\\n",
       "\t Seg      & Cold     & 2011     & 49.68816\\\\\n",
       "\t Seg      & Cold     & 2012     & 44.56407\\\\\n",
       "\t Seg      & Cold     & 2013     & 54.10300\\\\\n",
       "\\end{tabular}\n"
      ],
      "text/markdown": [
       "\n",
       "variable | season | year_w | seas_sum | \n",
       "|---|---|---|---|---|---|\n",
       "| Seg      | Cold     | 2008     | 55.86739 | \n",
       "| Seg      | Cold     | 2009     | 36.71957 | \n",
       "| Seg      | Cold     | 2010     | 43.40788 | \n",
       "| Seg      | Cold     | 2011     | 49.68816 | \n",
       "| Seg      | Cold     | 2012     | 44.56407 | \n",
       "| Seg      | Cold     | 2013     | 54.10300 | \n",
       "\n",
       "\n"
      ],
      "text/plain": [
       "  variable season year_w seas_sum\n",
       "1 Seg      Cold   2008   55.86739\n",
       "2 Seg      Cold   2009   36.71957\n",
       "3 Seg      Cold   2010   43.40788\n",
       "4 Seg      Cold   2011   49.68816\n",
       "5 Seg      Cold   2012   44.56407\n",
       "6 Seg      Cold   2013   54.10300"
      ]
     },
     "metadata": {},
     "output_type": "display_data"
    },
    {
     "name": "stdout",
     "output_type": "stream",
     "text": [
      "'data.frame':\t162 obs. of  5 variables:\n",
      " $ variable : Factor w/ 6 levels \"Seg\",\"Ses\",\"Wjs\",..: 1 1 1 1 1 1 1 1 1 1 ...\n",
      " $ season   : Factor w/ 3 levels \"Cold\",\"Spring\",..: 1 1 1 1 1 1 1 1 1 2 ...\n",
      " $ year_w   : num  2008 2009 2010 2011 2012 ...\n",
      " $ seas_sum : num  55.9 36.7 43.4 49.7 44.6 ...\n",
      " $ spei_seas: num  -1.411 -0.512 0.532 -0.208 -0.463 ...\n",
      "'data.frame':\t162 obs. of  6 variables:\n",
      " $ variable       : Factor w/ 6 levels \"Seg\",\"Ses\",\"Wjs\",..: 1 1 1 1 1 1 1 1 1 1 ...\n",
      " $ year_w         : num  2008 2009 2010 2011 2012 ...\n",
      " $ season         : Factor w/ 3 levels \"Cold\",\"Spring\",..: 1 1 1 1 1 1 1 1 1 2 ...\n",
      " $ seas_sum       : num  55.9 36.7 43.4 49.7 44.6 ...\n",
      " $ spei_seas      : num  -1.411 -0.512 0.532 -0.208 -0.463 ...\n",
      " $ wyear_mean_spei: num  -1.491 -0.48 0.649 -0.545 -0.282 ...\n"
     ]
    },
    {
     "data": {},
     "metadata": {},
     "output_type": "display_data"
    },
    {
     "name": "stderr",
     "output_type": "stream",
     "text": [
      "Warning message:\n",
      "\"Removed 3 rows containing missing values (geom_point).\""
     ]
    },
    {
     "data": {},
     "metadata": {},
     "output_type": "display_data"
    },
    {
     "data": {
      "image/png": "[encoded data removed]",
      "text/plain": [
       "plot without title"
      ]
     },
     "metadata": {},
     "output_type": "display_data"
    },
    {
     "name": "stderr",
     "output_type": "stream",
     "text": [
      "Warning message:\n",
      "\"Removed 3 rows containing missing values (geom_point).\""
     ]
    },
    {
     "data": {},
     "metadata": {},
     "output_type": "display_data"
    },
    {
     "data": {
      "image/png": "[encoded data removed]",
      "text/plain": [
       "plot without title"
      ]
     },
     "metadata": {},
     "output_type": "display_data"
    },
    {
     "data": {
      "image/png": "[encoded data removed]",
      "text/plain": [
       "plot without title"
      ]
     },
     "metadata": {},
     "output_type": "display_data"
    }
   ],
   "source": [
    "\n",
    "RE.m <- melt(clean_rename(RE_daily), id.vars=c('season', 'year_w'))\n",
    "RE.m <- ddply(RE.m, .(variable, season, year_w), summarise, seas_sum = sum(value, na.rm = T))\n",
    "head(RE.m)\n",
    "RE.m$spei_seas <- spei_seas_avg$seas_mean_spei\n",
    "str(RE.m)\n",
    "# Merge in the annual values of SPEI\n",
    "RE.m <- merge(RE.m, spei_wyear_avg, by=c('variable', 'year_w'))\n",
    "# The merge messes up the order - reorder it\n",
    "RE.m <- RE.m[with(RE.m, order(variable, season, year_w)),]\n",
    "str(RE.m)\n",
    "\n",
    "RE_seas_by_yr <- ggplot(RE.m, aes(x=year_w, y=seas_sum, fill=factor(season))) +\n",
    "    geom_bar(stat='identity') + \n",
    "    facet_wrap(~variable, nrow=1) + \n",
    "    xlab('Year') + ylab(bquote('Reco (cumulative '~ g/m^2 ~')')) +\n",
    "    theme(axis.text.x=element_text(angle=45, hjust=1, size=11)) + \n",
    "    scale_fill_manual(values=c(\"#56B4E9\", \"#999999\", \"#E69F00\"), name=\"Season\") +\n",
    "    theme(aspect.ratio=asp_ratio)\n",
    "RE_seas_by_yr\n",
    "\n",
    "RE_seas_by_spei <- ggplot(RE.m, aes(x=spei_seas, y=seas_sum, col=factor(season))) +\n",
    "    #geom_bar(stat='identity') + \n",
    "    geom_point() +\n",
    "    facet_wrap(~variable, nrow=1) + \n",
    "    xlab('Seasonal SPEI') + ylab(bquote('Reco (cumulative '~ g/m^2 ~')')) +\n",
    "    theme(axis.text.x=element_text(angle=45, hjust=1, size=11)) + \n",
    "    scale_color_manual(values=c(\"#56B4E9\", \"#999999\", \"#E69F00\"), name=\"Season\") +\n",
    "    theme(aspect.ratio=asp_ratio)\n",
    "RE_seas_by_spei\n",
    "\n",
    "RE_seas_by_annspei <- ggplot(RE.m, aes(x=wyear_mean_spei, y=seas_sum, col=factor(season))) +\n",
    "     #geom_bar(stat='identity') + \n",
    "    geom_point() +\n",
    "    facet_wrap(~variable, nrow=1) + \n",
    "    xlab('Wateryear SPEI') + ylab(bquote('Reco (cumulative '~ g/m^2 ~')')) +\n",
    "    theme(axis.text.x=element_text(angle=45, hjust=1, size=11)) + \n",
    "    scale_color_manual(values=c(\"#56B4E9\", \"#999999\", \"#E69F00\"), name=\"Season\") +\n",
    "    theme(aspect.ratio=asp_ratio)\n",
    "RE_seas_by_annspei"
   ]
  },
  {
   "cell_type": "code",
   "execution_count": 35,
   "metadata": {
    "collapsed": false,
    "deletable": true,
    "editable": true,
    "scrolled": false
   },
   "outputs": [
    {
     "data": {
      "text/html": [
       "<table>\n",
       "<thead><tr><th scope=col>variable</th><th scope=col>season</th><th scope=col>year_w</th><th scope=col>seas_sum</th></tr></thead>\n",
       "<tbody>\n",
       "\t<tr><td>Seg     </td><td>Cold    </td><td>2008    </td><td>32.17136</td></tr>\n",
       "\t<tr><td>Seg     </td><td>Cold    </td><td>2009    </td><td>27.95877</td></tr>\n",
       "\t<tr><td>Seg     </td><td>Cold    </td><td>2010    </td><td>45.86943</td></tr>\n",
       "\t<tr><td>Seg     </td><td>Cold    </td><td>2011    </td><td>23.08909</td></tr>\n",
       "\t<tr><td>Seg     </td><td>Cold    </td><td>2012    </td><td>41.43810</td></tr>\n",
       "\t<tr><td>Seg     </td><td>Cold    </td><td>2013    </td><td>23.78271</td></tr>\n",
       "</tbody>\n",
       "</table>\n"
      ],
      "text/latex": [
       "\\begin{tabular}{r|llll}\n",
       " variable & season & year\\_w & seas\\_sum\\\\\n",
       "\\hline\n",
       "\t Seg      & Cold     & 2008     & 32.17136\\\\\n",
       "\t Seg      & Cold     & 2009     & 27.95877\\\\\n",
       "\t Seg      & Cold     & 2010     & 45.86943\\\\\n",
       "\t Seg      & Cold     & 2011     & 23.08909\\\\\n",
       "\t Seg      & Cold     & 2012     & 41.43810\\\\\n",
       "\t Seg      & Cold     & 2013     & 23.78271\\\\\n",
       "\\end{tabular}\n"
      ],
      "text/markdown": [
       "\n",
       "variable | season | year_w | seas_sum | \n",
       "|---|---|---|---|---|---|\n",
       "| Seg      | Cold     | 2008     | 32.17136 | \n",
       "| Seg      | Cold     | 2009     | 27.95877 | \n",
       "| Seg      | Cold     | 2010     | 45.86943 | \n",
       "| Seg      | Cold     | 2011     | 23.08909 | \n",
       "| Seg      | Cold     | 2012     | 41.43810 | \n",
       "| Seg      | Cold     | 2013     | 23.78271 | \n",
       "\n",
       "\n"
      ],
      "text/plain": [
       "  variable season year_w seas_sum\n",
       "1 Seg      Cold   2008   32.17136\n",
       "2 Seg      Cold   2009   27.95877\n",
       "3 Seg      Cold   2010   45.86943\n",
       "4 Seg      Cold   2011   23.08909\n",
       "5 Seg      Cold   2012   41.43810\n",
       "6 Seg      Cold   2013   23.78271"
      ]
     },
     "metadata": {},
     "output_type": "display_data"
    },
    {
     "name": "stdout",
     "output_type": "stream",
     "text": [
      "'data.frame':\t162 obs. of  5 variables:\n",
      " $ variable : Factor w/ 6 levels \"Seg\",\"Ses\",\"Wjs\",..: 1 1 1 1 1 1 1 1 1 1 ...\n",
      " $ season   : Factor w/ 3 levels \"Cold\",\"Spring\",..: 1 1 1 1 1 1 1 1 1 2 ...\n",
      " $ year_w   : num  2008 2009 2010 2011 2012 ...\n",
      " $ seas_sum : num  32.2 28 45.9 23.1 41.4 ...\n",
      " $ spei_seas: num  -1.411 -0.512 0.532 -0.208 -0.463 ...\n",
      "'data.frame':\t162 obs. of  6 variables:\n",
      " $ variable       : Factor w/ 6 levels \"Seg\",\"Ses\",\"Wjs\",..: 1 1 1 1 1 1 1 1 1 1 ...\n",
      " $ year_w         : num  2008 2009 2010 2011 2012 ...\n",
      " $ season         : Factor w/ 3 levels \"Cold\",\"Spring\",..: 1 1 1 1 1 1 1 1 1 2 ...\n",
      " $ seas_sum       : num  32.2 28 45.9 23.1 41.4 ...\n",
      " $ spei_seas      : num  -1.411 -0.512 0.532 -0.208 -0.463 ...\n",
      " $ wyear_mean_spei: num  -1.491 -0.48 0.649 -0.545 -0.282 ...\n"
     ]
    },
    {
     "data": {
      "text/html": [
       "<table>\n",
       "<thead><tr><th scope=col>variable</th><th scope=col>year_w</th><th scope=col>year_sum</th></tr></thead>\n",
       "<tbody>\n",
       "\t<tr><td>Seg     </td><td>2008    </td><td>241.5759</td></tr>\n",
       "\t<tr><td>Seg     </td><td>2009    </td><td>213.7015</td></tr>\n",
       "\t<tr><td>Seg     </td><td>2010    </td><td>244.9123</td></tr>\n",
       "\t<tr><td>Seg     </td><td>2011    </td><td>140.9081</td></tr>\n",
       "\t<tr><td>Seg     </td><td>2012    </td><td>218.8078</td></tr>\n",
       "\t<tr><td>Seg     </td><td>2013    </td><td>214.9186</td></tr>\n",
       "</tbody>\n",
       "</table>\n"
      ],
      "text/latex": [
       "\\begin{tabular}{r|lll}\n",
       " variable & year\\_w & year\\_sum\\\\\n",
       "\\hline\n",
       "\t Seg      & 2008     & 241.5759\\\\\n",
       "\t Seg      & 2009     & 213.7015\\\\\n",
       "\t Seg      & 2010     & 244.9123\\\\\n",
       "\t Seg      & 2011     & 140.9081\\\\\n",
       "\t Seg      & 2012     & 218.8078\\\\\n",
       "\t Seg      & 2013     & 214.9186\\\\\n",
       "\\end{tabular}\n"
      ],
      "text/markdown": [
       "\n",
       "variable | year_w | year_sum | \n",
       "|---|---|---|---|---|---|\n",
       "| Seg      | 2008     | 241.5759 | \n",
       "| Seg      | 2009     | 213.7015 | \n",
       "| Seg      | 2010     | 244.9123 | \n",
       "| Seg      | 2011     | 140.9081 | \n",
       "| Seg      | 2012     | 218.8078 | \n",
       "| Seg      | 2013     | 214.9186 | \n",
       "\n",
       "\n"
      ],
      "text/plain": [
       "  variable year_w year_sum\n",
       "1 Seg      2008   241.5759\n",
       "2 Seg      2009   213.7015\n",
       "3 Seg      2010   244.9123\n",
       "4 Seg      2011   140.9081\n",
       "5 Seg      2012   218.8078\n",
       "6 Seg      2013   214.9186"
      ]
     },
     "metadata": {},
     "output_type": "display_data"
    },
    {
     "name": "stdout",
     "output_type": "stream",
     "text": [
      "'data.frame':\t54 obs. of  3 variables:\n",
      " $ variable: Factor w/ 6 levels \"Seg\",\"Ses\",\"Wjs\",..: 1 1 1 1 1 1 1 1 1 2 ...\n",
      " $ year_w  : num  2008 2009 2010 2011 2012 ...\n",
      " $ year_sum: num  242 214 245 141 219 ...\n",
      "'data.frame':\t54 obs. of  4 variables:\n",
      " $ variable       : Factor w/ 6 levels \"Seg\",\"Ses\",\"Wjs\",..: 4 4 4 4 4 4 4 4 4 1 ...\n",
      " $ year_w         : num  2008 2009 2010 2011 2012 ...\n",
      " $ year_sum       : num  251 297 410 258 305 ...\n",
      " $ wyear_mean_spei: num  NaN 0.32 1.194 -0.945 -0.769 ...\n"
     ]
    },
    {
     "data": {},
     "metadata": {},
     "output_type": "display_data"
    },
    {
     "name": "stderr",
     "output_type": "stream",
     "text": [
      "Warning message:\n",
      "\"Removed 3 rows containing missing values (geom_point).\""
     ]
    },
    {
     "data": {},
     "metadata": {},
     "output_type": "display_data"
    },
    {
     "data": {
      "image/png": "[encoded data removed]",
      "text/plain": [
       "plot without title"
      ]
     },
     "metadata": {},
     "output_type": "display_data"
    },
    {
     "name": "stderr",
     "output_type": "stream",
     "text": [
      "Warning message:\n",
      "\"Removed 3 rows containing missing values (geom_point).\""
     ]
    },
    {
     "data": {},
     "metadata": {},
     "output_type": "display_data"
    },
    {
     "data": {
      "image/png": "[encoded data removed]",
      "text/plain": [
       "plot without title"
      ]
     },
     "metadata": {},
     "output_type": "display_data"
    },
    {
     "name": "stderr",
     "output_type": "stream",
     "text": [
      "Warning message:\n",
      "\"Removed 3 rows containing missing values (geom_point).\""
     ]
    },
    {
     "data": {},
     "metadata": {},
     "output_type": "display_data"
    },
    {
     "data": {
      "image/png": "[encoded data removed]",
      "text/plain": [
       "plot without title"
      ]
     },
     "metadata": {},
     "output_type": "display_data"
    },
    {
     "name": "stderr",
     "output_type": "stream",
     "text": [
      "Warning message:\n",
      "\"Removed 1 rows containing missing values (geom_point).\""
     ]
    },
    {
     "data": {},
     "metadata": {},
     "output_type": "display_data"
    },
    {
     "data": {
      "image/png": "[encoded data removed]",
      "text/plain": [
       "plot without title"
      ]
     },
     "metadata": {},
     "output_type": "display_data"
    },
    {
     "data": {
      "image/png": "[encoded data removed]",
      "text/plain": [
       "plot without title"
      ]
     },
     "metadata": {},
     "output_type": "display_data"
    }
   ],
   "source": [
    "ET.m <- melt(clean_rename(ET_daily), id.vars=c('season', 'year_w'))\n",
    "ET.m <- ddply(ET.m, .(variable, season, year_w), summarise, seas_sum = sum(value, na.rm = T))\n",
    "head(ET.m)\n",
    "ET.m$spei_seas <- spei_seas_avg$seas_mean_spei\n",
    "str(ET.m)\n",
    "# Merge in the annual values of SPEI\n",
    "ET.m <- merge(ET.m, spei_wyear_avg, by=c('variable', 'year_w'))\n",
    "\n",
    "# The merge messes up the order - reorder it\n",
    "ET.m <- ET.m[with(ET.m, order(variable, season, year_w)),]\n",
    "str(ET.m)\n",
    "\n",
    "# Make another dataframe for yearly values\n",
    "ETyr.m <- melt(clean_rename(ET_daily), id.vars=c('season','year_w'))\n",
    "ETyr.m <- ddply(ETyr.m, .(variable, year_w), summarise, year_sum = sum(value, na.rm = T))\n",
    "head(ETyr.m)\n",
    "str(ETyr.m)\n",
    "# Merge in the annual values of SPEI\n",
    "ETyr.m <- merge(ETyr.m, spei_wyear_avg, by=c('variable', 'year_w'))\n",
    "\n",
    "# The merge messes up the order - reorder it\n",
    "#ETyr.m <- ETyr.m[with(ET.m, order(variable, year_w)),]\n",
    "str(ETyr.m)\n",
    "#write.csv(ET.m, paste(SPEI_path, 'SPEI_vs_ET.csv', sep=''))\n",
    "\n",
    "ET_seas_by_yr <- ggplot(ET.m, aes(x=year_w, y=seas_sum, fill=season)) +\n",
    "    geom_bar(stat='identity') + \n",
    "    facet_wrap(~variable, nrow=1) + \n",
    "    xlab('Hydrological Year') + ylab(bquote('ET (cumulative '~ mm/d ~')')) +\n",
    "    theme(axis.text.x=element_text(angle=45, hjust=1, size=11)) + \n",
    "    scale_fill_manual(values=c(\"#56B4E9\", \"#999999\", \"#E69F00\"), name=\"Season\") +\n",
    "    theme(aspect.ratio=asp_ratio)\n",
    "ET_seas_by_yr\n",
    "\n",
    "\n",
    "ET_seas_by_seasspei <- ggplot(ET.m, aes(x=spei_seas, y=seas_sum, col=factor(season))) +\n",
    "    #geom_bar(stat='identity') + \n",
    "    geom_point() +\n",
    "    facet_wrap(~variable, nrow=1) + \n",
    "    xlab('Seasonal SPEI') + ylab(bquote('ET (cumulative '~ mm ~')')) +\n",
    "    theme(axis.text.x=element_text(angle=45, hjust=1, size=11)) + \n",
    "    scale_color_manual(values=c(\"#56B4E9\", \"#999999\", \"#E69F00\"), name=\"Season\") +\n",
    "    theme(aspect.ratio=asp_ratio)\n",
    "ET_seas_by_seasspei\n",
    "\n",
    "\n",
    "ET_seas_by_annspei <- ggplot(ET.m, aes(x=wyear_mean_spei, y=seas_sum, col=factor(season))) +\n",
    "     #geom_bar(stat='identity') + \n",
    "    geom_point() +\n",
    "    facet_wrap(~variable, nrow=1) + \n",
    "    xlab('Wateryear SPEI') + ylab(bquote('ET (cumulative '~ mm ~')')) +\n",
    "    theme(axis.text.x=element_text(angle=45, hjust=1, size=11)) + \n",
    "    scale_color_manual(values=c(\"#56B4E9\", \"#999999\", \"#E69F00\"), name=\"Season\") +\n",
    "    theme(aspect.ratio=asp_ratio)\n",
    "ET_seas_by_annspei\n",
    "\n",
    "\n",
    "ET_seas_by_annspei <- ggplot(ET.m, aes(x=wyear_mean_spei, y=seas_sum, col=factor(season))) +\n",
    "     #geom_bar(stat='identity') + \n",
    "    geom_point() +\n",
    "    facet_wrap(~variable, nrow=1) + \n",
    "    xlab('Wateryear SPEI') + ylab(bquote('ET (cumulative '~ mm ~')')) +\n",
    "    theme(axis.text.x=element_text(angle=45, hjust=1, size=11)) + \n",
    "    scale_color_manual(values=c(\"#56B4E9\", \"#999999\", \"#E69F00\"), name=\"Season\") +\n",
    "    theme(aspect.ratio=asp_ratio)\n",
    "ET_seas_by_annspei\n",
    "\n",
    "\n",
    "ET_year_by_annspei <- ggplot(ETyr.m, aes(x=wyear_mean_spei, y=year_sum, col=year_w)) +\n",
    "     #geom_bar(stat='identity') + \n",
    "    geom_point() +\n",
    "    facet_wrap(~variable, nrow=1) + \n",
    "    xlab('Wateryear SPEI') + ylab(bquote('ET (cumulative '~ mm ~')')) +\n",
    "    theme(axis.text.x=element_text(angle=45, hjust=1, size=11)) + \n",
    "    #scale_color_manual(values=c(\"#CC6699\", \"#A35CA3\", \"#8F57A8\", \"#704FB0\", \"#5C4AB5\", \"#4745BA\"), name=\"Year\") +\n",
    "    theme(aspect.ratio=asp_ratio)\n",
    "ET_year_by_annspei\n"
   ]
  },
  {
   "cell_type": "code",
   "execution_count": 36,
   "metadata": {
    "collapsed": false,
    "deletable": true,
    "editable": true,
    "scrolled": true
   },
   "outputs": [
    {
     "data": {
      "text/html": [
       "<table>\n",
       "<thead><tr><th scope=col>variable</th><th scope=col>year_w</th><th scope=col>year_sum</th><th scope=col>wyear_mean_spei</th></tr></thead>\n",
       "<tbody>\n",
       "\t<tr><td>Mpj       </td><td>2008      </td><td>250.8112  </td><td>       NaN</td></tr>\n",
       "\t<tr><td>Mpj       </td><td>2009      </td><td>296.9349  </td><td> 0.3203842</td></tr>\n",
       "\t<tr><td>Mpj       </td><td>2010      </td><td>410.3136  </td><td> 1.1943678</td></tr>\n",
       "\t<tr><td>Mpj       </td><td>2011      </td><td>257.6525  </td><td>-0.9448689</td></tr>\n",
       "\t<tr><td>Mpj       </td><td>2012      </td><td>305.1239  </td><td>-0.7692449</td></tr>\n",
       "\t<tr><td>Mpj       </td><td>2013      </td><td>286.5958  </td><td>-1.1613505</td></tr>\n",
       "</tbody>\n",
       "</table>\n"
      ],
      "text/latex": [
       "\\begin{tabular}{r|llll}\n",
       " variable & year\\_w & year\\_sum & wyear\\_mean\\_spei\\\\\n",
       "\\hline\n",
       "\t Mpj        & 2008       & 250.8112   &        NaN\\\\\n",
       "\t Mpj        & 2009       & 296.9349   &  0.3203842\\\\\n",
       "\t Mpj        & 2010       & 410.3136   &  1.1943678\\\\\n",
       "\t Mpj        & 2011       & 257.6525   & -0.9448689\\\\\n",
       "\t Mpj        & 2012       & 305.1239   & -0.7692449\\\\\n",
       "\t Mpj        & 2013       & 286.5958   & -1.1613505\\\\\n",
       "\\end{tabular}\n"
      ],
      "text/markdown": [
       "\n",
       "variable | year_w | year_sum | wyear_mean_spei | \n",
       "|---|---|---|---|---|---|\n",
       "| Mpj        | 2008       | 250.8112   |        NaN | \n",
       "| Mpj        | 2009       | 296.9349   |  0.3203842 | \n",
       "| Mpj        | 2010       | 410.3136   |  1.1943678 | \n",
       "| Mpj        | 2011       | 257.6525   | -0.9448689 | \n",
       "| Mpj        | 2012       | 305.1239   | -0.7692449 | \n",
       "| Mpj        | 2013       | 286.5958   | -1.1613505 | \n",
       "\n",
       "\n"
      ],
      "text/plain": [
       "  variable year_w year_sum wyear_mean_spei\n",
       "1 Mpj      2008   250.8112        NaN     \n",
       "2 Mpj      2009   296.9349  0.3203842     \n",
       "3 Mpj      2010   410.3136  1.1943678     \n",
       "4 Mpj      2011   257.6525 -0.9448689     \n",
       "5 Mpj      2012   305.1239 -0.7692449     \n",
       "6 Mpj      2013   286.5958 -1.1613505     "
      ]
     },
     "metadata": {},
     "output_type": "display_data"
    }
   ],
   "source": [
    "head(ETyr.m)\n",
    "write.csv(ETyr.m, paste(SPEI_path, 'SPEI_vs_ET2.csv', sep=''))\n"
   ]
  },
  {
   "cell_type": "markdown",
   "metadata": {
    "collapsed": true,
    "deletable": true,
    "editable": true
   },
   "source": [
    "## Water use efficiency"
   ]
  },
  {
   "cell_type": "code",
   "execution_count": 37,
   "metadata": {
    "collapsed": false,
    "scrolled": true
   },
   "outputs": [
    {
     "data": {
      "text/html": [
       "<table>\n",
       "<thead><tr><th></th><th scope=col>variable</th><th scope=col>year_w</th><th scope=col>season</th><th scope=col>seas_sum</th><th scope=col>spei_seas</th><th scope=col>wyear_mean_spei</th></tr></thead>\n",
       "<tbody>\n",
       "\t<tr><th scope=row>28</th><td>Seg        </td><td>2008       </td><td>Cold       </td><td>55.86739   </td><td>-1.41082836</td><td>-1.4913828 </td></tr>\n",
       "\t<tr><th scope=row>33</th><td>Seg        </td><td>2009       </td><td>Cold       </td><td>36.71957   </td><td>-0.51169583</td><td>-0.4803320 </td></tr>\n",
       "\t<tr><th scope=row>36</th><td>Seg        </td><td>2010       </td><td>Cold       </td><td>43.40788   </td><td> 0.53175662</td><td> 0.6492289 </td></tr>\n",
       "\t<tr><th scope=row>39</th><td>Seg        </td><td>2011       </td><td>Cold       </td><td>49.68816   </td><td>-0.20812857</td><td>-0.5445667 </td></tr>\n",
       "\t<tr><th scope=row>40</th><td>Seg        </td><td>2012       </td><td>Cold       </td><td>44.56407   </td><td>-0.46332131</td><td>-0.2818589 </td></tr>\n",
       "\t<tr><th scope=row>45</th><td>Seg        </td><td>2013       </td><td>Cold       </td><td>54.10300   </td><td> 0.02718266</td><td> 0.1288113 </td></tr>\n",
       "</tbody>\n",
       "</table>\n"
      ],
      "text/latex": [
       "\\begin{tabular}{r|llllll}\n",
       "  & variable & year\\_w & season & seas\\_sum & spei\\_seas & wyear\\_mean\\_spei\\\\\n",
       "\\hline\n",
       "\t28 & Seg         & 2008        & Cold        & 55.86739    & -1.41082836 & -1.4913828 \\\\\n",
       "\t33 & Seg         & 2009        & Cold        & 36.71957    & -0.51169583 & -0.4803320 \\\\\n",
       "\t36 & Seg         & 2010        & Cold        & 43.40788    &  0.53175662 &  0.6492289 \\\\\n",
       "\t39 & Seg         & 2011        & Cold        & 49.68816    & -0.20812857 & -0.5445667 \\\\\n",
       "\t40 & Seg         & 2012        & Cold        & 44.56407    & -0.46332131 & -0.2818589 \\\\\n",
       "\t45 & Seg         & 2013        & Cold        & 54.10300    &  0.02718266 &  0.1288113 \\\\\n",
       "\\end{tabular}\n"
      ],
      "text/markdown": [
       "\n",
       "| <!--/--> | variable | year_w | season | seas_sum | spei_seas | wyear_mean_spei | \n",
       "|---|---|---|---|---|---|\n",
       "| 28 | Seg         | 2008        | Cold        | 55.86739    | -1.41082836 | -1.4913828  | \n",
       "| 33 | Seg         | 2009        | Cold        | 36.71957    | -0.51169583 | -0.4803320  | \n",
       "| 36 | Seg         | 2010        | Cold        | 43.40788    |  0.53175662 |  0.6492289  | \n",
       "| 39 | Seg         | 2011        | Cold        | 49.68816    | -0.20812857 | -0.5445667  | \n",
       "| 40 | Seg         | 2012        | Cold        | 44.56407    | -0.46332131 | -0.2818589  | \n",
       "| 45 | Seg         | 2013        | Cold        | 54.10300    |  0.02718266 |  0.1288113  | \n",
       "\n",
       "\n"
      ],
      "text/plain": [
       "   variable year_w season seas_sum spei_seas   wyear_mean_spei\n",
       "28 Seg      2008   Cold   55.86739 -1.41082836 -1.4913828     \n",
       "33 Seg      2009   Cold   36.71957 -0.51169583 -0.4803320     \n",
       "36 Seg      2010   Cold   43.40788  0.53175662  0.6492289     \n",
       "39 Seg      2011   Cold   49.68816 -0.20812857 -0.5445667     \n",
       "40 Seg      2012   Cold   44.56407 -0.46332131 -0.2818589     \n",
       "45 Seg      2013   Cold   54.10300  0.02718266  0.1288113     "
      ]
     },
     "metadata": {},
     "output_type": "display_data"
    },
    {
     "name": "stdout",
     "output_type": "stream",
     "text": [
      "'data.frame':\t162 obs. of  6 variables:\n",
      " $ variable       : Factor w/ 6 levels \"Seg\",\"Ses\",\"Wjs\",..: 1 1 1 1 1 1 1 1 1 1 ...\n",
      " $ year_w         : num  2008 2009 2010 2011 2012 ...\n",
      " $ season         : Factor w/ 3 levels \"Cold\",\"Spring\",..: 1 1 1 1 1 1 1 1 1 2 ...\n",
      " $ seas_sum       : num  55.9 36.7 43.4 49.7 44.6 ...\n",
      " $ spei_seas      : num  -1.411 -0.512 0.532 -0.208 -0.463 ...\n",
      " $ wyear_mean_spei: num  -1.491 -0.48 0.649 -0.545 -0.282 ...\n",
      "'data.frame':\t162 obs. of  6 variables:\n",
      " $ variable       : Factor w/ 6 levels \"Seg\",\"Ses\",\"Wjs\",..: 1 1 1 1 1 1 1 1 1 1 ...\n",
      " $ year_w         : num  2008 2009 2010 2011 2012 ...\n",
      " $ season         : Factor w/ 3 levels \"Cold\",\"Spring\",..: 1 1 1 1 1 1 1 1 1 2 ...\n",
      " $ seas_sum       : num  155.4 123.5 50.4 142.3 70.3 ...\n",
      " $ spei_seas      : num  -1.411 -0.512 0.532 -0.208 -0.463 ...\n",
      " $ wyear_mean_spei: num  -1.491 -0.48 0.649 -0.545 -0.282 ...\n"
     ]
    },
    {
     "data": {},
     "metadata": {},
     "output_type": "display_data"
    },
    {
     "name": "stderr",
     "output_type": "stream",
     "text": [
      "Warning message:\n",
      "\"Removed 3 rows containing missing values (geom_point).\""
     ]
    },
    {
     "data": {},
     "metadata": {},
     "output_type": "display_data"
    },
    {
     "data": {
      "image/png": "[encoded data removed]",
      "text/plain": [
       "plot without title"
      ]
     },
     "metadata": {},
     "output_type": "display_data"
    },
    {
     "name": "stderr",
     "output_type": "stream",
     "text": [
      "Warning message:\n",
      "\"Removed 3 rows containing missing values (geom_point).\""
     ]
    },
    {
     "data": {},
     "metadata": {},
     "output_type": "display_data"
    },
    {
     "data": {
      "image/png": "[encoded data removed]",
      "text/plain": [
       "plot without title"
      ]
     },
     "metadata": {},
     "output_type": "display_data"
    },
    {
     "data": {
      "image/png": "[encoded data removed]",
      "text/plain": [
       "plot without title"
      ]
     },
     "metadata": {},
     "output_type": "display_data"
    }
   ],
   "source": [
    "WUE.m <- melt(clean_rename(WUE_daily), id.vars=c('season', 'year_w'))\n",
    "WUE.m <- ddply(WUE.m, .(variable, season, year_w), summarise, seas_sum = sum(value, na.rm = T))\n",
    "head(RE.m)\n",
    "WUE.m$spei_seas <- spei_seas_avg$seas_mean_spei\n",
    "str(RE.m)\n",
    "# Merge in the annual values of SPEI\n",
    "WUE.m <- merge(WUE.m, spei_wyear_avg, by=c('variable', 'year_w'))\n",
    "# The merge messes up the order - reorder it\n",
    "WUE.m <- WUE.m[with(WUE.m, order(variable, season, year_w)),]\n",
    "str(WUE.m)\n",
    "\n",
    "WUE_seas_by_yr <- ggplot(WUE.m, aes(x=year_w, y=seas_sum, fill=factor(season))) +\n",
    "    geom_bar(stat='identity') + \n",
    "    facet_wrap(~variable, nrow=1) + \n",
    "    xlab('Year') + ylab(bquote('WUE (cumulative '~ g/m^2/mm ~')')) +\n",
    "    theme(axis.text.x=element_text(angle=45, hjust=1, size=11)) + \n",
    "    scale_fill_manual(values=c(\"#56B4E9\", \"#999999\", \"#E69F00\"), name=\"Season\") +\n",
    "    theme(aspect.ratio=asp_ratio)\n",
    "WUE_seas_by_yr\n",
    "\n",
    "WUE_seas_by_spei <- ggplot(WUE.m, aes(x=spei_seas, y=seas_sum, col=factor(season))) +\n",
    "    #geom_bar(stat='identity') + \n",
    "    geom_point() +\n",
    "    facet_wrap(~variable, nrow=1) + \n",
    "    xlab('Seasonal SPEI') + ylab(bquote('WUE (cumulative '~ g/m^2/mm ~')')) +\n",
    "    theme(axis.text.x=element_text(angle=45, hjust=1, size=11)) + \n",
    "    scale_color_manual(values=c(\"#56B4E9\", \"#999999\", \"#E69F00\"), name=\"Season\") +\n",
    "    theme(aspect.ratio=asp_ratio)\n",
    "WUE_seas_by_spei\n",
    "\n",
    "WUE_seas_by_annspei <- ggplot(WUE.m, aes(x=wyear_mean_spei, y=seas_sum, col=factor(season))) +\n",
    "     #geom_bar(stat='identity') + \n",
    "    geom_point() +\n",
    "    facet_wrap(~variable, nrow=1) + \n",
    "    xlab('Wateryear SPEI') + ylab(bquote('WUE (cumulative '~ g/m^2/mm ~')')) +\n",
    "    theme(axis.text.x=element_text(angle=45, hjust=1, size=11)) + \n",
    "    scale_color_manual(values=c(\"#56B4E9\", \"#999999\", \"#E69F00\"), name=\"Season\") +\n",
    "    theme(aspect.ratio=asp_ratio)\n",
    "WUE_seas_by_annspei"
   ]
  },
  {
   "cell_type": "markdown",
   "metadata": {},
   "source": [
    "## Carbon Use Efficiency"
   ]
  },
  {
   "cell_type": "code",
   "execution_count": 96,
   "metadata": {
    "collapsed": false
   },
   "outputs": [
    {
     "data": {
      "text/html": [
       "<table>\n",
       "<thead><tr><th scope=col>year_w</th><th scope=col>variable</th><th scope=col>year_sum</th></tr></thead>\n",
       "<tbody>\n",
       "\t<tr><td>2008       </td><td>Seg        </td><td>-0.33406528</td></tr>\n",
       "\t<tr><td>2009       </td><td>Seg        </td><td>-0.84672719</td></tr>\n",
       "\t<tr><td>2010       </td><td>Seg        </td><td>-0.13074938</td></tr>\n",
       "\t<tr><td>2011       </td><td>Seg        </td><td>-1.24627116</td></tr>\n",
       "\t<tr><td>2012       </td><td>Seg        </td><td>-0.52650929</td></tr>\n",
       "\t<tr><td>2013       </td><td>Seg        </td><td>-0.09909421</td></tr>\n",
       "</tbody>\n",
       "</table>\n"
      ],
      "text/latex": [
       "\\begin{tabular}{r|lll}\n",
       " year\\_w & variable & year\\_sum\\\\\n",
       "\\hline\n",
       "\t 2008        & Seg         & -0.33406528\\\\\n",
       "\t 2009        & Seg         & -0.84672719\\\\\n",
       "\t 2010        & Seg         & -0.13074938\\\\\n",
       "\t 2011        & Seg         & -1.24627116\\\\\n",
       "\t 2012        & Seg         & -0.52650929\\\\\n",
       "\t 2013        & Seg         & -0.09909421\\\\\n",
       "\\end{tabular}\n"
      ],
      "text/markdown": [
       "\n",
       "year_w | variable | year_sum | \n",
       "|---|---|---|---|---|---|\n",
       "| 2008        | Seg         | -0.33406528 | \n",
       "| 2009        | Seg         | -0.84672719 | \n",
       "| 2010        | Seg         | -0.13074938 | \n",
       "| 2011        | Seg         | -1.24627116 | \n",
       "| 2012        | Seg         | -0.52650929 | \n",
       "| 2013        | Seg         | -0.09909421 | \n",
       "\n",
       "\n"
      ],
      "text/plain": [
       "  year_w variable year_sum   \n",
       "1 2008   Seg      -0.33406528\n",
       "2 2009   Seg      -0.84672719\n",
       "3 2010   Seg      -0.13074938\n",
       "4 2011   Seg      -1.24627116\n",
       "5 2012   Seg      -0.52650929\n",
       "6 2013   Seg      -0.09909421"
      ]
     },
     "metadata": {},
     "output_type": "display_data"
    }
   ],
   "source": [
    "# Make another FC dataframe \n",
    "FC2.m <- melt(clean_rename(FC_daily), id.vars=c('season', 'year_w'))\n",
    "FC2.m <- ddply(FC2.m, .(variable, year_w), summarise, year_sum = sum(value, na.rm = T))\n",
    "\n",
    "\n",
    "GPP2.m <- melt(clean_rename(GPP_daily), id.vars=c('season', 'year_w'))\n",
    "GPP2.m <- ddply(GPP2.m, .(variable, year_w), summarise, year_sum = sum(value, na.rm = T))\n",
    "\n",
    "year_sum <- -FC2.m$year_sum/GPP2.m$year_sum\n",
    "year_w <- FC2.m$year_w\n",
    "variable <- FC2.m$variable\n",
    "CUE.m <- data.frame(year_w,variable, year_sum )\n",
    "head(CUE.m)"
   ]
  },
  {
   "cell_type": "code",
   "execution_count": 97,
   "metadata": {
    "collapsed": false,
    "scrolled": false
   },
   "outputs": [
    {
     "name": "stdout",
     "output_type": "stream",
     "text": [
      "'data.frame':\t54 obs. of  3 variables:\n",
      " $ year_w  : num  2008 2009 2010 2011 2012 ...\n",
      " $ variable: Factor w/ 6 levels \"Seg\",\"Ses\",\"Wjs\",..: 1 1 1 1 1 1 1 1 1 2 ...\n",
      " $ year_sum: num  -0.334 -0.847 -0.131 -1.246 -0.527 ...\n"
     ]
    },
    {
     "data": {
      "text/plain": [
       "List of 1\n",
       " $ aspect.ratio: num 1.7\n",
       " - attr(*, \"class\")= chr [1:2] \"theme\" \"gg\"\n",
       " - attr(*, \"complete\")= logi FALSE\n",
       " - attr(*, \"validate\")= logi TRUE"
      ]
     },
     "metadata": {},
     "output_type": "display_data"
    },
    {
     "data": {},
     "metadata": {},
     "output_type": "display_data"
    },
    {
     "name": "stderr",
     "output_type": "stream",
     "text": [
      "Warning message:\n",
      "\"Removed 1 rows containing missing values (geom_point).\""
     ]
    },
    {
     "data": {},
     "metadata": {},
     "output_type": "display_data"
    },
    {
     "data": {
      "image/png": "[encoded data removed]",
      "text/plain": [
       "plot without title"
      ]
     },
     "metadata": {},
     "output_type": "display_data"
    },
    {
     "data": {
      "image/png": "[encoded data removed]",
      "text/plain": [
       "plot without title"
      ]
     },
     "metadata": {},
     "output_type": "display_data"
    }
   ],
   "source": [
    "#CUE.m <- melt(clean_rename(CUE_daily), id.vars=c('season', 'year_w'))\n",
    "#CUE.m <- ddply(CUE.m, .(variable, year_w), summarise, year_sum = sum(value, na.rm = T))\n",
    "#head(CUE.m)\n",
    "CUE.m$spei_seas <- spei_wyear_avg$seas_mean_spei\n",
    "str(CUE.m)\n",
    "# Merge in the annual values of SPEI\n",
    "CUE.m <- merge(CUE.m, spei_wyear_avg, by=c('variable', 'year_w'))\n",
    "# The merge messes up the order - reorder it\n",
    "CUE.m <- CUE.m[with(CUE.m, order(variable,year_w)),]\n",
    "\n",
    "\n",
    "CUE_seas_by_yr <- ggplot(CUE.m, aes(x=year_w, y=year_sum )) +\n",
    "    geom_bar(stat='identity') + \n",
    "    facet_wrap(~variable, nrow=1) + \n",
    "    xlab('Water Year') + ylab(bquote('CUE (cumulative '~ g/m^2/g/m^2 ~')')) +\n",
    "    theme(axis.text.x=element_text(angle=45, hjust=1, size=11)) + \n",
    "    scale_x_continuous(breaks=seq(2008,2016,2))+\n",
    "    scale_fill_date()\n",
    "    theme(aspect.ratio=asp_ratio)\n",
    "CUE_seas_by_yr\n",
    "\n",
    "CUE_seas_by_annspei <- ggplot(CUE.m, aes(x=wyear_mean_spei, y=year_sum )) +\n",
    "    #geom_bar(stat='identity') + \n",
    "    geom_point() +\n",
    "    facet_wrap(~variable, nrow=1) + \n",
    "    xlab('Wateryear SPEI') + ylab(bquote('CUE (cumulative '~ g/m^2/g/m^2 ~')')) +\n",
    "    theme(axis.text.x=element_text(angle=45, hjust=1, size=11)) + \n",
    "    theme(aspect.ratio=asp_ratio)\n",
    "CUE_seas_by_annspei"
   ]
  },
  {
   "cell_type": "markdown",
   "metadata": {},
   "source": [
    "## Respiration to GPP"
   ]
  },
  {
   "cell_type": "code",
   "execution_count": 50,
   "metadata": {
    "collapsed": false,
    "scrolled": true
   },
   "outputs": [
    {
     "data": {
      "text/html": [
       "<table>\n",
       "<thead><tr><th scope=col>variable</th><th scope=col>season</th><th scope=col>year_w</th><th scope=col>seas_sum</th></tr></thead>\n",
       "<tbody>\n",
       "\t<tr><td>Seg     </td><td>Cold    </td><td>2008    </td><td>757.4834</td></tr>\n",
       "\t<tr><td>Seg     </td><td>Cold    </td><td>2009    </td><td>534.7019</td></tr>\n",
       "\t<tr><td>Seg     </td><td>Cold    </td><td>2010    </td><td>699.8692</td></tr>\n",
       "\t<tr><td>Seg     </td><td>Cold    </td><td>2011    </td><td>820.3678</td></tr>\n",
       "\t<tr><td>Seg     </td><td>Cold    </td><td>2012    </td><td>     Inf</td></tr>\n",
       "\t<tr><td>Seg     </td><td>Cold    </td><td>2013    </td><td>915.9350</td></tr>\n",
       "</tbody>\n",
       "</table>\n"
      ],
      "text/latex": [
       "\\begin{tabular}{r|llll}\n",
       " variable & season & year\\_w & seas\\_sum\\\\\n",
       "\\hline\n",
       "\t Seg      & Cold     & 2008     & 757.4834\\\\\n",
       "\t Seg      & Cold     & 2009     & 534.7019\\\\\n",
       "\t Seg      & Cold     & 2010     & 699.8692\\\\\n",
       "\t Seg      & Cold     & 2011     & 820.3678\\\\\n",
       "\t Seg      & Cold     & 2012     &      Inf\\\\\n",
       "\t Seg      & Cold     & 2013     & 915.9350\\\\\n",
       "\\end{tabular}\n"
      ],
      "text/markdown": [
       "\n",
       "variable | season | year_w | seas_sum | \n",
       "|---|---|---|---|---|---|\n",
       "| Seg      | Cold     | 2008     | 757.4834 | \n",
       "| Seg      | Cold     | 2009     | 534.7019 | \n",
       "| Seg      | Cold     | 2010     | 699.8692 | \n",
       "| Seg      | Cold     | 2011     | 820.3678 | \n",
       "| Seg      | Cold     | 2012     |      Inf | \n",
       "| Seg      | Cold     | 2013     | 915.9350 | \n",
       "\n",
       "\n"
      ],
      "text/plain": [
       "  variable season year_w seas_sum\n",
       "1 Seg      Cold   2008   757.4834\n",
       "2 Seg      Cold   2009   534.7019\n",
       "3 Seg      Cold   2010   699.8692\n",
       "4 Seg      Cold   2011   820.3678\n",
       "5 Seg      Cold   2012        Inf\n",
       "6 Seg      Cold   2013   915.9350"
      ]
     },
     "metadata": {},
     "output_type": "display_data"
    },
    {
     "name": "stdout",
     "output_type": "stream",
     "text": [
      "'data.frame':\t162 obs. of  5 variables:\n",
      " $ variable : Factor w/ 6 levels \"Seg\",\"Ses\",\"Wjs\",..: 1 1 1 1 1 1 1 1 1 1 ...\n",
      " $ season   : Factor w/ 3 levels \"Cold\",\"Spring\",..: 1 1 1 1 1 1 1 1 1 2 ...\n",
      " $ year_w   : num  2008 2009 2010 2011 2012 ...\n",
      " $ seas_sum : num  757 535 700 820 Inf ...\n",
      " $ spei_seas: num  -1.411 -0.512 0.532 -0.208 -0.463 ...\n",
      "'data.frame':\t162 obs. of  6 variables:\n",
      " $ variable       : Factor w/ 6 levels \"Seg\",\"Ses\",\"Wjs\",..: 1 1 1 1 1 1 1 1 1 1 ...\n",
      " $ year_w         : num  2008 2009 2010 2011 2012 ...\n",
      " $ season         : Factor w/ 3 levels \"Cold\",\"Spring\",..: 1 1 1 1 1 1 1 1 1 2 ...\n",
      " $ seas_sum       : num  636 415 580 700 Inf ...\n",
      " $ spei_seas      : num  -1.411 -0.512 0.532 -0.208 -0.463 ...\n",
      " $ wyear_mean_spei: num  -1.491 -0.48 0.649 -0.545 -0.282 ...\n"
     ]
    },
    {
     "name": "stderr",
     "output_type": "stream",
     "text": [
      "Warning message:\n",
      "\"Removed 1 rows containing missing values (geom_bar).\""
     ]
    },
    {
     "data": {},
     "metadata": {},
     "output_type": "display_data"
    },
    {
     "name": "stderr",
     "output_type": "stream",
     "text": [
      "Warning message:\n",
      "\"Removed 3 rows containing missing values (geom_point).\""
     ]
    },
    {
     "data": {},
     "metadata": {},
     "output_type": "display_data"
    },
    {
     "data": {
      "image/png": "[encoded data removed]",
      "text/plain": [
       "plot without title"
      ]
     },
     "metadata": {},
     "output_type": "display_data"
    },
    {
     "name": "stderr",
     "output_type": "stream",
     "text": [
      "Warning message:\n",
      "\"Removed 3 rows containing missing values (geom_point).\""
     ]
    },
    {
     "data": {},
     "metadata": {},
     "output_type": "display_data"
    },
    {
     "data": {
      "image/png": "[encoded data removed]",
      "text/plain": [
       "plot without title"
      ]
     },
     "metadata": {},
     "output_type": "display_data"
    },
    {
     "data": {
      "image/png": "[encoded data removed]",
      "text/plain": [
       "plot without title"
      ]
     },
     "metadata": {},
     "output_type": "display_data"
    }
   ],
   "source": [
    "RdivGPP.m <- melt(clean_rename(RdivGPP_daily), id.vars=c( 'year_w'))\n",
    "RdivGPP.m <- ddply(RdivGPP.m, .(variable, year_w), summarise, seas_sum = sum(value, na.rm = T))\n",
    "head(RdivGPP.m)\n",
    "RdivGPP.m$spei_seas <- spei_seas_avg$seas_mean_spei\n",
    "str(RdivGPP.m)\n",
    "# Merge in the annual values of SPEI\n",
    "RdivGPP.m <- merge(RdivGPP.m, spei_wyear_avg, by=c('variable', 'year_w'))\n",
    "# The merge messes up the order - reorder it\n",
    "RdivGPP.m <- RdivGPP.m[with(RdivGPP.m, order(variable, season, year_w)),]\n",
    "str(CUE.m)\n",
    "\n",
    "RdivGPP_seas_by_yr <- ggplot(RdivGPP.m, aes(x=year_w, y=seas_sum, fill=factor(season))) +\n",
    "    geom_bar(stat='identity') + \n",
    "    facet_wrap(~variable, nrow=1) + \n",
    "    xlab('Year') + ylab(bquote('R/GPP (cumulative '~ g/m^2/g/m^2 ~')')) +\n",
    "    theme(axis.text.x=element_text(angle=45, hjust=1, size=11)) + \n",
    "    scale_fill_manual(values=c(\"#56B4E9\", \"#999999\", \"#E69F00\"), name=\"Season\") +\n",
    "    theme(aspect.ratio=asp_ratio)\n",
    "RdivGPP_seas_by_yr\n",
    "\n",
    "RdivGPP_seas_by_spei <- ggplot(RdivGPP.m, aes(x=spei_seas, y=seas_sum, col=factor(season))) +\n",
    "    #geom_bar(stat='identity') + \n",
    "    geom_point() +\n",
    "    facet_wrap(~variable, nrow=1) + \n",
    "    xlab('Seasonal SPEI') + ylab(bquote('R/GPP (cumulative '~ g/m^2/g/m^2 ~')')) +\n",
    "    theme(axis.text.x=element_text(angle=45, hjust=1, size=11)) + \n",
    "    scale_color_manual(values=c(\"#56B4E9\", \"#999999\", \"#E69F00\"), name=\"Season\") +\n",
    "    theme(aspect.ratio=asp_ratio)\n",
    "RdivGPP_seas_by_spei\n",
    "\n",
    "RdivGPP_seas_by_annspei <- ggplot(RdivGPP.m, aes(x=wyear_mean_spei, y=seas_sum, col=factor(season))) +\n",
    "     #geom_bar(stat='identity') + \n",
    "    geom_point() +\n",
    "    facet_wrap(~variable, nrow=1) + \n",
    "    xlab('Wateryear SPEI') + ylab(bquote('R/GPP (cumulative '~ g/m^2/g/m^2 ~')')) +\n",
    "    theme(axis.text.x=element_text(angle=45, hjust=1, size=11)) + \n",
    "    scale_color_manual(values=c(\"#56B4E9\", \"#999999\", \"#E69F00\"), name=\"Season\") +\n",
    "    theme(aspect.ratio=asp_ratio)\n",
    "RdivGPP_seas_by_annspei"
   ]
  },
  {
   "cell_type": "code",
   "execution_count": null,
   "metadata": {
    "collapsed": true,
    "scrolled": false
   },
   "outputs": [],
   "source": []
  }
 ],
 "metadata": {
  "kernelspec": {
   "display_name": "R",
   "language": "R",
   "name": "ir"
  },
  "language_info": {
   "codemirror_mode": "r",
   "file_extension": ".r",
   "mimetype": "text/x-r-source",
   "name": "R",
   "pygments_lexer": "r",
   "version": "3.3.2"
  }
 },
 "nbformat": 4,
 "nbformat_minor": 0
}

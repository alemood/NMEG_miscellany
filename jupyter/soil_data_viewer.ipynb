{
 "cells": [
  {
   "cell_type": "code",
   "execution_count": 1,
   "metadata": {
    "collapsed": false
   },
   "outputs": [],
   "source": [
    "# Set important paths here...\n",
    "# To use Greg's file loaders and such, you must have the\n",
    "# NMEG_utils directory and tell python where it is\n",
    "import sys\n",
    "sys.path.append( '/home/greg/data/current/NMEG_utils/py_modules/' )\n",
    "\n",
    "# Then load the needed libraries\n",
    "#%matplotlib inline\n",
    "import load_nmeg as ld\n",
    "import matplotlib.pyplot as plt\n",
    "import pandas as pd\n",
    "#import seaborn as sns\n",
    "import datetime as dt\n",
    "#import ipdb as ipdb"
   ]
  },
  {
   "cell_type": "code",
   "execution_count": 11,
   "metadata": {
    "collapsed": false
   },
   "outputs": [
    {
     "name": "stdout",
     "output_type": "stream",
     "text": [
      "Parsing /home/greg/sftp/eddyflux/Soil_files/provisional/SLand_2007_soilmet_qc.txt\n",
      "Parsing /home/greg/sftp/eddyflux/Soil_files/provisional/SLand_2008_soilmet_qc.txt\n",
      "Parsing /home/greg/sftp/eddyflux/Soil_files/provisional/SLand_2009_soilmet_qc.txt\n",
      "Parsing /home/greg/sftp/eddyflux/Soil_files/provisional/SLand_2010_soilmet_qc.txt\n",
      "Parsing /home/greg/sftp/eddyflux/Soil_files/provisional/SLand_2011_soilmet_qc.txt\n",
      "Parsing /home/greg/sftp/eddyflux/Soil_files/provisional/SLand_2012_soilmet_qc.txt\n",
      "Parsing /home/greg/sftp/eddyflux/Soil_files/provisional/SLand_2013_soilmet_qc.txt\n",
      "Parsing /home/greg/sftp/eddyflux/Soil_files/provisional/SLand_2014_soilmet_qc.txt\n",
      "Parsing /home/greg/sftp/eddyflux/Soil_files/provisional/SLand_2015_soilmet_qc.txt\n",
      "Parsing /home/greg/sftp/eddyflux/Soil_files/provisional/SLand_2007_soilmet_qc_rbd.txt\n",
      "Parsing /home/greg/sftp/eddyflux/Soil_files/provisional/SLand_2008_soilmet_qc_rbd.txt\n",
      "Parsing /home/greg/sftp/eddyflux/Soil_files/provisional/SLand_2009_soilmet_qc_rbd.txt\n",
      "Parsing /home/greg/sftp/eddyflux/Soil_files/provisional/SLand_2010_soilmet_qc_rbd.txt\n",
      "Parsing /home/greg/sftp/eddyflux/Soil_files/provisional/SLand_2011_soilmet_qc_rbd.txt\n",
      "Parsing /home/greg/sftp/eddyflux/Soil_files/provisional/SLand_2012_soilmet_qc_rbd.txt\n",
      "Parsing /home/greg/sftp/eddyflux/Soil_files/provisional/SLand_2013_soilmet_qc_rbd.txt\n",
      "Parsing /home/greg/sftp/eddyflux/Soil_files/provisional/SLand_2014_soilmet_qc_rbd.txt\n",
      "Parsing /home/greg/sftp/eddyflux/Soil_files/provisional/SLand_2015_soilmet_qc_rbd.txt\n"
     ]
    }
   ],
   "source": [
    "# Years to load\n",
    "start = 2007\n",
    "end = 2015\n",
    "# Sites to load\n",
    "site = 'SLand'\n",
    "\n",
    "# Tell python where to find the soil_qc and qc_rbd files\n",
    "#data_path = 'C:/Research_Flux_Towers/Flux_Tower_Data_by_Site/' + site + '/processed_soil/'\n",
    "data_path = '/home/greg/sftp/eddyflux/Soil_files/provisional/'\n",
    "\n",
    "\n",
    "qc_dat = ld.get_multiyr_soilmet(site, data_path, ext='qc', startyear=start, endyear=end)\n",
    "rbd_dat = ld.get_multiyr_soilmet(site, data_path, ext='qc_rbd', startyear=start, endyear=end)"
   ]
  },
  {
   "cell_type": "code",
   "execution_count": 8,
   "metadata": {
    "collapsed": false
   },
   "outputs": [
    {
     "data": {
      "text/plain": [
       "DatetimeIndex(['2007-01-01 00:30:00', '2007-01-01 01:00:00',\n",
       "               '2007-01-01 01:30:00', '2007-01-01 02:00:00',\n",
       "               '2007-01-01 02:30:00', '2007-01-01 03:00:00',\n",
       "               '2007-01-01 03:30:00', '2007-01-01 04:00:00',\n",
       "               '2007-01-01 04:30:00', '2007-01-01 05:00:00',\n",
       "               ...\n",
       "               '2015-12-31 19:30:00', '2015-12-31 20:00:00',\n",
       "               '2015-12-31 20:30:00', '2015-12-31 21:00:00',\n",
       "               '2015-12-31 21:30:00', '2015-12-31 22:00:00',\n",
       "               '2015-12-31 22:30:00', '2015-12-31 23:00:00',\n",
       "               '2015-12-31 23:30:00', '2016-01-01 00:00:00'],\n",
       "              dtype='datetime64[ns]', length=157776, freq='30T')"
      ]
     },
     "execution_count": 8,
     "metadata": {},
     "output_type": "execute_result"
    }
   ],
   "source": [
    "rbd_dat.index"
   ]
  },
  {
   "cell_type": "markdown",
   "metadata": {},
   "source": [
    "# get the soil columns"
   ]
  },
  {
   "cell_type": "code",
   "execution_count": 12,
   "metadata": {
    "collapsed": false,
    "scrolled": true
   },
   "outputs": [
    {
     "name": "stdout",
     "output_type": "stream",
     "text": [
      "['SWC_O1_12p5_AVG', 'SWC_O1_22p5_AVG', 'SWC_O1_2p5_AVG', 'SWC_O1_37p5_AVG', 'SWC_O1_52p5_AVG', 'SWC_O2_12p5_AVG', 'SWC_O2_22p5_AVG', 'SWC_O2_2p5_AVG', 'SWC_O2_37p5_AVG', 'SWC_O2_52p5_AVG', 'SWC_S1_12p5_AVG', 'SWC_S1_22p5_AVG', 'SWC_S1_2p5_AVG', 'SWC_S1_37p5_AVG', 'SWC_S1_52p5_AVG', 'SWC_S2_12p5_AVG', 'SWC_S2_22p5_AVG', 'SWC_S2_2p5_AVG', 'SWC_S2_37p5_AVG', 'SWC_S2_52p5_AVG', 'SWC_Unk1_Unk1_AVG', 'SWC_Unk2_Unk2_AVG']\n",
      "['SWC_O1_12p5_AVG', 'SWC_O1_22p5_AVG', 'SWC_O1_2p5_AVG', 'SWC_O1_37p5_AVG', 'SWC_O1_52p5_AVG', 'SWC_O2_12p5_AVG', 'SWC_O2_22p5_AVG', 'SWC_O2_2p5_AVG', 'SWC_O2_37p5_AVG', 'SWC_O2_52p5_AVG', 'SWC_S1_12p5_AVG', 'SWC_S1_22p5_AVG', 'SWC_S1_2p5_AVG', 'SWC_S1_37p5_AVG', 'SWC_S1_52p5_AVG', 'SWC_S2_12p5_AVG', 'SWC_S2_22p5_AVG', 'SWC_S2_2p5_AVG', 'SWC_S2_37p5_AVG', 'SWC_S2_52p5_AVG', 'SWC_Unk1_Unk1_AVG']\n"
     ]
    }
   ],
   "source": [
    "# This is where you select either SWC or SOILT columns (or others)\n",
    "qc_cols = [s for s in qc_dat.columns if 'SWC' in s and 'tcor' not in s]\n",
    "rbd_cols = [s for s in rbd_dat.columns if 'SWC' in s and 'tcor' not in s]\n",
    "print(qc_cols)\n",
    "print(rbd_cols)"
   ]
  },
  {
   "cell_type": "code",
   "execution_count": 13,
   "metadata": {
    "collapsed": false
   },
   "outputs": [],
   "source": [
    "# Here you can further reduce the number of columns to look at\n",
    "# by depth or by pit\n",
    "\n",
    "selection = 'O1' # '2p5'\n",
    "sel_cols = [s for s in qc_cols if selection in s]\n",
    "qc_subset = qc_dat[sel_cols]\n",
    "sel_cols = [s for s in rbd_cols if selection in s]\n",
    "rbd_subset = rbd_dat[sel_cols]\n",
    "\n",
    "xlims = [ dt.datetime( start, 1, 1 ), dt.datetime( end, 12, 31 )]\n",
    "ylims = [0, .45]\n",
    "\n",
    "fig1 = plt.figure(figsize=( 16.5, 7.5 ), dpi=150, facecolor='w', edgecolor='k')\n",
    "for i, colname in enumerate( qc_subset.columns ):\n",
    "    nsensors = len( qc_subset.columns )\n",
    "    ax = fig1.add_subplot( nsensors, 1, i+1 )\n",
    "    plt.plot( qc_subset.index, qc_subset[ colname ], '.r', ms=4 )\n",
    "    if colname in rbd_subset.columns:\n",
    "        plt.plot( rbd_subset.index, rbd_subset[ colname ], '.k', ms=4 )\n",
    "    plt.ylim( ylims )\n",
    "    plt.xlim( xlims )\n",
    "    plt.text( dt.datetime( start, 2, 1 ), ylims[0]+.3, colname, size=14  )\n",
    "    if i<nsensors-1:\n",
    "        plt.setp( ax.get_xticklabels(), visible=False)\n",
    "    \n",
    "\n",
    "#fig1.savefig('../figures/labmeeting/GLand_qc_rbd_ex.png', dpi=300)\n",
    "    \n",
    "rbd_subset.plot(figsize=( 16.5, 7.5 ))\n",
    "#plt.ylim( ylims )\n",
    "#plt.xlim( xlims )\n",
    "plt.ylabel('x')\n",
    "\n",
    "\n",
    "plt.show()"
   ]
  }
 ],
 "metadata": {
  "anaconda-cloud": {},
  "kernelspec": {
   "display_name": "Python [default]",
   "language": "python",
   "name": "python3"
  },
  "language_info": {
   "codemirror_mode": {
    "name": "ipython",
    "version": 3
   },
   "file_extension": ".py",
   "mimetype": "text/x-python",
   "name": "python",
   "nbconvert_exporter": "python",
   "pygments_lexer": "ipython3",
   "version": "3.4.5"
  }
 },
 "nbformat": 4,
 "nbformat_minor": 0
}

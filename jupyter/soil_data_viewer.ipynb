{
 "cells": [
  {
   "cell_type": "code",
   "execution_count": 2,
   "metadata": {
    "collapsed": false
   },
   "outputs": [],
   "source": [
    "# Set important paths here...\n",
    "# To use Greg's file loaders and such, you must have the\n",
    "# NMEG_utils directory and tell python where it is\n",
    "import sys\n",
    "sys.path.append( '/home/greg/data/current/NMEG_utils/py_modules/' )\n",
    "\n",
    "# Then load the needed libraries\n",
    "#%matplotlib inline\n",
    "import load_nmeg as ld\n",
    "import matplotlib.pyplot as plt\n",
    "import pandas as pd\n",
    "#import seaborn as sns\n",
    "import datetime as dt\n",
    "#import ipdb as ipdb"
   ]
  },
  {
   "cell_type": "code",
   "execution_count": 3,
   "metadata": {
    "collapsed": false
   },
   "outputs": [],
   "source": [
    "# Years to load\n",
    "start = 2010\n",
    "end = 2014\n",
    "# Sites to load\n",
    "site = 'GLand'\n",
    "\n",
    "# Tell python where to find the soil_qc and qc_rbd files\n",
    "#data_path = 'C:/Research_Flux_Towers/Flux_Tower_Data_by_Site/' + site + '/processed_soil/'\n",
    "data_path = '/home/greg/sftp/eddyflux/Soil_files/provisional/'\n",
    "\n",
    "\n",
    "qc_dat = ld.get_multiyr_soilmet(site, data_path, ext='qc', startyear=start, endyear=end)\n",
    "rbd_dat = ld.get_multiyr_soilmet(site, data_path, ext='qc_rbd', startyear=start, endyear=end)"
   ]
  },
  {
   "cell_type": "code",
   "execution_count": 4,
   "metadata": {
    "collapsed": false
   },
   "outputs": [
    {
     "data": {
      "text/plain": [
       "DatetimeIndex(['2010-01-01 00:30:00', '2010-01-01 01:00:00',\n",
       "               '2010-01-01 01:30:00', '2010-01-01 02:00:00',\n",
       "               '2010-01-01 02:30:00', '2010-01-01 03:00:00',\n",
       "               '2010-01-01 03:30:00', '2010-01-01 04:00:00',\n",
       "               '2010-01-01 04:30:00', '2010-01-01 05:00:00', \n",
       "               ...\n",
       "               '2014-12-31 19:30:00', '2014-12-31 20:00:00',\n",
       "               '2014-12-31 20:30:00', '2014-12-31 21:00:00',\n",
       "               '2014-12-31 21:30:00', '2014-12-31 22:00:00',\n",
       "               '2014-12-31 22:30:00', '2014-12-31 23:00:00',\n",
       "               '2014-12-31 23:30:00', '2015-01-01 00:00:00'],\n",
       "              dtype='datetime64[ns]', length=87648, freq='30T', tz=None)"
      ]
     },
     "execution_count": 4,
     "metadata": {},
     "output_type": "execute_result"
    }
   ],
   "source": [
    "rbd_dat.index"
   ]
  },
  {
   "cell_type": "markdown",
   "metadata": {},
   "source": [
    "# get the soil columns"
   ]
  },
  {
   "cell_type": "code",
   "execution_count": 10,
   "metadata": {
    "collapsed": false
   },
   "outputs": [
    {
     "name": "stdout",
     "output_type": "stream",
     "text": [
      "['SWC_G1_12p5_AVG', 'SWC_G1_22p5_AVG', 'SWC_G1_2p5_AVG', 'SWC_G1_37p5_AVG', 'SWC_G1_52p5_AVG', 'SWC_G2_12p5_AVG', 'SWC_G2_22p5_AVG', 'SWC_G2_2p5_AVG', 'SWC_G2_37p5_AVG', 'SWC_G2_52p5_AVG', 'SWC_G3_12p5_AVG', 'SWC_G3_22p5_AVG', 'SWC_G3_2p5_AVG', 'SWC_G3_37p5_AVG', 'SWC_G3_52p5_AVG', 'SWC_O1_12p5_AVG', 'SWC_O1_22p5_AVG', 'SWC_O1_2p5_AVG', 'SWC_O1_37p5_AVG', 'SWC_O1_52p5_AVG', 'SWC_O2_12p5_AVG', 'SWC_O2_22p5_AVG', 'SWC_O2_2p5_AVG', 'SWC_O2_37p5_AVG', 'SWC_O2_52p5_AVG', 'SWC_O3_12p5_AVG', 'SWC_O3_22p5_AVG', 'SWC_O3_2p5_AVG', 'SWC_O3_37p5_AVG', 'SWC_O3_52p5_AVG', 'SWC_echo_G1_12p5_AVG', 'SWC_echo_G1_22p5_AVG', 'SWC_echo_G1_2p5_AVG', 'SWC_echo_G1_37p5_AVG', 'SWC_echo_G1_52p5_AVG', 'SWC_echo_G2_12p5_AVG', 'SWC_echo_G2_22p5_AVG', 'SWC_echo_G2_2p5_AVG', 'SWC_echo_G2_37p5_AVG', 'SWC_echo_G2_52p5_AVG', 'SWC_echo_O1_12p5_AVG', 'SWC_echo_O1_22p5_AVG', 'SWC_echo_O1_2p5_AVG', 'SWC_echo_O1_37p5_AVG', 'SWC_echo_O1_52p5_AVG', 'SWC_echo_O2_12p5_AVG', 'SWC_echo_O2_22p5_AVG', 'SWC_echo_O2_2p5_AVG', 'SWC_echo_O2_37p5_AVG', 'SWC_echo_O2_52p5_AVG', 'SWC_echo_dummy1', 'SWC_echo_dummy2', 'SWC_echo_dummy3', 'SWC_echo_dummy4']\n",
      "['SWC_G1_12p5_AVG', 'SWC_G1_22p5_AVG', 'SWC_G1_2p5_AVG', 'SWC_G1_37p5_AVG', 'SWC_G1_52p5_AVG', 'SWC_G2_12p5_AVG', 'SWC_G2_22p5_AVG', 'SWC_G2_2p5_AVG', 'SWC_G2_37p5_AVG', 'SWC_G2_52p5_AVG', 'SWC_O1_12p5_AVG', 'SWC_O1_22p5_AVG', 'SWC_O1_2p5_AVG', 'SWC_O1_37p5_AVG', 'SWC_O1_52p5_AVG', 'SWC_O2_12p5_AVG', 'SWC_O2_22p5_AVG', 'SWC_O2_2p5_AVG', 'SWC_O2_37p5_AVG', 'SWC_O2_52p5_AVG', 'SWC_echo_G1_12p5_AVG', 'SWC_echo_G1_22p5_AVG', 'SWC_echo_G1_2p5_AVG', 'SWC_echo_G1_37p5_AVG', 'SWC_echo_G1_52p5_AVG', 'SWC_echo_G2_12p5_AVG', 'SWC_echo_G2_22p5_AVG', 'SWC_echo_G2_2p5_AVG', 'SWC_echo_G2_37p5_AVG', 'SWC_echo_G2_52p5_AVG', 'SWC_echo_O1_12p5_AVG', 'SWC_echo_O1_22p5_AVG', 'SWC_echo_O1_2p5_AVG', 'SWC_echo_O1_37p5_AVG', 'SWC_echo_O1_52p5_AVG', 'SWC_echo_O2_12p5_AVG', 'SWC_echo_O2_22p5_AVG', 'SWC_echo_O2_2p5_AVG', 'SWC_echo_O2_37p5_AVG']\n"
     ]
    }
   ],
   "source": [
    "# This is where you select either SWC or SOILT columns (or others)\n",
    "qc_cols = [s for s in qc_dat.columns if 'SWC' in s and 'echo' and 'tcor' not in s]\n",
    "rbd_cols = [s for s in rbd_dat.columns if 'SWC' in s and 'echo' and 'tcor' not in s]\n",
    "print(qc_cols)\n",
    "print(rbd_cols)"
   ]
  },
  {
   "cell_type": "code",
   "execution_count": 11,
   "metadata": {
    "collapsed": false
   },
   "outputs": [],
   "source": [
    "# Here you can further reduce the number of columns to look at\n",
    "# by depth or by pit\n",
    "\n",
    "selection = 'O1' # '2p5'\n",
    "sel_cols = [s for s in qc_cols if selection in s]\n",
    "qc_subset = qc_dat[sel_cols]\n",
    "sel_cols = [s for s in rbd_cols if selection in s]\n",
    "rbd_subset = rbd_dat[sel_cols]\n",
    "\n",
    "xlims = [ dt.datetime( start, 1, 1 ), dt.datetime( end, 12, 31 )]\n",
    "ylims = [-20, 50]\n",
    "\n",
    "fig1 = plt.figure(figsize=( 16.5, 7.5 ), dpi=150, facecolor='w', edgecolor='k')\n",
    "for i, colname in enumerate( qc_subset.columns ):\n",
    "    nsensors = len( qc_subset.columns )\n",
    "    ax = fig1.add_subplot( nsensors, 1, i+1 )\n",
    "    plt.plot( qc_subset.index, qc_subset[ colname ], '.r', ms=4 )\n",
    "    if colname in rbd_subset.columns:\n",
    "        plt.plot( rbd_subset.index, rbd_subset[ colname ], '.k', ms=4 )\n",
    "    plt.ylim( ylims )\n",
    "    plt.xlim( xlims )\n",
    "    plt.text( dt.datetime( start, 2, 1 ), ylims[0]+.3, colname, size=14  )\n",
    "    if i<nsensors-1:\n",
    "        plt.setp( ax.get_xticklabels(), visible=False)\n",
    "    \n",
    "\n",
    "#fig1.savefig('../figures/labmeeting/GLand_qc_rbd_ex.png', dpi=300)\n",
    "    \n",
    "rbd_subset.plot(figsize=( 16.5, 7.5 ))\n",
    "#plt.ylim( ylims )\n",
    "#plt.xlim( xlims )\n",
    "plt.ylabel('x')\n",
    "\n",
    "\n",
    "plt.show()"
   ]
  }
 ],
 "metadata": {
  "kernelspec": {
   "display_name": "Python 3",
   "language": "python",
   "name": "python3"
  },
  "language_info": {
   "codemirror_mode": {
    "name": "ipython",
    "version": 3
   },
   "file_extension": ".py",
   "mimetype": "text/x-python",
   "name": "python",
   "nbconvert_exporter": "python",
   "pygments_lexer": "ipython3",
   "version": "3.4.3"
  }
 },
 "nbformat": 4,
 "nbformat_minor": 0
}

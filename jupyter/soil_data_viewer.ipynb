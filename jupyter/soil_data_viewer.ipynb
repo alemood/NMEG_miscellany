{
 "cells": [
  {
   "cell_type": "code",
   "execution_count": 1,
   "metadata": {
    "collapsed": false
   },
   "outputs": [],
   "source": [
    "# Set important paths here...\n",
    "# To use Greg's file loaders and such, you must have the\n",
    "# NMEG_utils directory and tell python where it is\n",
    "import sys\n",
    "sys.path.append( '../NMEG_utils/py_modules/' )\n",
    "\n",
    "# Then load the needed libraries\n",
    "#%matplotlib inline\n",
    "import load_nmeg as ld\n",
    "import matplotlib.pyplot as plt\n",
    "import pandas as pd\n",
    "#import seaborn as sns\n",
    "import datetime as dt\n",
    "#import ipdb as ipdb"
   ]
  },
  {
   "cell_type": "code",
   "execution_count": 15,
   "metadata": {
    "collapsed": false
   },
   "outputs": [
    {
     "data": {
      "text/plain": [
       "DatetimeIndex(['2010-01-01 00:30:00', '2010-01-01 01:00:00',\n",
       "               '2010-01-01 01:30:00', '2010-01-01 02:00:00',\n",
       "               '2010-01-01 02:30:00', '2010-01-01 03:00:00',\n",
       "               '2010-01-01 03:30:00', '2010-01-01 04:00:00',\n",
       "               '2010-01-01 04:30:00', '2010-01-01 05:00:00', \n",
       "               ...\n",
       "               '2014-12-31 19:30:00', '2014-12-31 20:00:00',\n",
       "               '2014-12-31 20:30:00', '2014-12-31 21:00:00',\n",
       "               '2014-12-31 21:30:00', '2014-12-31 22:00:00',\n",
       "               '2014-12-31 22:30:00', '2014-12-31 23:00:00',\n",
       "               '2014-12-31 23:30:00', '2015-01-01 00:00:00'],\n",
       "              dtype='datetime64[ns]', name='tstamp', length=87648, freq=None, tz=None)"
      ]
     },
     "execution_count": 15,
     "metadata": {},
     "output_type": "execute_result"
    }
   ],
   "source": [
    "# Years to load\n",
    "start = 2010\n",
    "end = 2014\n",
    "# Sites to load\n",
    "site = 'GLand'\n",
    "\n",
    "# Tell python where to find the soil_qc and qc_rbd files\n",
    "#data_path = 'C:/Research_Flux_Towers/Flux_Tower_Data_by_Site/' + site + '/processed_soil/'\n",
    "data_path = '/home/greg/sftp/eddyflux/Soil_files/provisional/'\n",
    "\n",
    "# Empty dict for hourly dataframes\n",
    "hourly = dict()\n",
    "\n",
    "# Fill dict with multiyear dataframes for each site in sites\n",
    "def dparser( y, m, d, H, M, S ):\n",
    "    yr = int( y )\n",
    "    mon = int( m )\n",
    "    day = int( d )\n",
    "    hr = int( H )\n",
    "    mn =  int( M )\n",
    "    sec = int( S )\n",
    "    \n",
    "    # Some files have a line of zeros at the end - hack it\n",
    "    #if yr != year_arg:\n",
    "    #    yr = 1955\n",
    "    return ( dt.datetime( yr, mon, day, hr, mn, sec ))\n",
    "\n",
    "qc_dat = pd.DataFrame()\n",
    "rbd_dat = pd.DataFrame();\n",
    "for i in range( start, end+1) :\n",
    "    path_qc = data_path + site + '_' + str( i ) + '_soilmet_qc.txt'\n",
    "    path_rbd = data_path + site + '_' + str( i ) + '_soilmet_qc_rbd.txt'\n",
    "    new_qc = pd.read_csv(path_qc, delimiter=',', parse_dates={'tstamp':[0, 1, 2, 3, 4, 5]},\n",
    "                                 date_parser=dparser, index_col='tstamp')\n",
    "    new_rbd = pd.read_csv(path_rbd, delimiter=',', parse_dates={'tstamp':[0, 1, 2, 3, 4, 5]},\n",
    "                                 date_parser=dparser, index_col='tstamp')\n",
    "    qc_dat = qc_dat.append( new_qc )\n",
    "    rbd_dat = rbd_dat.append( new_rbd )\n",
    "    \n",
    "rbd_dat.index"
   ]
  },
  {
   "cell_type": "markdown",
   "metadata": {},
   "source": [
    "# get the soil columns"
   ]
  },
  {
   "cell_type": "code",
   "execution_count": 16,
   "metadata": {
    "collapsed": false
   },
   "outputs": [
    {
     "name": "stdout",
     "output_type": "stream",
     "text": [
      "['SOILT_AVG', 'SOILT_G1_12p5_AVG', 'SOILT_G1_22p5_AVG', 'SOILT_G1_2p5_AVG', 'SOILT_G1_37p5_AVG', 'SOILT_G1_52p5_AVG', 'SOILT_G2_12p5_AVG', 'SOILT_G2_22p5_AVG', 'SOILT_G2_2p5_AVG', 'SOILT_G2_37p5_AVG', 'SOILT_G2_52p5_AVG', 'SOILT_G3_12p5_AVG', 'SOILT_G3_22p5_AVG', 'SOILT_G3_2p5_AVG', 'SOILT_G3_37p5_AVG', 'SOILT_O1_12p5_AVG', 'SOILT_O1_22p5_AVG', 'SOILT_O1_2p5_AVG', 'SOILT_O1_37p5_AVG', 'SOILT_O1_52p5_AVG', 'SOILT_O2_12p5_AVG', 'SOILT_O2_22p5_AVG', 'SOILT_O2_2p5_AVG', 'SOILT_O2_37p5_AVG', 'SOILT_O2_52p5_AVG', 'SOILT_O3_12p5_AVG', 'SOILT_O3_22p5_AVG', 'SOILT_O3_2p5_AVG', 'SOILT_O3_37p5_AVG']\n",
      "['SOILT_G1_12p5_AVG', 'SOILT_G1_22p5_AVG', 'SOILT_G1_2p5_AVG', 'SOILT_G1_37p5_AVG', 'SOILT_G1_52p5_AVG', 'SOILT_G2_12p5_AVG', 'SOILT_G2_22p5_AVG', 'SOILT_G2_2p5_AVG', 'SOILT_G2_37p5_AVG', 'SOILT_G2_52p5_AVG', 'SOILT_G3_12p5_AVG', 'SOILT_G3_22p5_AVG', 'SOILT_G3_2p5_AVG', 'SOILT_G3_37p5_AVG', 'SOILT_O1_12p5_AVG', 'SOILT_O1_22p5_AVG', 'SOILT_O1_2p5_AVG', 'SOILT_O1_37p5_AVG', 'SOILT_O1_52p5_AVG', 'SOILT_O2_12p5_AVG', 'SOILT_O2_22p5_AVG', 'SOILT_O2_2p5_AVG', 'SOILT_O2_37p5_AVG', 'SOILT_O2_52p5_AVG', 'SOILT_O3_12p5_AVG', 'SOILT_O3_22p5_AVG', 'SOILT_O3_2p5_AVG', 'SOILT_O3_37p5_AVG']\n"
     ]
    }
   ],
   "source": [
    "# This is where you select either SWC or SOILT columns (or others)\n",
    "qc_cols = [s for s in qc_dat.columns if 'SOILT' in s and 'tcor' not in s]\n",
    "rbd_cols = [s for s in rbd_dat.columns if 'SOILT' in s and 'tcor' not in s]\n",
    "print(qc_cols)\n",
    "print(rbd_cols)"
   ]
  },
  {
   "cell_type": "code",
   "execution_count": null,
   "metadata": {
    "collapsed": false
   },
   "outputs": [],
   "source": [
    "# Here you can further reduce the number of columns to look at\n",
    "# by depth or by pit\n",
    "\n",
    "selection = 'O1' # '2p5'\n",
    "sel_cols = [s for s in qc_cols if selection in s]\n",
    "qc_subset = qc_dat[sel_cols]\n",
    "sel_cols = [s for s in rbd_cols if selection in s]\n",
    "rbd_subset = rbd_dat[sel_cols]\n",
    "\n",
    "xlims = [ dt.datetime( start, 1, 1 ), dt.datetime( end, 12, 31 )]\n",
    "ylims = [-20, 50]\n",
    "\n",
    "fig1 = plt.figure(figsize=( 16.5, 7.5 ), dpi=150, facecolor='w', edgecolor='k')\n",
    "for i, colname in enumerate( qc_subset.columns ):\n",
    "    nsensors = len( qc_subset.columns )\n",
    "    ax = fig1.add_subplot( nsensors, 1, i+1, sharex=ax )\n",
    "    plt.plot( qc_subset.index, qc_subset[ colname ], '.r', ms=4 )\n",
    "    if colname in rbd_subset.columns:\n",
    "        plt.plot( rbd_subset.index, rbd_subset[ colname ], '.k', ms=4 )\n",
    "    plt.ylim( ylims )\n",
    "    plt.xlim( xlims )\n",
    "    plt.text( dt.datetime( start, 2, 1 ), ylims[0]+.3, colname, size=14  )\n",
    "    if i<nsensors-1:\n",
    "        plt.setp( ax.get_xticklabels(), visible=False)\n",
    "    \n",
    "\n",
    "fig1.savefig('figures/labmeeting/GLand_qc_rbd_ex.png', dpi=300)\n",
    "    \n",
    "rbd_subset.plot(figsize=( 16.5, 7.5 ))\n",
    "#plt.ylim( ylims )\n",
    "#plt.xlim( xlims )\n",
    "plt.ylabel('x')\n",
    "\n",
    "\n",
    "plt.show()"
   ]
  }
 ],
 "metadata": {
  "kernelspec": {
   "display_name": "Python 3",
   "language": "python",
   "name": "python3"
  },
  "language_info": {
   "codemirror_mode": {
    "name": "ipython",
    "version": 3
   },
   "file_extension": ".py",
   "mimetype": "text/x-python",
   "name": "python",
   "nbconvert_exporter": "python",
   "pygments_lexer": "ipython3",
   "version": "3.4.3"
  }
 },
 "nbformat": 4,
 "nbformat_minor": 0
}

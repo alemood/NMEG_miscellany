{
 "cells": [
  {
   "cell_type": "markdown",
   "metadata": {},
   "source": [
    "# Comparision of 2 versions of Ameriflux data"
   ]
  },
  {
   "cell_type": "code",
   "execution_count": 74,
   "metadata": {
    "collapsed": false
   },
   "outputs": [
    {
     "name": "stdout",
     "output_type": "stream",
     "text": [
      "Using matplotlib backend: Qt4Agg\n"
     ]
    }
   ],
   "source": [
    "import sys\n",
    "sys.path.append( '/home/greg/current/NMEG_utils/py_modules/' )\n",
    "\n",
    "%matplotlib\n",
    "import load_nmeg as ld\n",
    "import transform_nmeg as tr\n",
    "import pandas as pd\n",
    "import matplotlib\n",
    "import matplotlib.pyplot as plt\n",
    "import seaborn as sns\n",
    "import datetime as dt\n",
    "import numpy as np\n",
    "\n",
    "# Years to load\n",
    "start = 2007\n",
    "end = 2014\n"
   ]
  },
  {
   "cell_type": "markdown",
   "metadata": {},
   "source": [
    "## Hourly data"
   ]
  },
  {
   "cell_type": "code",
   "execution_count": 108,
   "metadata": {
    "collapsed": false
   },
   "outputs": [
    {
     "name": "stdout",
     "output_type": "stream",
     "text": [
      "Parsing /home/greg/sftp/eddyflux/Ameriflux_files/FLUXNET2015_a_rev1/US-Vcm_2007_gapfilled.txt\n",
      "Parsing /home/greg/sftp/eddyflux/Ameriflux_files/FLUXNET2015_a_rev1/US-Vcm_2008_gapfilled.txt\n",
      "Parsing /home/greg/sftp/eddyflux/Ameriflux_files/FLUXNET2015_a_rev1/US-Vcm_2009_gapfilled.txt\n",
      "Parsing /home/greg/sftp/eddyflux/Ameriflux_files/FLUXNET2015_a_rev1/US-Vcm_2010_gapfilled.txt\n",
      "Parsing /home/greg/sftp/eddyflux/Ameriflux_files/FLUXNET2015_a_rev1/US-Vcm_2011_gapfilled.txt\n",
      "Parsing /home/greg/sftp/eddyflux/Ameriflux_files/FLUXNET2015_a_rev1/US-Vcm_2012_gapfilled.txt\n",
      "Parsing /home/greg/sftp/eddyflux/Ameriflux_files/FLUXNET2015_a_rev1/US-Vcm_2013_gapfilled.txt\n",
      "Parsing /home/greg/sftp/eddyflux/Ameriflux_files/FLUXNET2015_a_rev1/US-Vcm_2014_gapfilled.txt\n",
      "Parsing /home/greg/sftp/eddyflux/Ameriflux_files/FLUXNET2015_a_rev1/US-Vcm_2007_with_gaps.txt\n",
      "Parsing /home/greg/sftp/eddyflux/Ameriflux_files/FLUXNET2015_a_rev1/US-Vcm_2008_with_gaps.txt\n",
      "Parsing /home/greg/sftp/eddyflux/Ameriflux_files/FLUXNET2015_a_rev1/US-Vcm_2009_with_gaps.txt\n",
      "Parsing /home/greg/sftp/eddyflux/Ameriflux_files/FLUXNET2015_a_rev1/US-Vcm_2010_with_gaps.txt\n",
      "Parsing /home/greg/sftp/eddyflux/Ameriflux_files/FLUXNET2015_a_rev1/US-Vcm_2011_with_gaps.txt\n",
      "Parsing /home/greg/sftp/eddyflux/Ameriflux_files/FLUXNET2015_a_rev1/US-Vcm_2012_with_gaps.txt\n",
      "Parsing /home/greg/sftp/eddyflux/Ameriflux_files/FLUXNET2015_a_rev1/US-Vcm_2013_with_gaps.txt\n",
      "Parsing /home/greg/sftp/eddyflux/Ameriflux_files/FLUXNET2015_a_rev1/US-Vcm_2014_with_gaps.txt\n",
      "Parsing /home/greg/sftp/eddyflux/Ameriflux_files/FLUXNET2015_a/US-Vcm_2007_gapfilled.txt\n",
      "Parsing /home/greg/sftp/eddyflux/Ameriflux_files/FLUXNET2015_a/US-Vcm_2008_gapfilled.txt\n",
      "Parsing /home/greg/sftp/eddyflux/Ameriflux_files/FLUXNET2015_a/US-Vcm_2009_gapfilled.txt\n",
      "Parsing /home/greg/sftp/eddyflux/Ameriflux_files/FLUXNET2015_a/US-Vcm_2010_gapfilled.txt\n",
      "Parsing /home/greg/sftp/eddyflux/Ameriflux_files/FLUXNET2015_a/US-Vcm_2011_gapfilled.txt\n",
      "Parsing /home/greg/sftp/eddyflux/Ameriflux_files/FLUXNET2015_a/US-Vcm_2012_gapfilled.txt\n",
      "Parsing /home/greg/sftp/eddyflux/Ameriflux_files/FLUXNET2015_a/US-Vcm_2013_gapfilled.txt\n",
      "Parsing /home/greg/sftp/eddyflux/Ameriflux_files/FLUXNET2015_a/US-Vcm_2014_gapfilled.txt\n",
      "Parsing /home/greg/sftp/eddyflux/Ameriflux_files/FLUXNET2015_a/US-Vcm_2007_with_gaps.txt\n",
      "Parsing /home/greg/sftp/eddyflux/Ameriflux_files/FLUXNET2015_a/US-Vcm_2008_with_gaps.txt\n",
      "Parsing /home/greg/sftp/eddyflux/Ameriflux_files/FLUXNET2015_a/US-Vcm_2009_with_gaps.txt\n",
      "Parsing /home/greg/sftp/eddyflux/Ameriflux_files/FLUXNET2015_a/US-Vcm_2010_with_gaps.txt\n",
      "Parsing /home/greg/sftp/eddyflux/Ameriflux_files/FLUXNET2015_a/US-Vcm_2011_with_gaps.txt\n",
      "Parsing /home/greg/sftp/eddyflux/Ameriflux_files/FLUXNET2015_a/US-Vcm_2012_with_gaps.txt\n",
      "Parsing /home/greg/sftp/eddyflux/Ameriflux_files/FLUXNET2015_a/US-Vcm_2013_with_gaps.txt\n",
      "Parsing /home/greg/sftp/eddyflux/Ameriflux_files/FLUXNET2015_a/US-Vcm_2014_with_gaps.txt\n"
     ]
    }
   ],
   "source": [
    "# Load for one site\n",
    "site = 'Vcm'\n",
    "\n",
    "new_path = '/home/greg/sftp/eddyflux/Ameriflux_files/FLUXNET2015_a_rev1/'\n",
    "old_path = '/home/greg/sftp/eddyflux/Ameriflux_files/FLUXNET2015_a/'\n",
    "\n",
    "new = ld.get_multiyr_aflx( 'US-'+site, new_path, gapfilled=True, startyear=start, endyear=end)\n",
    "new_wg = ld.get_multiyr_aflx( 'US-'+site, new_path, gapfilled=False, startyear=start, endyear=end)\n",
    "old = ld.get_multiyr_aflx( 'US-'+site, old_path, gapfilled=True, startyear=start, endyear=end)\n",
    "old_wg = ld.get_multiyr_aflx( 'US-'+site, old_path, gapfilled=False, startyear=start, endyear=end)"
   ]
  },
  {
   "cell_type": "code",
   "execution_count": 109,
   "metadata": {
    "collapsed": true
   },
   "outputs": [],
   "source": [
    "# If desired, plot only particular years\n",
    "yridx = new.index.year < 2014"
   ]
  },
  {
   "cell_type": "markdown",
   "metadata": {},
   "source": [
    "## Check flux filtering\n",
    "\n",
    "Plot the non-gapfilled flux data between for old and new versions of the files, and highlight the differences between them"
   ]
  },
  {
   "cell_type": "code",
   "execution_count": 110,
   "metadata": {
    "collapsed": false
   },
   "outputs": [
    {
     "data": {
      "text/plain": [
       "<matplotlib.legend.Legend at 0x7f52b29360b8>"
      ]
     },
     "execution_count": 110,
     "metadata": {},
     "output_type": "execute_result"
    }
   ],
   "source": [
    "def iterplot(df1, df2, varname, figref, axnum, idx):\n",
    "    # Make subplot sharing x axis\n",
    "    if axnum > 0:\n",
    "        ax = figref.add_subplot(4,1,axnum+1, sharex=figref.axes[0])\n",
    "    else:\n",
    "        ax = figref.add_subplot(4,1,axnum+1)\n",
    "    # Plot old and new data\n",
    "    h1 = ax.plot( df1.index[idx], df1.loc[idx, varname], marker='o',\n",
    "                 mew=0.2, color='blue', ls='none', fillstyle='none')\n",
    "    h2 = ax.plot( df2.index[idx], df2.loc[idx, varname], '.k')\n",
    "    # Highlight the changed data points between old and new\n",
    "    diff = df2[varname]!=df1[varname]\n",
    "    diff = np.logical_and(idx, diff)\n",
    "    h3 = ax.plot( df2.index[diff], df2.loc[diff, varname], marker='o',\n",
    "                 mew=0.2, color='GoldenRod', ms=5, ls='none', fillstyle='none')\n",
    "    plt.ylabel(varname)\n",
    "\n",
    "# Now loop through variables and plot\n",
    "fig0 = plt.figure( figsize=( 16.5, 10.5 ), dpi=100)\n",
    "varlist = ['FC', 'GPP', 'H', 'LE']\n",
    "for i, name in enumerate(varlist):\n",
    "    iterplot(old_wg, new_wg, name, fig0, i, yridx)\n",
    "\n",
    "fig0.axes[0].legend( ['Old', 'New', 'Changed'], loc='upper right', ncol=3)\n"
   ]
  },
  {
   "cell_type": "markdown",
   "metadata": {
    "collapsed": false
   },
   "source": [
    "## Check gapfilling\n",
    "\n",
    "Plot the gapfilled flux data between for old and new versions of the files, and highlight the differences between them"
   ]
  },
  {
   "cell_type": "code",
   "execution_count": 111,
   "metadata": {
    "collapsed": false
   },
   "outputs": [
    {
     "data": {
      "text/plain": [
       "<matplotlib.legend.Legend at 0x7f52b33d8198>"
      ]
     },
     "execution_count": 111,
     "metadata": {},
     "output_type": "execute_result"
    }
   ],
   "source": [
    "def iterplot2(df1, df2, varname, figref, axnum, idx):\n",
    "    # Make subplot sharing x axis\n",
    "    if axnum > 0:\n",
    "        ax = figref.add_subplot(4,1,axnum+1, sharex=figref.axes[0])\n",
    "    else:\n",
    "        ax = figref.add_subplot(4,1,axnum+1)\n",
    "    # Plot old and new data\n",
    "    h1 = ax.plot( df1.index[idx], df1.loc[idx, varname], marker='o',\n",
    "                 mew=0.2, color='blue', ls='none', fillstyle='none')\n",
    "    idx_gf = np.logical_and( idx, df1[varname+'_FLAG'])\n",
    "    h1gf = ax.plot( df1.index[idx_gf], df1.loc[idx_gf, varname], marker='o',\n",
    "                 mew=0.2, color='red', ls='none', fillstyle='none')\n",
    "    h2 = ax.plot( df2.index[idx], df2.loc[idx, varname], '.k')\n",
    "    idx_gf = np.logical_and( idx, df2[varname+'_FLAG'])\n",
    "    h2gf = ax.plot( df2.index[idx_gf], df2.loc[idx_gf, varname], '.r')\n",
    "    # Highlight the changed data points between old and new\n",
    "    diff = df2[varname]!=df1[varname]\n",
    "    diff = np.logical_and(idx, diff)\n",
    "    h3 = ax.plot( df2.index[diff], df2.loc[diff, varname], marker='o',\n",
    "                 mew=0.2, color='GoldenRod', ms=5, ls='none', fillstyle='none')\n",
    "    plt.ylabel(varname)\n",
    "\n",
    "# Now loop through variables and plot\n",
    "fig1 = plt.figure( figsize=( 16.5, 10.5 ), dpi=100)\n",
    "varlist = ['FC_F', 'TA_F', 'H_F', 'LE_F']\n",
    "for i, name in enumerate(varlist):\n",
    "    iterplot2(old, new, name, fig1, i, yridx)\n",
    "\n",
    "fig1.axes[0].legend( ['Old', 'Old-GF', 'New', 'New-GF', 'GF-Changed'], loc='upper right', ncol=3)"
   ]
  },
  {
   "cell_type": "markdown",
   "metadata": {},
   "source": [
    "## Check for USTAR filter"
   ]
  },
  {
   "cell_type": "code",
   "execution_count": 120,
   "metadata": {
    "collapsed": false
   },
   "outputs": [
    {
     "data": {
      "text/plain": [
       "<matplotlib.legend.Legend at 0x7f5291d251d0>"
      ]
     },
     "execution_count": 120,
     "metadata": {},
     "output_type": "execute_result"
    }
   ],
   "source": [
    "varnm = 'GPP'\n",
    "\n",
    "figX = plt.figure( figsize=( 16.5, 10.5 ), dpi=100)\n",
    "ax1 = figX.add_subplot(121)\n",
    "h1 = ax1.scatter( new_wg.loc[yridx,'USTAR'], new_wg.loc[yridx,varnm], marker='o', color='0.7')\n",
    "h2 = ax1.scatter( old_wg.loc[yridx,'USTAR'], old_wg.loc[yridx,varnm], marker='.', color='black' )\n",
    "plt.ylabel('Fc (umol m-2 s-1)')\n",
    "plt.xlabel('u*')\n",
    "plt.title('All values')\n",
    "plt.legend( ['New', 'Old'], loc='lower right' )\n",
    "\n",
    "# Also plot nighttime values\n",
    "idx_new = np.logical_or(new_wg.index.hour < 5, new_wg.index.hour > 20)\n",
    "idx_old = np.logical_or(old_wg.index.hour < 5, old_wg.index.hour > 20)\n",
    "idx_new = np.logical_and(idx_new, yridx)\n",
    "idx_old = np.logical_and(idx_old, yridx)\n",
    "\n",
    "ax2 = figX.add_subplot(122)\n",
    "h3 = ax2.scatter( new_wg.loc[idx_new,'USTAR'], new_wg.loc[idx_new,varnm], marker='o', color='0.7')\n",
    "h4 = ax2.scatter( old_wg.loc[idx_old,'USTAR'], old_wg.loc[idx_old,varnm], marker='.', color='black' )\n",
    "plt.xlabel('u*')\n",
    "plt.ylabel('Fc (umol m-2 s-1)')\n",
    "plt.title('Nighttime values')\n",
    "plt.legend( ['New', 'Old'], loc='lower right' )"
   ]
  },
  {
   "cell_type": "markdown",
   "metadata": {},
   "source": [
    "## Check CO2 filter"
   ]
  },
  {
   "cell_type": "code",
   "execution_count": 113,
   "metadata": {
    "collapsed": false
   },
   "outputs": [
    {
     "data": {
      "text/plain": [
       "<matplotlib.legend.Legend at 0x7f529a0bcb38>"
      ]
     },
     "execution_count": 113,
     "metadata": {},
     "output_type": "execute_result"
    }
   ],
   "source": [
    "figX = plt.figure( figsize=( 16.5, 10.5 ), dpi=100)\n",
    "ax1 = figX.add_subplot(121)\n",
    "h1 = ax1.scatter( new_wg.loc[yridx,'CO2'], new_wg.loc[yridx,'FC'], marker='o', color='0.7')\n",
    "h2 = ax1.scatter( old_wg.loc[yridx,'CO2'], old_wg.loc[yridx,'FC'], marker='.', color='black' )\n",
    "plt.ylabel('Fc (umol m-2 s-1)')\n",
    "plt.xlabel('[CO2]')\n",
    "plt.title('All values')\n",
    "plt.legend( ['New', 'Old'], loc='lower right' )\n",
    "\n",
    "# Also plot nighttime values\n",
    "idx_new = np.logical_or(new_wg.index.hour < 5, new_wg.index.hour > 20)\n",
    "idx_old = np.logical_or(old_wg.index.hour < 5, old_wg.index.hour > 20)\n",
    "idx_new = np.logical_and(idx_new, yridx)\n",
    "idx_old = np.logical_and(idx_old, yridx)\n",
    "\n",
    "ax2 = figX.add_subplot(122)\n",
    "h3 = ax2.scatter( new_wg.loc[idx_new,'CO2'], new_wg.loc[idx_new,'FC'], marker='o', color='0.7')\n",
    "h4 = ax2.scatter( old_wg.loc[idx_old,'CO2'], old_wg.loc[idx_old,'FC'], marker='.', color='black' )\n",
    "plt.ylabel('Fc (umol m-2 s-1)')\n",
    "plt.xlabel('[CO2]')\n",
    "plt.title('Nighttime values')\n",
    "plt.legend( ['New', 'Old'], loc='lower right' )"
   ]
  },
  {
   "cell_type": "markdown",
   "metadata": {},
   "source": [
    "### Plot hourly diagnostics (not gapfilled versions)"
   ]
  },
  {
   "cell_type": "code",
   "execution_count": 81,
   "metadata": {
    "collapsed": false
   },
   "outputs": [
    {
     "data": {
      "text/plain": [
       "(array([     0.,  10000.,  20000.,  30000.,  40000.,  50000.,  60000.,\n",
       "         70000.,  80000.,  90000.]), <a list of 10 Text xticklabel objects>)"
      ]
     },
     "execution_count": 81,
     "metadata": {},
     "output_type": "execute_result"
    }
   ],
   "source": [
    "# Select flux variable to plot\n",
    "var = 'FC'\n",
    "\n",
    "fig1 = plt.figure( figsize=( 11.5, 8.5 ), dpi=100, facecolor='w', edgecolor='k' )\n",
    "ax1 = fig1.add_subplot(2,3,(1,3))\n",
    "h1 = ax1.plot(old_wg.index, old_wg[var] - new_wg[var])\n",
    "plt.ylabel('Residual ' + var + ' (umol m-2 s-1)')\n",
    "\n",
    "ax2 = fig1.add_subplot(2,3,4)\n",
    "h1 = ax2.scatter( old_wg[var], new_wg[var] )\n",
    "plt.ylabel('New ' + var + ' (umol m-2 s-1)')\n",
    "plt.xlabel('Old ' + var + ' (umol m-2 s-1)')\n",
    "\n",
    "ax3 = fig1.add_subplot(2,3,5)\n",
    "h1 = ax3.scatter( old_wg.USTAR, old_wg[var] - new_wg[var] )\n",
    "plt.ylabel('Residual ' + var + ' (umol m-2 s-1)')\n",
    "plt.xlabel('USTAR')\n",
    "\n",
    "ax4 = fig1.add_subplot(2,3,6)\n",
    "h1 = ax4.scatter( old_wg.index.time, old_wg[var] - new_wg[var] )\n",
    "plt.ylabel('Residual ' + var + ' (umol m-2 s-1)')\n",
    "plt.xlabel('time of day')\n",
    "plt.xlim([0, 24*60*60])\n",
    "plt.xticks(rotation=70)\n",
    "#plt.legend( ['New', 'Old'], loc='lower right' )"
   ]
  },
  {
   "cell_type": "markdown",
   "metadata": {},
   "source": [
    "### Plot hourly diagnostics - gapfilled versions"
   ]
  },
  {
   "cell_type": "code",
   "execution_count": 78,
   "metadata": {
    "collapsed": false
   },
   "outputs": [
    {
     "data": {
      "text/plain": [
       "(array([     0.,  10000.,  20000.,  30000.,  40000.,  50000.,  60000.,\n",
       "         70000.,  80000.,  90000.]), <a list of 10 Text xticklabel objects>)"
      ]
     },
     "execution_count": 78,
     "metadata": {},
     "output_type": "execute_result"
    }
   ],
   "source": [
    "# Select flux variable to plot\n",
    "var = 'FC_F'\n",
    "\n",
    "fig1 = plt.figure( figsize=( 11.5, 8.5 ), dpi=100, facecolor='w', edgecolor='k' )\n",
    "ax1 = fig1.add_subplot(2,3,(1,3))\n",
    "h1 = ax1.plot(old.index, old[var] - new[var])\n",
    "plt.ylabel('Residual ' + var + ' (umol m-2 s-1)')\n",
    "\n",
    "ax2 = fig1.add_subplot(2,3,4)\n",
    "h1 = ax2.scatter( old[var], new[var] )\n",
    "plt.ylabel('New ' + var + ' (umol m-2 s-1)')\n",
    "plt.xlabel('Old ' + var + ' (umol m-2 s-1)')\n",
    "\n",
    "ax3 = fig1.add_subplot(2,3,5)\n",
    "h1 = ax3.scatter( old.USTAR, old[var] - new[var] )\n",
    "plt.ylabel('Residual ' + var + ' (umol m-2 s-1)')\n",
    "plt.xlabel('USTAR')\n",
    "\n",
    "ax4 = fig1.add_subplot(2,3,6)\n",
    "h1 = ax4.scatter( old.index.time, old[var] - new[var] )\n",
    "plt.ylabel('Residual ' + var + ' (umol m-2 s-1)')\n",
    "plt.xlabel('time of day')\n",
    "plt.xlim([0, 24*60*60])\n",
    "plt.xticks(rotation=70)\n",
    "#plt.legend( ['New', 'Old'], loc='lower right' )"
   ]
  },
  {
   "cell_type": "markdown",
   "metadata": {},
   "source": [
    "## Daily data"
   ]
  },
  {
   "cell_type": "code",
   "execution_count": 82,
   "metadata": {
    "collapsed": false
   },
   "outputs": [
    {
     "name": "stdout",
     "output_type": "stream",
     "text": [
      "Parsing ~/data/current/NMEG_utils/processed_data/daily_aflx/US-Seg_daily_aflx.csv\n"
     ]
    },
    {
     "ename": "OSError",
     "evalue": "File b'/home/greg/data/current/NMEG_utils/processed_data/daily_aflx/US-Seg_daily_aflx.csv' does not exist",
     "output_type": "error",
     "traceback": [
      "\u001b[0;31m---------------------------------------------------------------------------\u001b[0m",
      "\u001b[0;31mOSError\u001b[0m                                   Traceback (most recent call last)",
      "\u001b[0;32m<ipython-input-82-fa78a7bbbed3>\u001b[0m in \u001b[0;36m<module>\u001b[0;34m()\u001b[0m\n\u001b[1;32m      8\u001b[0m daily = { x : \n\u001b[1;32m      9\u001b[0m          \u001b[0mld\u001b[0m\u001b[0;34m.\u001b[0m\u001b[0mload_local_file\u001b[0m\u001b[0;34m(\u001b[0m \u001b[0mnew_path\u001b[0m \u001b[0;34m+\u001b[0m \u001b[0;34m'US-'\u001b[0m \u001b[0;34m+\u001b[0m \u001b[0mx\u001b[0m \u001b[0;34m+\u001b[0m \u001b[0;34m'_daily_aflx.csv'\u001b[0m\u001b[0;34m)\u001b[0m\u001b[0;34m\u001b[0m\u001b[0m\n\u001b[0;32m---> 10\u001b[0;31m          for x in sites }\n\u001b[0m\u001b[1;32m     11\u001b[0m \u001b[0md\u001b[0m \u001b[0;34m=\u001b[0m \u001b[0mpd\u001b[0m\u001b[0;34m.\u001b[0m\u001b[0mPanel\u001b[0m\u001b[0;34m(\u001b[0m\u001b[0mdaily\u001b[0m\u001b[0;34m)\u001b[0m\u001b[0;34m\u001b[0m\u001b[0m\n\u001b[1;32m     12\u001b[0m \u001b[0;31m# Old data\u001b[0m\u001b[0;34m\u001b[0m\u001b[0;34m\u001b[0m\u001b[0m\n",
      "\u001b[0;32m<ipython-input-82-fa78a7bbbed3>\u001b[0m in \u001b[0;36m<dictcomp>\u001b[0;34m(.0)\u001b[0m\n\u001b[1;32m      8\u001b[0m daily = { x : \n\u001b[1;32m      9\u001b[0m          \u001b[0mld\u001b[0m\u001b[0;34m.\u001b[0m\u001b[0mload_local_file\u001b[0m\u001b[0;34m(\u001b[0m \u001b[0mnew_path\u001b[0m \u001b[0;34m+\u001b[0m \u001b[0;34m'US-'\u001b[0m \u001b[0;34m+\u001b[0m \u001b[0mx\u001b[0m \u001b[0;34m+\u001b[0m \u001b[0;34m'_daily_aflx.csv'\u001b[0m\u001b[0;34m)\u001b[0m\u001b[0;34m\u001b[0m\u001b[0m\n\u001b[0;32m---> 10\u001b[0;31m          for x in sites }\n\u001b[0m\u001b[1;32m     11\u001b[0m \u001b[0md\u001b[0m \u001b[0;34m=\u001b[0m \u001b[0mpd\u001b[0m\u001b[0;34m.\u001b[0m\u001b[0mPanel\u001b[0m\u001b[0;34m(\u001b[0m\u001b[0mdaily\u001b[0m\u001b[0;34m)\u001b[0m\u001b[0;34m\u001b[0m\u001b[0m\n\u001b[1;32m     12\u001b[0m \u001b[0;31m# Old data\u001b[0m\u001b[0;34m\u001b[0m\u001b[0;34m\u001b[0m\u001b[0m\n",
      "\u001b[0;32m/home/greg/current/NMEG_utils/py_modules/load_nmeg.py\u001b[0m in \u001b[0;36mload_local_file\u001b[0;34m(fname, yrtrim)\u001b[0m\n\u001b[1;32m    142\u001b[0m     parsed_df =  pd.read_csv( fname, skiprows=range(0,6), header=0,\n\u001b[1;32m    143\u001b[0m             \u001b[0mdelimiter\u001b[0m\u001b[0;34m=\u001b[0m\u001b[0;34m','\u001b[0m\u001b[0;34m,\u001b[0m \u001b[0mindex_col\u001b[0m\u001b[0;34m=\u001b[0m\u001b[0;36m0\u001b[0m\u001b[0;34m,\u001b[0m \u001b[0mparse_dates\u001b[0m\u001b[0;34m=\u001b[0m\u001b[0;32mTrue\u001b[0m\u001b[0;34m,\u001b[0m\u001b[0;34m\u001b[0m\u001b[0m\n\u001b[0;32m--> 144\u001b[0;31m             na_values='NA' )\n\u001b[0m\u001b[1;32m    145\u001b[0m \u001b[0;34m\u001b[0m\u001b[0m\n\u001b[1;32m    146\u001b[0m     \u001b[0;31m# If trim years provided, reindex to include every day during the\u001b[0m\u001b[0;34m\u001b[0m\u001b[0;34m\u001b[0m\u001b[0m\n",
      "\u001b[0;32m/home/greg/data/anaconda3/lib/python3.4/site-packages/pandas/io/parsers.py\u001b[0m in \u001b[0;36mparser_f\u001b[0;34m(filepath_or_buffer, sep, delimiter, header, names, index_col, usecols, squeeze, prefix, mangle_dupe_cols, dtype, engine, converters, true_values, false_values, skipinitialspace, skiprows, skipfooter, nrows, na_values, keep_default_na, na_filter, verbose, skip_blank_lines, parse_dates, infer_datetime_format, keep_date_col, date_parser, dayfirst, iterator, chunksize, compression, thousands, decimal, lineterminator, quotechar, quoting, escapechar, comment, encoding, dialect, tupleize_cols, error_bad_lines, warn_bad_lines, skip_footer, doublequote, delim_whitespace, as_recarray, compact_ints, use_unsigned, low_memory, buffer_lines, memory_map, float_precision)\u001b[0m\n\u001b[1;32m    560\u001b[0m                     skip_blank_lines=skip_blank_lines)\n\u001b[1;32m    561\u001b[0m \u001b[0;34m\u001b[0m\u001b[0m\n\u001b[0;32m--> 562\u001b[0;31m         \u001b[0;32mreturn\u001b[0m \u001b[0m_read\u001b[0m\u001b[0;34m(\u001b[0m\u001b[0mfilepath_or_buffer\u001b[0m\u001b[0;34m,\u001b[0m \u001b[0mkwds\u001b[0m\u001b[0;34m)\u001b[0m\u001b[0;34m\u001b[0m\u001b[0m\n\u001b[0m\u001b[1;32m    563\u001b[0m \u001b[0;34m\u001b[0m\u001b[0m\n\u001b[1;32m    564\u001b[0m     \u001b[0mparser_f\u001b[0m\u001b[0;34m.\u001b[0m\u001b[0m__name__\u001b[0m \u001b[0;34m=\u001b[0m \u001b[0mname\u001b[0m\u001b[0;34m\u001b[0m\u001b[0m\n",
      "\u001b[0;32m/home/greg/data/anaconda3/lib/python3.4/site-packages/pandas/io/parsers.py\u001b[0m in \u001b[0;36m_read\u001b[0;34m(filepath_or_buffer, kwds)\u001b[0m\n\u001b[1;32m    313\u001b[0m \u001b[0;34m\u001b[0m\u001b[0m\n\u001b[1;32m    314\u001b[0m     \u001b[0;31m# Create the parser.\u001b[0m\u001b[0;34m\u001b[0m\u001b[0;34m\u001b[0m\u001b[0m\n\u001b[0;32m--> 315\u001b[0;31m     \u001b[0mparser\u001b[0m \u001b[0;34m=\u001b[0m \u001b[0mTextFileReader\u001b[0m\u001b[0;34m(\u001b[0m\u001b[0mfilepath_or_buffer\u001b[0m\u001b[0;34m,\u001b[0m \u001b[0;34m**\u001b[0m\u001b[0mkwds\u001b[0m\u001b[0;34m)\u001b[0m\u001b[0;34m\u001b[0m\u001b[0m\n\u001b[0m\u001b[1;32m    316\u001b[0m \u001b[0;34m\u001b[0m\u001b[0m\n\u001b[1;32m    317\u001b[0m     \u001b[0;32mif\u001b[0m \u001b[0;34m(\u001b[0m\u001b[0mnrows\u001b[0m \u001b[0;32mis\u001b[0m \u001b[0;32mnot\u001b[0m \u001b[0;32mNone\u001b[0m\u001b[0;34m)\u001b[0m \u001b[0;32mand\u001b[0m \u001b[0;34m(\u001b[0m\u001b[0mchunksize\u001b[0m \u001b[0;32mis\u001b[0m \u001b[0;32mnot\u001b[0m \u001b[0;32mNone\u001b[0m\u001b[0;34m)\u001b[0m\u001b[0;34m:\u001b[0m\u001b[0;34m\u001b[0m\u001b[0m\n",
      "\u001b[0;32m/home/greg/data/anaconda3/lib/python3.4/site-packages/pandas/io/parsers.py\u001b[0m in \u001b[0;36m__init__\u001b[0;34m(self, f, engine, **kwds)\u001b[0m\n\u001b[1;32m    643\u001b[0m             \u001b[0mself\u001b[0m\u001b[0;34m.\u001b[0m\u001b[0moptions\u001b[0m\u001b[0;34m[\u001b[0m\u001b[0;34m'has_index_names'\u001b[0m\u001b[0;34m]\u001b[0m \u001b[0;34m=\u001b[0m \u001b[0mkwds\u001b[0m\u001b[0;34m[\u001b[0m\u001b[0;34m'has_index_names'\u001b[0m\u001b[0;34m]\u001b[0m\u001b[0;34m\u001b[0m\u001b[0m\n\u001b[1;32m    644\u001b[0m \u001b[0;34m\u001b[0m\u001b[0m\n\u001b[0;32m--> 645\u001b[0;31m         \u001b[0mself\u001b[0m\u001b[0;34m.\u001b[0m\u001b[0m_make_engine\u001b[0m\u001b[0;34m(\u001b[0m\u001b[0mself\u001b[0m\u001b[0;34m.\u001b[0m\u001b[0mengine\u001b[0m\u001b[0;34m)\u001b[0m\u001b[0;34m\u001b[0m\u001b[0m\n\u001b[0m\u001b[1;32m    646\u001b[0m \u001b[0;34m\u001b[0m\u001b[0m\n\u001b[1;32m    647\u001b[0m     \u001b[0;32mdef\u001b[0m \u001b[0mclose\u001b[0m\u001b[0;34m(\u001b[0m\u001b[0mself\u001b[0m\u001b[0;34m)\u001b[0m\u001b[0;34m:\u001b[0m\u001b[0;34m\u001b[0m\u001b[0m\n",
      "\u001b[0;32m/home/greg/data/anaconda3/lib/python3.4/site-packages/pandas/io/parsers.py\u001b[0m in \u001b[0;36m_make_engine\u001b[0;34m(self, engine)\u001b[0m\n\u001b[1;32m    797\u001b[0m     \u001b[0;32mdef\u001b[0m \u001b[0m_make_engine\u001b[0m\u001b[0;34m(\u001b[0m\u001b[0mself\u001b[0m\u001b[0;34m,\u001b[0m \u001b[0mengine\u001b[0m\u001b[0;34m=\u001b[0m\u001b[0;34m'c'\u001b[0m\u001b[0;34m)\u001b[0m\u001b[0;34m:\u001b[0m\u001b[0;34m\u001b[0m\u001b[0m\n\u001b[1;32m    798\u001b[0m         \u001b[0;32mif\u001b[0m \u001b[0mengine\u001b[0m \u001b[0;34m==\u001b[0m \u001b[0;34m'c'\u001b[0m\u001b[0;34m:\u001b[0m\u001b[0;34m\u001b[0m\u001b[0m\n\u001b[0;32m--> 799\u001b[0;31m             \u001b[0mself\u001b[0m\u001b[0;34m.\u001b[0m\u001b[0m_engine\u001b[0m \u001b[0;34m=\u001b[0m \u001b[0mCParserWrapper\u001b[0m\u001b[0;34m(\u001b[0m\u001b[0mself\u001b[0m\u001b[0;34m.\u001b[0m\u001b[0mf\u001b[0m\u001b[0;34m,\u001b[0m \u001b[0;34m**\u001b[0m\u001b[0mself\u001b[0m\u001b[0;34m.\u001b[0m\u001b[0moptions\u001b[0m\u001b[0;34m)\u001b[0m\u001b[0;34m\u001b[0m\u001b[0m\n\u001b[0m\u001b[1;32m    800\u001b[0m         \u001b[0;32melse\u001b[0m\u001b[0;34m:\u001b[0m\u001b[0;34m\u001b[0m\u001b[0m\n\u001b[1;32m    801\u001b[0m             \u001b[0;32mif\u001b[0m \u001b[0mengine\u001b[0m \u001b[0;34m==\u001b[0m \u001b[0;34m'python'\u001b[0m\u001b[0;34m:\u001b[0m\u001b[0;34m\u001b[0m\u001b[0m\n",
      "\u001b[0;32m/home/greg/data/anaconda3/lib/python3.4/site-packages/pandas/io/parsers.py\u001b[0m in \u001b[0;36m__init__\u001b[0;34m(self, src, **kwds)\u001b[0m\n\u001b[1;32m   1211\u001b[0m         \u001b[0mkwds\u001b[0m\u001b[0;34m[\u001b[0m\u001b[0;34m'allow_leading_cols'\u001b[0m\u001b[0;34m]\u001b[0m \u001b[0;34m=\u001b[0m \u001b[0mself\u001b[0m\u001b[0;34m.\u001b[0m\u001b[0mindex_col\u001b[0m \u001b[0;32mis\u001b[0m \u001b[0;32mnot\u001b[0m \u001b[0;32mFalse\u001b[0m\u001b[0;34m\u001b[0m\u001b[0m\n\u001b[1;32m   1212\u001b[0m \u001b[0;34m\u001b[0m\u001b[0m\n\u001b[0;32m-> 1213\u001b[0;31m         \u001b[0mself\u001b[0m\u001b[0;34m.\u001b[0m\u001b[0m_reader\u001b[0m \u001b[0;34m=\u001b[0m \u001b[0m_parser\u001b[0m\u001b[0;34m.\u001b[0m\u001b[0mTextReader\u001b[0m\u001b[0;34m(\u001b[0m\u001b[0msrc\u001b[0m\u001b[0;34m,\u001b[0m \u001b[0;34m**\u001b[0m\u001b[0mkwds\u001b[0m\u001b[0;34m)\u001b[0m\u001b[0;34m\u001b[0m\u001b[0m\n\u001b[0m\u001b[1;32m   1214\u001b[0m \u001b[0;34m\u001b[0m\u001b[0m\n\u001b[1;32m   1215\u001b[0m         \u001b[0;31m# XXX\u001b[0m\u001b[0;34m\u001b[0m\u001b[0;34m\u001b[0m\u001b[0m\n",
      "\u001b[0;32mpandas/parser.pyx\u001b[0m in \u001b[0;36mpandas.parser.TextReader.__cinit__ (pandas/parser.c:3427)\u001b[0;34m()\u001b[0m\n",
      "\u001b[0;32mpandas/parser.pyx\u001b[0m in \u001b[0;36mpandas.parser.TextReader._setup_parser_source (pandas/parser.c:6861)\u001b[0;34m()\u001b[0m\n",
      "\u001b[0;31mOSError\u001b[0m: File b'/home/greg/data/current/NMEG_utils/processed_data/daily_aflx/US-Seg_daily_aflx.csv' does not exist"
     ]
    }
   ],
   "source": [
    "new_path = '~/data/current/NMEG_utils/processed_data/daily_aflx/FLUXNET2015_a_rev1'\n",
    "old_path = '~/data/current/NMEG_utils/processed_data/daily_aflx/FLUXNET2015_litvakustar/'\n",
    "\n",
    "# Load all sites (its fast anyway)\n",
    "sites = ['Seg', 'Ses', 'Sen', 'Wjs', 'Mpj', 'Mpg', 'Vcp', 'Vcm']\n",
    "\n",
    "# New data\n",
    "daily = { x : \n",
    "         ld.load_local_file( new_path + 'US-' + x + '_daily_aflx.csv')\n",
    "         for x in sites }\n",
    "d = pd.Panel(daily)\n",
    "# Old data\n",
    "daily_old = { x : \n",
    "         ld.load_local_file( old_path + 'US-' + x + '_daily_aflx.csv')\n",
    "         for x in sites }\n",
    "d_old = pd.Panel(daily_old)"
   ]
  },
  {
   "cell_type": "markdown",
   "metadata": {},
   "source": [
    "## Plot daily timeseries"
   ]
  },
  {
   "cell_type": "code",
   "execution_count": 38,
   "metadata": {
    "collapsed": false
   },
   "outputs": [
    {
     "data": {
      "text/plain": [
       "<matplotlib.text.Text at 0x7f3aea4d3400>"
      ]
     },
     "execution_count": 38,
     "metadata": {},
     "output_type": "execute_result"
    }
   ],
   "source": [
    "# Load for one site\n",
    "#site = 'Seg'\n",
    "\n",
    "fig0 = plt.figure( figsize=( 16.5, 10.5 ), dpi=100, facecolor='w', edgecolor='k' )\n",
    "ax1 = fig0.add_subplot(411)\n",
    "h1 = ax1.plot( d[site].index, d[site].FC_F_g_int ) \n",
    "h2 = ax1.plot( d_old[site].index, d_old[site].FC_F_g_int )\n",
    "plt.ylabel('Fc (umol m-2)')\n",
    "plt.legend( ['New', 'Old'], loc='lower right' )\n",
    "\n",
    "ax2 = fig0.add_subplot(412)\n",
    "h1 = ax2.plot( d[site].index, d[site].GPP_g_int ) \n",
    "h2 = ax2.plot( d_old[site].index, d_old[site].GPP_g_int )\n",
    "plt.ylabel('GPP (umol m-2)')\n",
    "\n",
    "ax3 = fig0.add_subplot(413)\n",
    "h1 = ax3.plot( d[site].index, d[site].RECO_g_int ) \n",
    "h2 = ax3.plot( d_old[site].index, d_old[site].RECO_g_int )\n",
    "plt.ylabel('RECO (umol m-2)')\n",
    "\n",
    "ax4 = fig0.add_subplot(414)\n",
    "h1 = ax4.plot( d[site].index, d[site].ET_mm_24hint_0 ) \n",
    "h2 = ax4.plot( d_old[site].index, d_old[site].ET_mm_24hint_0 )\n",
    "plt.ylabel('ET (mm m-2)')"
   ]
  },
  {
   "cell_type": "markdown",
   "metadata": {},
   "source": [
    "## Annual cumulative fluxes"
   ]
  },
  {
   "cell_type": "code",
   "execution_count": null,
   "metadata": {
    "collapsed": true
   },
   "outputs": [],
   "source": [
    "# Create dictionaries with modified climatology (see mod_clim)\n",
    "# for each site\n",
    "fc_clim = { s : tr.var_climatology( d[s].FC_F_g_int ) for s in sites}\n",
    "gpp_clim = { s : tr.var_climatology( d[s].GPP_g_int ) for s in sites}\n",
    "re_clim = { s :tr.var_climatology( d[s].RECO_g_int ) for s in sites}\n",
    "et_clim = { s : tr.var_climatology( d[s].ET_mm_24hint_0 ) for s in sites}\n",
    "\n",
    "fc_clim_old = { s : tr.var_climatology( d_old[s].FC_F_g_int ) for s in sites}\n",
    "gpp_clim_old = { s : tr.var_climatology( d_old[s].GPP_g_int ) for s in sites}\n",
    "re_clim_old = { s :tr.var_climatology( d_old[s].RECO_g_int ) for s in sites}\n",
    "et_clim_old = { s : tr.var_climatology( d_old[s].ET_mm_24hint_0 ) for s in sites}\n",
    "\n",
    "# Function to make an annual table from a climatology\n",
    "def climtable(clim, sitelist):\n",
    "    # Make a table\n",
    "    indices = ['2007', '2008', '2009', '2010', '2011', '2012', '2013',\n",
    "               '2014', '2015', 'allyr_mean', 'allyr_stdev']\n",
    "    tbl = pd.DataFrame(columns=sitelist, index = indices)\n",
    "    # Sum up the climatology columns for the site\n",
    "    for site in sitelist:\n",
    "        sums = clim[site].sum()\n",
    "        # Add each sum to correct site column\n",
    "        for j in indices:\n",
    "            tbl.loc[j, site] = sums[j]\n",
    "    \n",
    "    return tbl"
   ]
  },
  {
   "cell_type": "markdown",
   "metadata": {},
   "source": [
    "### NEE, new vs old"
   ]
  },
  {
   "cell_type": "code",
   "execution_count": 40,
   "metadata": {
    "collapsed": false
   },
   "outputs": [
    {
     "data": {
      "text/html": [
       "<div>\n",
       "<table border=\"1\" class=\"dataframe\">\n",
       "  <thead>\n",
       "    <tr style=\"text-align: right;\">\n",
       "      <th></th>\n",
       "      <th>Seg</th>\n",
       "      <th>Ses</th>\n",
       "      <th>Sen</th>\n",
       "      <th>Wjs</th>\n",
       "      <th>Mpj</th>\n",
       "      <th>Mpg</th>\n",
       "      <th>Vcp</th>\n",
       "      <th>Vcm</th>\n",
       "    </tr>\n",
       "  </thead>\n",
       "  <tbody>\n",
       "    <tr>\n",
       "      <th>2007</th>\n",
       "      <td>51.4881</td>\n",
       "      <td>-29.7157</td>\n",
       "      <td>0</td>\n",
       "      <td>-96.5354</td>\n",
       "      <td>0</td>\n",
       "      <td>0</td>\n",
       "      <td>-394.023</td>\n",
       "      <td>-377.925</td>\n",
       "    </tr>\n",
       "    <tr>\n",
       "      <th>2008</th>\n",
       "      <td>69.8018</td>\n",
       "      <td>-36.6341</td>\n",
       "      <td>0</td>\n",
       "      <td>-74.8164</td>\n",
       "      <td>-135.507</td>\n",
       "      <td>0</td>\n",
       "      <td>-420.586</td>\n",
       "      <td>-315.194</td>\n",
       "    </tr>\n",
       "    <tr>\n",
       "      <th>2009</th>\n",
       "      <td>89.0585</td>\n",
       "      <td>-38.027</td>\n",
       "      <td>0</td>\n",
       "      <td>-121.694</td>\n",
       "      <td>-132.843</td>\n",
       "      <td>-202.578</td>\n",
       "      <td>-381.093</td>\n",
       "      <td>-246.658</td>\n",
       "    </tr>\n",
       "    <tr>\n",
       "      <th>2010</th>\n",
       "      <td>9.56343</td>\n",
       "      <td>-50.2597</td>\n",
       "      <td>-49.6294</td>\n",
       "      <td>-147.215</td>\n",
       "      <td>-212.245</td>\n",
       "      <td>-130.636</td>\n",
       "      <td>-365.343</td>\n",
       "      <td>-320.386</td>\n",
       "    </tr>\n",
       "    <tr>\n",
       "      <th>2011</th>\n",
       "      <td>108.987</td>\n",
       "      <td>10.2686</td>\n",
       "      <td>139.241</td>\n",
       "      <td>-58.8434</td>\n",
       "      <td>-83.3371</td>\n",
       "      <td>-57.1849</td>\n",
       "      <td>-140.974</td>\n",
       "      <td>-203.534</td>\n",
       "    </tr>\n",
       "    <tr>\n",
       "      <th>2012</th>\n",
       "      <td>63.9805</td>\n",
       "      <td>-23.4084</td>\n",
       "      <td>25.2057</td>\n",
       "      <td>-97.2082</td>\n",
       "      <td>-142.823</td>\n",
       "      <td>-95.8503</td>\n",
       "      <td>-172.262</td>\n",
       "      <td>-338.576</td>\n",
       "    </tr>\n",
       "    <tr>\n",
       "      <th>2013</th>\n",
       "      <td>4.97954</td>\n",
       "      <td>-40.6457</td>\n",
       "      <td>-78.5021</td>\n",
       "      <td>45.4419</td>\n",
       "      <td>-72.439</td>\n",
       "      <td>36.2029</td>\n",
       "      <td>-305.803</td>\n",
       "      <td>-114.654</td>\n",
       "    </tr>\n",
       "    <tr>\n",
       "      <th>2014</th>\n",
       "      <td>41.3959</td>\n",
       "      <td>-12.4544</td>\n",
       "      <td>-48.2824</td>\n",
       "      <td>-80.7155</td>\n",
       "      <td>-27.1398</td>\n",
       "      <td>-47.6662</td>\n",
       "      <td>-266.161</td>\n",
       "      <td>115.599</td>\n",
       "    </tr>\n",
       "    <tr>\n",
       "      <th>2015</th>\n",
       "      <td>80.3684</td>\n",
       "      <td>46.093</td>\n",
       "      <td>46.0441</td>\n",
       "      <td>-131.263</td>\n",
       "      <td>-82.194</td>\n",
       "      <td>-90.7524</td>\n",
       "      <td>-177.131</td>\n",
       "      <td>-109.104</td>\n",
       "    </tr>\n",
       "    <tr>\n",
       "      <th>allyr_mean</th>\n",
       "      <td>57.8168</td>\n",
       "      <td>-19.4811</td>\n",
       "      <td>5.71083</td>\n",
       "      <td>-89.011</td>\n",
       "      <td>-111.041</td>\n",
       "      <td>-83.7158</td>\n",
       "      <td>-290.809</td>\n",
       "      <td>-211.853</td>\n",
       "    </tr>\n",
       "    <tr>\n",
       "      <th>allyr_stdev</th>\n",
       "      <td>117.072</td>\n",
       "      <td>99.6006</td>\n",
       "      <td>174.854</td>\n",
       "      <td>163.213</td>\n",
       "      <td>185.845</td>\n",
       "      <td>181.568</td>\n",
       "      <td>346.416</td>\n",
       "      <td>296.063</td>\n",
       "    </tr>\n",
       "  </tbody>\n",
       "</table>\n",
       "</div>"
      ],
      "text/plain": [
       "                 Seg      Ses      Sen      Wjs      Mpj      Mpg      Vcp  \\\n",
       "2007         51.4881 -29.7157        0 -96.5354        0        0 -394.023   \n",
       "2008         69.8018 -36.6341        0 -74.8164 -135.507        0 -420.586   \n",
       "2009         89.0585  -38.027        0 -121.694 -132.843 -202.578 -381.093   \n",
       "2010         9.56343 -50.2597 -49.6294 -147.215 -212.245 -130.636 -365.343   \n",
       "2011         108.987  10.2686  139.241 -58.8434 -83.3371 -57.1849 -140.974   \n",
       "2012         63.9805 -23.4084  25.2057 -97.2082 -142.823 -95.8503 -172.262   \n",
       "2013         4.97954 -40.6457 -78.5021  45.4419  -72.439  36.2029 -305.803   \n",
       "2014         41.3959 -12.4544 -48.2824 -80.7155 -27.1398 -47.6662 -266.161   \n",
       "2015         80.3684   46.093  46.0441 -131.263  -82.194 -90.7524 -177.131   \n",
       "allyr_mean   57.8168 -19.4811  5.71083  -89.011 -111.041 -83.7158 -290.809   \n",
       "allyr_stdev  117.072  99.6006  174.854  163.213  185.845  181.568  346.416   \n",
       "\n",
       "                 Vcm  \n",
       "2007        -377.925  \n",
       "2008        -315.194  \n",
       "2009        -246.658  \n",
       "2010        -320.386  \n",
       "2011        -203.534  \n",
       "2012        -338.576  \n",
       "2013        -114.654  \n",
       "2014         115.599  \n",
       "2015        -109.104  \n",
       "allyr_mean  -211.853  \n",
       "allyr_stdev  296.063  "
      ]
     },
     "execution_count": 40,
     "metadata": {},
     "output_type": "execute_result"
    }
   ],
   "source": [
    "nee_t = climtable(fc_clim, sites)\n",
    "nee_t"
   ]
  },
  {
   "cell_type": "code",
   "execution_count": 41,
   "metadata": {
    "collapsed": false
   },
   "outputs": [
    {
     "data": {
      "text/html": [
       "<div>\n",
       "<table border=\"1\" class=\"dataframe\">\n",
       "  <thead>\n",
       "    <tr style=\"text-align: right;\">\n",
       "      <th></th>\n",
       "      <th>Seg</th>\n",
       "      <th>Ses</th>\n",
       "      <th>Sen</th>\n",
       "      <th>Wjs</th>\n",
       "      <th>Mpj</th>\n",
       "      <th>Mpg</th>\n",
       "      <th>Vcp</th>\n",
       "      <th>Vcm</th>\n",
       "    </tr>\n",
       "  </thead>\n",
       "  <tbody>\n",
       "    <tr>\n",
       "      <th>2007</th>\n",
       "      <td>53.6465</td>\n",
       "      <td>-39.4861</td>\n",
       "      <td>0</td>\n",
       "      <td>-89.195</td>\n",
       "      <td>0</td>\n",
       "      <td>0</td>\n",
       "      <td>-408.243</td>\n",
       "      <td>-429.677</td>\n",
       "    </tr>\n",
       "    <tr>\n",
       "      <th>2008</th>\n",
       "      <td>72.2512</td>\n",
       "      <td>-39.2138</td>\n",
       "      <td>0</td>\n",
       "      <td>-111.502</td>\n",
       "      <td>-143.56</td>\n",
       "      <td>0</td>\n",
       "      <td>-402.926</td>\n",
       "      <td>-338.389</td>\n",
       "    </tr>\n",
       "    <tr>\n",
       "      <th>2009</th>\n",
       "      <td>91.2814</td>\n",
       "      <td>-46.6966</td>\n",
       "      <td>0</td>\n",
       "      <td>-114.925</td>\n",
       "      <td>-141.269</td>\n",
       "      <td>-173.007</td>\n",
       "      <td>-383.446</td>\n",
       "      <td>-268.928</td>\n",
       "    </tr>\n",
       "    <tr>\n",
       "      <th>2010</th>\n",
       "      <td>6.16041</td>\n",
       "      <td>-56.2854</td>\n",
       "      <td>-61.6386</td>\n",
       "      <td>-164.493</td>\n",
       "      <td>-223.405</td>\n",
       "      <td>-137.871</td>\n",
       "      <td>-396.272</td>\n",
       "      <td>-347.93</td>\n",
       "    </tr>\n",
       "    <tr>\n",
       "      <th>2011</th>\n",
       "      <td>110.504</td>\n",
       "      <td>8.82576</td>\n",
       "      <td>111.148</td>\n",
       "      <td>-82.2557</td>\n",
       "      <td>-95.0323</td>\n",
       "      <td>-63.5299</td>\n",
       "      <td>-114.272</td>\n",
       "      <td>-216.773</td>\n",
       "    </tr>\n",
       "    <tr>\n",
       "      <th>2012</th>\n",
       "      <td>61.5254</td>\n",
       "      <td>-29.5376</td>\n",
       "      <td>23.066</td>\n",
       "      <td>-112.766</td>\n",
       "      <td>-157.709</td>\n",
       "      <td>-106.398</td>\n",
       "      <td>-149.749</td>\n",
       "      <td>-363.522</td>\n",
       "    </tr>\n",
       "    <tr>\n",
       "      <th>2013</th>\n",
       "      <td>6.63731</td>\n",
       "      <td>-44.9694</td>\n",
       "      <td>-84.6501</td>\n",
       "      <td>39.6621</td>\n",
       "      <td>-89.1845</td>\n",
       "      <td>25.5181</td>\n",
       "      <td>-240.795</td>\n",
       "      <td>-112.636</td>\n",
       "    </tr>\n",
       "    <tr>\n",
       "      <th>2014</th>\n",
       "      <td>39.7778</td>\n",
       "      <td>-23.2727</td>\n",
       "      <td>-56.6644</td>\n",
       "      <td>-83.1093</td>\n",
       "      <td>-45.149</td>\n",
       "      <td>-55.021</td>\n",
       "      <td>-273.625</td>\n",
       "      <td>94.9486</td>\n",
       "    </tr>\n",
       "    <tr>\n",
       "      <th>2015</th>\n",
       "      <td>77.2772</td>\n",
       "      <td>38.0971</td>\n",
       "      <td>36.3786</td>\n",
       "      <td>-138.491</td>\n",
       "      <td>-87.2163</td>\n",
       "      <td>-107.094</td>\n",
       "      <td>-135.83</td>\n",
       "      <td>-144.665</td>\n",
       "    </tr>\n",
       "    <tr>\n",
       "      <th>allyr_mean</th>\n",
       "      <td>57.7426</td>\n",
       "      <td>-25.902</td>\n",
       "      <td>-5.36149</td>\n",
       "      <td>-99.5682</td>\n",
       "      <td>-122.769</td>\n",
       "      <td>-87.8415</td>\n",
       "      <td>-277.541</td>\n",
       "      <td>-235.965</td>\n",
       "    </tr>\n",
       "    <tr>\n",
       "      <th>allyr_stdev</th>\n",
       "      <td>118.469</td>\n",
       "      <td>101.291</td>\n",
       "      <td>172.378</td>\n",
       "      <td>161.154</td>\n",
       "      <td>187.325</td>\n",
       "      <td>175.077</td>\n",
       "      <td>354.267</td>\n",
       "      <td>302.432</td>\n",
       "    </tr>\n",
       "  </tbody>\n",
       "</table>\n",
       "</div>"
      ],
      "text/plain": [
       "                 Seg      Ses      Sen      Wjs      Mpj      Mpg      Vcp  \\\n",
       "2007         53.6465 -39.4861        0  -89.195        0        0 -408.243   \n",
       "2008         72.2512 -39.2138        0 -111.502  -143.56        0 -402.926   \n",
       "2009         91.2814 -46.6966        0 -114.925 -141.269 -173.007 -383.446   \n",
       "2010         6.16041 -56.2854 -61.6386 -164.493 -223.405 -137.871 -396.272   \n",
       "2011         110.504  8.82576  111.148 -82.2557 -95.0323 -63.5299 -114.272   \n",
       "2012         61.5254 -29.5376   23.066 -112.766 -157.709 -106.398 -149.749   \n",
       "2013         6.63731 -44.9694 -84.6501  39.6621 -89.1845  25.5181 -240.795   \n",
       "2014         39.7778 -23.2727 -56.6644 -83.1093  -45.149  -55.021 -273.625   \n",
       "2015         77.2772  38.0971  36.3786 -138.491 -87.2163 -107.094  -135.83   \n",
       "allyr_mean   57.7426  -25.902 -5.36149 -99.5682 -122.769 -87.8415 -277.541   \n",
       "allyr_stdev  118.469  101.291  172.378  161.154  187.325  175.077  354.267   \n",
       "\n",
       "                 Vcm  \n",
       "2007        -429.677  \n",
       "2008        -338.389  \n",
       "2009        -268.928  \n",
       "2010         -347.93  \n",
       "2011        -216.773  \n",
       "2012        -363.522  \n",
       "2013        -112.636  \n",
       "2014         94.9486  \n",
       "2015        -144.665  \n",
       "allyr_mean  -235.965  \n",
       "allyr_stdev  302.432  "
      ]
     },
     "execution_count": 41,
     "metadata": {},
     "output_type": "execute_result"
    }
   ],
   "source": [
    "nee_old_t = climtable(fc_clim_old, sites)\n",
    "nee_old_t"
   ]
  },
  {
   "cell_type": "markdown",
   "metadata": {},
   "source": [
    "### ET, new vs old"
   ]
  },
  {
   "cell_type": "code",
   "execution_count": 42,
   "metadata": {
    "collapsed": false
   },
   "outputs": [
    {
     "data": {
      "text/html": [
       "<div>\n",
       "<table border=\"1\" class=\"dataframe\">\n",
       "  <thead>\n",
       "    <tr style=\"text-align: right;\">\n",
       "      <th></th>\n",
       "      <th>Seg</th>\n",
       "      <th>Ses</th>\n",
       "      <th>Sen</th>\n",
       "      <th>Wjs</th>\n",
       "      <th>Mpj</th>\n",
       "      <th>Mpg</th>\n",
       "      <th>Vcp</th>\n",
       "      <th>Vcm</th>\n",
       "    </tr>\n",
       "  </thead>\n",
       "  <tbody>\n",
       "    <tr>\n",
       "      <th>2007</th>\n",
       "      <td>321.083</td>\n",
       "      <td>302.711</td>\n",
       "      <td>0</td>\n",
       "      <td>338.431</td>\n",
       "      <td>0</td>\n",
       "      <td>0</td>\n",
       "      <td>724.701</td>\n",
       "      <td>633.933</td>\n",
       "    </tr>\n",
       "    <tr>\n",
       "      <th>2008</th>\n",
       "      <td>264.924</td>\n",
       "      <td>276.279</td>\n",
       "      <td>0</td>\n",
       "      <td>368.589</td>\n",
       "      <td>334.834</td>\n",
       "      <td>0</td>\n",
       "      <td>600.376</td>\n",
       "      <td>583.692</td>\n",
       "    </tr>\n",
       "    <tr>\n",
       "      <th>2009</th>\n",
       "      <td>229.137</td>\n",
       "      <td>217.606</td>\n",
       "      <td>0</td>\n",
       "      <td>277.432</td>\n",
       "      <td>313.95</td>\n",
       "      <td>319.247</td>\n",
       "      <td>580.259</td>\n",
       "      <td>542.248</td>\n",
       "    </tr>\n",
       "    <tr>\n",
       "      <th>2010</th>\n",
       "      <td>255.582</td>\n",
       "      <td>230.588</td>\n",
       "      <td>234.237</td>\n",
       "      <td>376.593</td>\n",
       "      <td>401.358</td>\n",
       "      <td>389.743</td>\n",
       "      <td>609.637</td>\n",
       "      <td>519.473</td>\n",
       "    </tr>\n",
       "    <tr>\n",
       "      <th>2011</th>\n",
       "      <td>154.073</td>\n",
       "      <td>152.799</td>\n",
       "      <td>124.693</td>\n",
       "      <td>236.215</td>\n",
       "      <td>274.506</td>\n",
       "      <td>252.362</td>\n",
       "      <td>510.384</td>\n",
       "      <td>455.999</td>\n",
       "    </tr>\n",
       "    <tr>\n",
       "      <th>2012</th>\n",
       "      <td>205.048</td>\n",
       "      <td>180.731</td>\n",
       "      <td>195.085</td>\n",
       "      <td>342.593</td>\n",
       "      <td>297.507</td>\n",
       "      <td>262.063</td>\n",
       "      <td>541.085</td>\n",
       "      <td>479.817</td>\n",
       "    </tr>\n",
       "    <tr>\n",
       "      <th>2013</th>\n",
       "      <td>250.466</td>\n",
       "      <td>223.53</td>\n",
       "      <td>234.543</td>\n",
       "      <td>334.231</td>\n",
       "      <td>328.484</td>\n",
       "      <td>345.667</td>\n",
       "      <td>567.516</td>\n",
       "      <td>276.941</td>\n",
       "    </tr>\n",
       "    <tr>\n",
       "      <th>2014</th>\n",
       "      <td>285.654</td>\n",
       "      <td>256.741</td>\n",
       "      <td>240.45</td>\n",
       "      <td>468.755</td>\n",
       "      <td>480.435</td>\n",
       "      <td>446.499</td>\n",
       "      <td>594.565</td>\n",
       "      <td>420.537</td>\n",
       "    </tr>\n",
       "    <tr>\n",
       "      <th>2015</th>\n",
       "      <td>268.956</td>\n",
       "      <td>305.449</td>\n",
       "      <td>266.012</td>\n",
       "      <td>592.847</td>\n",
       "      <td>540.286</td>\n",
       "      <td>512.146</td>\n",
       "      <td>737.738</td>\n",
       "      <td>547.771</td>\n",
       "    </tr>\n",
       "    <tr>\n",
       "      <th>allyr_mean</th>\n",
       "      <td>248.438</td>\n",
       "      <td>238.597</td>\n",
       "      <td>215.939</td>\n",
       "      <td>379.027</td>\n",
       "      <td>371.716</td>\n",
       "      <td>361.781</td>\n",
       "      <td>607.52</td>\n",
       "      <td>495.94</td>\n",
       "    </tr>\n",
       "    <tr>\n",
       "      <th>allyr_stdev</th>\n",
       "      <td>180.742</td>\n",
       "      <td>175.261</td>\n",
       "      <td>147.991</td>\n",
       "      <td>209.797</td>\n",
       "      <td>214.947</td>\n",
       "      <td>223.672</td>\n",
       "      <td>207.704</td>\n",
       "      <td>222.835</td>\n",
       "    </tr>\n",
       "  </tbody>\n",
       "</table>\n",
       "</div>"
      ],
      "text/plain": [
       "                 Seg      Ses      Sen      Wjs      Mpj      Mpg      Vcp  \\\n",
       "2007         321.083  302.711        0  338.431        0        0  724.701   \n",
       "2008         264.924  276.279        0  368.589  334.834        0  600.376   \n",
       "2009         229.137  217.606        0  277.432   313.95  319.247  580.259   \n",
       "2010         255.582  230.588  234.237  376.593  401.358  389.743  609.637   \n",
       "2011         154.073  152.799  124.693  236.215  274.506  252.362  510.384   \n",
       "2012         205.048  180.731  195.085  342.593  297.507  262.063  541.085   \n",
       "2013         250.466   223.53  234.543  334.231  328.484  345.667  567.516   \n",
       "2014         285.654  256.741   240.45  468.755  480.435  446.499  594.565   \n",
       "2015         268.956  305.449  266.012  592.847  540.286  512.146  737.738   \n",
       "allyr_mean   248.438  238.597  215.939  379.027  371.716  361.781   607.52   \n",
       "allyr_stdev  180.742  175.261  147.991  209.797  214.947  223.672  207.704   \n",
       "\n",
       "                 Vcm  \n",
       "2007         633.933  \n",
       "2008         583.692  \n",
       "2009         542.248  \n",
       "2010         519.473  \n",
       "2011         455.999  \n",
       "2012         479.817  \n",
       "2013         276.941  \n",
       "2014         420.537  \n",
       "2015         547.771  \n",
       "allyr_mean    495.94  \n",
       "allyr_stdev  222.835  "
      ]
     },
     "execution_count": 42,
     "metadata": {},
     "output_type": "execute_result"
    }
   ],
   "source": [
    "et_t = climtable(et_clim, sites)\n",
    "et_t"
   ]
  },
  {
   "cell_type": "code",
   "execution_count": 43,
   "metadata": {
    "collapsed": false
   },
   "outputs": [
    {
     "data": {
      "text/html": [
       "<div>\n",
       "<table border=\"1\" class=\"dataframe\">\n",
       "  <thead>\n",
       "    <tr style=\"text-align: right;\">\n",
       "      <th></th>\n",
       "      <th>Seg</th>\n",
       "      <th>Ses</th>\n",
       "      <th>Sen</th>\n",
       "      <th>Wjs</th>\n",
       "      <th>Mpj</th>\n",
       "      <th>Mpg</th>\n",
       "      <th>Vcp</th>\n",
       "      <th>Vcm</th>\n",
       "    </tr>\n",
       "  </thead>\n",
       "  <tbody>\n",
       "    <tr>\n",
       "      <th>2007</th>\n",
       "      <td>321.926</td>\n",
       "      <td>304.84</td>\n",
       "      <td>0</td>\n",
       "      <td>342.414</td>\n",
       "      <td>0</td>\n",
       "      <td>0</td>\n",
       "      <td>780.188</td>\n",
       "      <td>648.867</td>\n",
       "    </tr>\n",
       "    <tr>\n",
       "      <th>2008</th>\n",
       "      <td>266.02</td>\n",
       "      <td>280.335</td>\n",
       "      <td>0</td>\n",
       "      <td>374.534</td>\n",
       "      <td>340.657</td>\n",
       "      <td>0</td>\n",
       "      <td>643.63</td>\n",
       "      <td>592.183</td>\n",
       "    </tr>\n",
       "    <tr>\n",
       "      <th>2009</th>\n",
       "      <td>230.569</td>\n",
       "      <td>221.451</td>\n",
       "      <td>0</td>\n",
       "      <td>280.718</td>\n",
       "      <td>318.546</td>\n",
       "      <td>321.457</td>\n",
       "      <td>609.766</td>\n",
       "      <td>549.235</td>\n",
       "    </tr>\n",
       "    <tr>\n",
       "      <th>2010</th>\n",
       "      <td>256.654</td>\n",
       "      <td>233.981</td>\n",
       "      <td>235.167</td>\n",
       "      <td>379.911</td>\n",
       "      <td>408.226</td>\n",
       "      <td>392.691</td>\n",
       "      <td>650.056</td>\n",
       "      <td>524.386</td>\n",
       "    </tr>\n",
       "    <tr>\n",
       "      <th>2011</th>\n",
       "      <td>154.967</td>\n",
       "      <td>156.371</td>\n",
       "      <td>125.607</td>\n",
       "      <td>239.764</td>\n",
       "      <td>279.036</td>\n",
       "      <td>256.489</td>\n",
       "      <td>542.341</td>\n",
       "      <td>457.447</td>\n",
       "    </tr>\n",
       "    <tr>\n",
       "      <th>2012</th>\n",
       "      <td>205.693</td>\n",
       "      <td>183.291</td>\n",
       "      <td>196.195</td>\n",
       "      <td>347.571</td>\n",
       "      <td>301.489</td>\n",
       "      <td>264.297</td>\n",
       "      <td>576.069</td>\n",
       "      <td>481.135</td>\n",
       "    </tr>\n",
       "    <tr>\n",
       "      <th>2013</th>\n",
       "      <td>251.333</td>\n",
       "      <td>226.454</td>\n",
       "      <td>235.509</td>\n",
       "      <td>341.148</td>\n",
       "      <td>334.791</td>\n",
       "      <td>349.513</td>\n",
       "      <td>607.654</td>\n",
       "      <td>277.895</td>\n",
       "    </tr>\n",
       "    <tr>\n",
       "      <th>2014</th>\n",
       "      <td>287.061</td>\n",
       "      <td>259.922</td>\n",
       "      <td>241.674</td>\n",
       "      <td>474.387</td>\n",
       "      <td>489.027</td>\n",
       "      <td>450.374</td>\n",
       "      <td>640.135</td>\n",
       "      <td>429.478</td>\n",
       "    </tr>\n",
       "    <tr>\n",
       "      <th>2015</th>\n",
       "      <td>270.956</td>\n",
       "      <td>312.135</td>\n",
       "      <td>267.265</td>\n",
       "      <td>601.431</td>\n",
       "      <td>551.62</td>\n",
       "      <td>518.865</td>\n",
       "      <td>797.159</td>\n",
       "      <td>558.261</td>\n",
       "    </tr>\n",
       "    <tr>\n",
       "      <th>allyr_mean</th>\n",
       "      <td>249.577</td>\n",
       "      <td>242.192</td>\n",
       "      <td>217.008</td>\n",
       "      <td>384.297</td>\n",
       "      <td>378.231</td>\n",
       "      <td>365.49</td>\n",
       "      <td>649.894</td>\n",
       "      <td>502.475</td>\n",
       "    </tr>\n",
       "    <tr>\n",
       "      <th>allyr_stdev</th>\n",
       "      <td>181.217</td>\n",
       "      <td>177.873</td>\n",
       "      <td>148.551</td>\n",
       "      <td>211.816</td>\n",
       "      <td>218.187</td>\n",
       "      <td>225.767</td>\n",
       "      <td>217.805</td>\n",
       "      <td>225.361</td>\n",
       "    </tr>\n",
       "  </tbody>\n",
       "</table>\n",
       "</div>"
      ],
      "text/plain": [
       "                 Seg      Ses      Sen      Wjs      Mpj      Mpg      Vcp  \\\n",
       "2007         321.926   304.84        0  342.414        0        0  780.188   \n",
       "2008          266.02  280.335        0  374.534  340.657        0   643.63   \n",
       "2009         230.569  221.451        0  280.718  318.546  321.457  609.766   \n",
       "2010         256.654  233.981  235.167  379.911  408.226  392.691  650.056   \n",
       "2011         154.967  156.371  125.607  239.764  279.036  256.489  542.341   \n",
       "2012         205.693  183.291  196.195  347.571  301.489  264.297  576.069   \n",
       "2013         251.333  226.454  235.509  341.148  334.791  349.513  607.654   \n",
       "2014         287.061  259.922  241.674  474.387  489.027  450.374  640.135   \n",
       "2015         270.956  312.135  267.265  601.431   551.62  518.865  797.159   \n",
       "allyr_mean   249.577  242.192  217.008  384.297  378.231   365.49  649.894   \n",
       "allyr_stdev  181.217  177.873  148.551  211.816  218.187  225.767  217.805   \n",
       "\n",
       "                 Vcm  \n",
       "2007         648.867  \n",
       "2008         592.183  \n",
       "2009         549.235  \n",
       "2010         524.386  \n",
       "2011         457.447  \n",
       "2012         481.135  \n",
       "2013         277.895  \n",
       "2014         429.478  \n",
       "2015         558.261  \n",
       "allyr_mean   502.475  \n",
       "allyr_stdev  225.361  "
      ]
     },
     "execution_count": 43,
     "metadata": {},
     "output_type": "execute_result"
    }
   ],
   "source": [
    "et_old_t = climtable(et_clim_old, sites)\n",
    "et_old_t"
   ]
  }
 ],
 "metadata": {
  "anaconda-cloud": {},
  "kernelspec": {
   "display_name": "Python [default]",
   "language": "python",
   "name": "python3"
  },
  "language_info": {
   "codemirror_mode": {
    "name": "ipython",
    "version": 3
   },
   "file_extension": ".py",
   "mimetype": "text/x-python",
   "name": "python",
   "nbconvert_exporter": "python",
   "pygments_lexer": "ipython3",
   "version": "3.4.5"
  }
 },
 "nbformat": 4,
 "nbformat_minor": 0
}
